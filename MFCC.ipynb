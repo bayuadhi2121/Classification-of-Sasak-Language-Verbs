{
 "cells": [
  {
   "cell_type": "code",
   "execution_count": 22,
   "metadata": {},
   "outputs": [],
   "source": [
    "import tensorflow as tf\n",
    "import librosa\n",
    "import os \n",
    "import json"
   ]
  },
  {
   "cell_type": "code",
   "execution_count": 23,
   "metadata": {},
   "outputs": [],
   "source": [
    "DATASET_PATH=\"Dataset\"\n",
    "JSON_PATH=\"features.json\"\n",
    "SAMPLES_TO_CONSIDER=22050"
   ]
  },
  {
   "cell_type": "code",
   "execution_count": 24,
   "metadata": {},
   "outputs": [],
   "source": [
    "def preprocess_dataset(dataset_path, json_path, num_mfcc=13, n_fft=2048, hop_length=512):\n",
    "\n",
    "    # dictionary where we'll store mapping, labels, MFCCs and filenames\n",
    "    data = {\n",
    "        \"mapping\": [],#pathnya\n",
    "        \"labels\": [], #0-9 terdiri dari 10 klas\n",
    "        \"MFCCs\": [], #ektraksi fitur\n",
    "        \"files\": []\n",
    "    }\n",
    "\n",
    "\n",
    "    for i, (dirpath, dirnames, filenames) in enumerate(os.walk(dataset_path)):\n",
    "\n",
    "        if dirpath is not dataset_path:\n",
    "\n",
    "\n",
    "            label = dirpath.split(\"/\")[-1]\n",
    "            #ni digunakan untuk mendapatkan label dari nama direktori terakhir dalam path\n",
    "            data[\"mapping\"].append(label)\n",
    "            print(\"\\nProcessing: '{}'\".format(label))\n",
    "\n",
    "            for f in filenames:\n",
    "                file_path = os.path.join(dirpath, f)\n",
    "\n",
    "                signal, sample_rate = librosa.load(file_path)\n",
    "\n",
    "                if len(signal) >= SAMPLES_TO_CONSIDER:\n",
    "\n",
    "                    signal = signal[:SAMPLES_TO_CONSIDER]\n",
    "\n",
    "                    MFCCs = librosa.feature.mfcc(signal, sample_rate, n_mfcc=num_mfcc, n_fft=n_fft,\n",
    "                                                 hop_length=hop_length)\n",
    "\n",
    "                    data[\"MFCCs\"].append(MFCCs.T.tolist())\n",
    "                    data[\"labels\"].append(i-1)\n",
    "                    data[\"files\"].append(file_path)\n",
    "                    print(\"{}: {}\".format(file_path, i-1))\n",
    "\n",
    "    # save data in json file\n",
    "    with open(json_path, \"w\") as fp:\n",
    "        json.dump(data, fp, indent=4)"
   ]
  },
  {
   "cell_type": "code",
   "execution_count": 25,
   "metadata": {},
   "outputs": [
    {
     "name": "stdout",
     "output_type": "stream",
     "text": [
      "\n",
      "Processing: 'Dataset\\Aiq'\n",
      "Dataset\\Aiq\\Recording_505.wav: 0\n",
      "Dataset\\Aiq\\Recording_506.wav: 0\n"
     ]
    },
    {
     "name": "stderr",
     "output_type": "stream",
     "text": [
      "C:\\Users\\asus\\AppData\\Local\\Temp\\ipykernel_24176\\2826740799.py:31: FutureWarning: Pass y=[ 0.          0.          0.         ... -0.00940718 -0.0006765\n",
      "  0.01673565], sr=22050 as keyword args. From version 0.10 passing these as positional arguments will result in an error\n",
      "  MFCCs = librosa.feature.mfcc(signal, sample_rate, n_mfcc=num_mfcc, n_fft=n_fft,\n",
      "C:\\Users\\asus\\AppData\\Local\\Temp\\ipykernel_24176\\2826740799.py:31: FutureWarning: Pass y=[0.         0.         0.         ... 0.11960926 0.11540086 0.09505117], sr=22050 as keyword args. From version 0.10 passing these as positional arguments will result in an error\n",
      "  MFCCs = librosa.feature.mfcc(signal, sample_rate, n_mfcc=num_mfcc, n_fft=n_fft,\n",
      "C:\\Users\\asus\\AppData\\Local\\Temp\\ipykernel_24176\\2826740799.py:31: FutureWarning: Pass y=[0.         0.         0.         ... 0.02973231 0.02116727 0.01681376], sr=22050 as keyword args. From version 0.10 passing these as positional arguments will result in an error\n",
      "  MFCCs = librosa.feature.mfcc(signal, sample_rate, n_mfcc=num_mfcc, n_fft=n_fft,\n"
     ]
    },
    {
     "name": "stdout",
     "output_type": "stream",
     "text": [
      "Dataset\\Aiq\\Recording_507.wav: 0\n",
      "Dataset\\Aiq\\Recording_509.wav: 0\n",
      "Dataset\\Aiq\\Recording_510.wav: 0\n"
     ]
    },
    {
     "name": "stderr",
     "output_type": "stream",
     "text": [
      "C:\\Users\\asus\\AppData\\Local\\Temp\\ipykernel_24176\\2826740799.py:31: FutureWarning: Pass y=[ 0.          0.          0.         ... -0.00139689 -0.00210591\n",
      " -0.00268698], sr=22050 as keyword args. From version 0.10 passing these as positional arguments will result in an error\n",
      "  MFCCs = librosa.feature.mfcc(signal, sample_rate, n_mfcc=num_mfcc, n_fft=n_fft,\n",
      "C:\\Users\\asus\\AppData\\Local\\Temp\\ipykernel_24176\\2826740799.py:31: FutureWarning: Pass y=[0.         0.         0.         ... 0.0003694  0.00050297 0.00012759], sr=22050 as keyword args. From version 0.10 passing these as positional arguments will result in an error\n",
      "  MFCCs = librosa.feature.mfcc(signal, sample_rate, n_mfcc=num_mfcc, n_fft=n_fft,\n",
      "C:\\Users\\asus\\AppData\\Local\\Temp\\ipykernel_24176\\2826740799.py:31: FutureWarning: Pass y=[ 0.          0.          0.         ... -0.10130022 -0.05421894\n",
      " -0.03025622], sr=22050 as keyword args. From version 0.10 passing these as positional arguments will result in an error\n",
      "  MFCCs = librosa.feature.mfcc(signal, sample_rate, n_mfcc=num_mfcc, n_fft=n_fft,\n"
     ]
    },
    {
     "name": "stdout",
     "output_type": "stream",
     "text": [
      "Dataset\\Aiq\\Recording_511.wav: 0\n",
      "Dataset\\Aiq\\Recording_513.wav: 0\n",
      "Dataset\\Aiq\\Recording_514.wav: 0\n"
     ]
    },
    {
     "name": "stderr",
     "output_type": "stream",
     "text": [
      "C:\\Users\\asus\\AppData\\Local\\Temp\\ipykernel_24176\\2826740799.py:31: FutureWarning: Pass y=[ 0.          0.          0.         ... -0.04033497 -0.03247014\n",
      " -0.0216927 ], sr=22050 as keyword args. From version 0.10 passing these as positional arguments will result in an error\n",
      "  MFCCs = librosa.feature.mfcc(signal, sample_rate, n_mfcc=num_mfcc, n_fft=n_fft,\n",
      "C:\\Users\\asus\\AppData\\Local\\Temp\\ipykernel_24176\\2826740799.py:31: FutureWarning: Pass y=[ 0.          0.          0.         ... -0.02530239 -0.02625745\n",
      " -0.0222817 ], sr=22050 as keyword args. From version 0.10 passing these as positional arguments will result in an error\n",
      "  MFCCs = librosa.feature.mfcc(signal, sample_rate, n_mfcc=num_mfcc, n_fft=n_fft,\n",
      "C:\\Users\\asus\\AppData\\Local\\Temp\\ipykernel_24176\\2826740799.py:31: FutureWarning: Pass y=[ 0.          0.          0.         ... -0.05804995 -0.06042373\n",
      " -0.0517135 ], sr=22050 as keyword args. From version 0.10 passing these as positional arguments will result in an error\n",
      "  MFCCs = librosa.feature.mfcc(signal, sample_rate, n_mfcc=num_mfcc, n_fft=n_fft,\n"
     ]
    },
    {
     "name": "stdout",
     "output_type": "stream",
     "text": [
      "Dataset\\Aiq\\Recording_517.wav: 0\n",
      "Dataset\\Aiq\\Recording_520.wav: 0\n",
      "Dataset\\Aiq\\Recording_522.wav: 0\n"
     ]
    },
    {
     "name": "stderr",
     "output_type": "stream",
     "text": [
      "C:\\Users\\asus\\AppData\\Local\\Temp\\ipykernel_24176\\2826740799.py:31: FutureWarning: Pass y=[ 0.          0.          0.         ... -0.00331684 -0.003552\n",
      " -0.00402319], sr=22050 as keyword args. From version 0.10 passing these as positional arguments will result in an error\n",
      "  MFCCs = librosa.feature.mfcc(signal, sample_rate, n_mfcc=num_mfcc, n_fft=n_fft,\n",
      "C:\\Users\\asus\\AppData\\Local\\Temp\\ipykernel_24176\\2826740799.py:31: FutureWarning: Pass y=[ 0.          0.          0.         ...  0.00033533 -0.00017192\n",
      " -0.00025365], sr=22050 as keyword args. From version 0.10 passing these as positional arguments will result in an error\n",
      "  MFCCs = librosa.feature.mfcc(signal, sample_rate, n_mfcc=num_mfcc, n_fft=n_fft,\n",
      "C:\\Users\\asus\\AppData\\Local\\Temp\\ipykernel_24176\\2826740799.py:31: FutureWarning: Pass y=[ 0.          0.          0.         ... -0.05190571 -0.04503198\n",
      " -0.04107409], sr=22050 as keyword args. From version 0.10 passing these as positional arguments will result in an error\n",
      "  MFCCs = librosa.feature.mfcc(signal, sample_rate, n_mfcc=num_mfcc, n_fft=n_fft,\n"
     ]
    },
    {
     "name": "stdout",
     "output_type": "stream",
     "text": [
      "Dataset\\Aiq\\Recording_524.wav: 0\n",
      "Dataset\\Aiq\\Recording_525.wav: 0\n",
      "Dataset\\Aiq\\Recording_526.wav: 0\n"
     ]
    },
    {
     "name": "stderr",
     "output_type": "stream",
     "text": [
      "C:\\Users\\asus\\AppData\\Local\\Temp\\ipykernel_24176\\2826740799.py:31: FutureWarning: Pass y=[ 0.          0.          0.         ...  0.03943015  0.02193622\n",
      " -0.00431842], sr=22050 as keyword args. From version 0.10 passing these as positional arguments will result in an error\n",
      "  MFCCs = librosa.feature.mfcc(signal, sample_rate, n_mfcc=num_mfcc, n_fft=n_fft,\n",
      "C:\\Users\\asus\\AppData\\Local\\Temp\\ipykernel_24176\\2826740799.py:31: FutureWarning: Pass y=[0.         0.         0.         ... 0.00257018 0.00254126 0.00272109], sr=22050 as keyword args. From version 0.10 passing these as positional arguments will result in an error\n",
      "  MFCCs = librosa.feature.mfcc(signal, sample_rate, n_mfcc=num_mfcc, n_fft=n_fft,\n",
      "C:\\Users\\asus\\AppData\\Local\\Temp\\ipykernel_24176\\2826740799.py:31: FutureWarning: Pass y=[ 0.          0.          0.         ... -0.00642765 -0.00482398\n",
      " -0.003107  ], sr=22050 as keyword args. From version 0.10 passing these as positional arguments will result in an error\n",
      "  MFCCs = librosa.feature.mfcc(signal, sample_rate, n_mfcc=num_mfcc, n_fft=n_fft,\n",
      "C:\\Users\\asus\\AppData\\Local\\Temp\\ipykernel_24176\\2826740799.py:31: FutureWarning: Pass y=[0.         0.         0.         ... 0.00073463 0.00029575 0.00030554], sr=22050 as keyword args. From version 0.10 passing these as positional arguments will result in an error\n",
      "  MFCCs = librosa.feature.mfcc(signal, sample_rate, n_mfcc=num_mfcc, n_fft=n_fft,\n"
     ]
    },
    {
     "name": "stdout",
     "output_type": "stream",
     "text": [
      "Dataset\\Aiq\\Recording_530.wav: 0\n",
      "Dataset\\Aiq\\Recording_531.wav: 0\n",
      "Dataset\\Aiq\\Recording_533.wav: 0\n"
     ]
    },
    {
     "name": "stderr",
     "output_type": "stream",
     "text": [
      "C:\\Users\\asus\\AppData\\Local\\Temp\\ipykernel_24176\\2826740799.py:31: FutureWarning: Pass y=[0.         0.         0.         ... 0.00196062 0.00142204 0.00114751], sr=22050 as keyword args. From version 0.10 passing these as positional arguments will result in an error\n",
      "  MFCCs = librosa.feature.mfcc(signal, sample_rate, n_mfcc=num_mfcc, n_fft=n_fft,\n",
      "C:\\Users\\asus\\AppData\\Local\\Temp\\ipykernel_24176\\2826740799.py:31: FutureWarning: Pass y=[0.         0.         0.         ... 0.01740237 0.01104609 0.01133487], sr=22050 as keyword args. From version 0.10 passing these as positional arguments will result in an error\n",
      "  MFCCs = librosa.feature.mfcc(signal, sample_rate, n_mfcc=num_mfcc, n_fft=n_fft,\n",
      "C:\\Users\\asus\\AppData\\Local\\Temp\\ipykernel_24176\\2826740799.py:31: FutureWarning: Pass y=[0.         0.         0.         ... 0.08379323 0.08972435 0.09803797], sr=22050 as keyword args. From version 0.10 passing these as positional arguments will result in an error\n",
      "  MFCCs = librosa.feature.mfcc(signal, sample_rate, n_mfcc=num_mfcc, n_fft=n_fft,\n"
     ]
    },
    {
     "name": "stdout",
     "output_type": "stream",
     "text": [
      "Dataset\\Aiq\\Recording_534.wav: 0\n",
      "Dataset\\Aiq\\Recording_535.wav: 0\n",
      "Dataset\\Aiq\\Recording_540.wav: 0\n"
     ]
    },
    {
     "name": "stderr",
     "output_type": "stream",
     "text": [
      "C:\\Users\\asus\\AppData\\Local\\Temp\\ipykernel_24176\\2826740799.py:31: FutureWarning: Pass y=[0.         0.         0.         ... 0.00040664 0.0010247  0.00116688], sr=22050 as keyword args. From version 0.10 passing these as positional arguments will result in an error\n",
      "  MFCCs = librosa.feature.mfcc(signal, sample_rate, n_mfcc=num_mfcc, n_fft=n_fft,\n",
      "C:\\Users\\asus\\AppData\\Local\\Temp\\ipykernel_24176\\2826740799.py:31: FutureWarning: Pass y=[ 0.          0.          0.         ...  0.00412665  0.00112666\n",
      " -0.00098614], sr=22050 as keyword args. From version 0.10 passing these as positional arguments will result in an error\n",
      "  MFCCs = librosa.feature.mfcc(signal, sample_rate, n_mfcc=num_mfcc, n_fft=n_fft,\n",
      "C:\\Users\\asus\\AppData\\Local\\Temp\\ipykernel_24176\\2826740799.py:31: FutureWarning: Pass y=[ 0.          0.          0.         ... -0.02691105 -0.01833845\n",
      "  0.00456326], sr=22050 as keyword args. From version 0.10 passing these as positional arguments will result in an error\n",
      "  MFCCs = librosa.feature.mfcc(signal, sample_rate, n_mfcc=num_mfcc, n_fft=n_fft,\n"
     ]
    },
    {
     "name": "stdout",
     "output_type": "stream",
     "text": [
      "Dataset\\Aiq\\Recording_541.wav: 0\n",
      "Dataset\\Aiq\\Recording_542.wav: 0\n",
      "Dataset\\Aiq\\Recording_544.wav: 0\n"
     ]
    },
    {
     "name": "stderr",
     "output_type": "stream",
     "text": [
      "C:\\Users\\asus\\AppData\\Local\\Temp\\ipykernel_24176\\2826740799.py:31: FutureWarning: Pass y=[ 0.          0.          0.         ... -0.02794644 -0.0362584\n",
      " -0.04095574], sr=22050 as keyword args. From version 0.10 passing these as positional arguments will result in an error\n",
      "  MFCCs = librosa.feature.mfcc(signal, sample_rate, n_mfcc=num_mfcc, n_fft=n_fft,\n",
      "C:\\Users\\asus\\AppData\\Local\\Temp\\ipykernel_24176\\2826740799.py:31: FutureWarning: Pass y=[ 0.          0.          0.         ... -0.07883187 -0.08918566\n",
      " -0.08427572], sr=22050 as keyword args. From version 0.10 passing these as positional arguments will result in an error\n",
      "  MFCCs = librosa.feature.mfcc(signal, sample_rate, n_mfcc=num_mfcc, n_fft=n_fft,\n",
      "C:\\Users\\asus\\AppData\\Local\\Temp\\ipykernel_24176\\2826740799.py:31: FutureWarning: Pass y=[0.         0.         0.         ... 0.04234908 0.05196566 0.08367136], sr=22050 as keyword args. From version 0.10 passing these as positional arguments will result in an error\n",
      "  MFCCs = librosa.feature.mfcc(signal, sample_rate, n_mfcc=num_mfcc, n_fft=n_fft,\n"
     ]
    },
    {
     "name": "stdout",
     "output_type": "stream",
     "text": [
      "Dataset\\Aiq\\Recording_545.wav: 0\n",
      "Dataset\\Aiq\\Recording_546.wav: 0\n",
      "Dataset\\Aiq\\Recording_548.wav: 0\n"
     ]
    },
    {
     "name": "stderr",
     "output_type": "stream",
     "text": [
      "C:\\Users\\asus\\AppData\\Local\\Temp\\ipykernel_24176\\2826740799.py:31: FutureWarning: Pass y=[0.         0.         0.         ... 0.05962115 0.06686141 0.08510298], sr=22050 as keyword args. From version 0.10 passing these as positional arguments will result in an error\n",
      "  MFCCs = librosa.feature.mfcc(signal, sample_rate, n_mfcc=num_mfcc, n_fft=n_fft,\n",
      "C:\\Users\\asus\\AppData\\Local\\Temp\\ipykernel_24176\\2826740799.py:31: FutureWarning: Pass y=[ 0.          0.          0.         ... -0.04259595 -0.02479264\n",
      " -0.02047727], sr=22050 as keyword args. From version 0.10 passing these as positional arguments will result in an error\n",
      "  MFCCs = librosa.feature.mfcc(signal, sample_rate, n_mfcc=num_mfcc, n_fft=n_fft,\n"
     ]
    },
    {
     "name": "stdout",
     "output_type": "stream",
     "text": [
      "Dataset\\Aiq\\Recording_549.wav: 0\n"
     ]
    },
    {
     "name": "stderr",
     "output_type": "stream",
     "text": [
      "C:\\Users\\asus\\AppData\\Local\\Temp\\ipykernel_24176\\2826740799.py:31: FutureWarning: Pass y=[0.         0.         0.         ... 0.0749198  0.05031767 0.03564427], sr=22050 as keyword args. From version 0.10 passing these as positional arguments will result in an error\n",
      "  MFCCs = librosa.feature.mfcc(signal, sample_rate, n_mfcc=num_mfcc, n_fft=n_fft,\n",
      "C:\\Users\\asus\\AppData\\Local\\Temp\\ipykernel_24176\\2826740799.py:31: FutureWarning: Pass y=[0.         0.         0.         ... 0.00099275 0.00090681 0.00088191], sr=22050 as keyword args. From version 0.10 passing these as positional arguments will result in an error\n",
      "  MFCCs = librosa.feature.mfcc(signal, sample_rate, n_mfcc=num_mfcc, n_fft=n_fft,\n",
      "C:\\Users\\asus\\AppData\\Local\\Temp\\ipykernel_24176\\2826740799.py:31: FutureWarning: Pass y=[ 0.          0.          0.         ... -0.00112501 -0.00113304\n",
      " -0.00112019], sr=22050 as keyword args. From version 0.10 passing these as positional arguments will result in an error\n",
      "  MFCCs = librosa.feature.mfcc(signal, sample_rate, n_mfcc=num_mfcc, n_fft=n_fft,\n"
     ]
    },
    {
     "name": "stdout",
     "output_type": "stream",
     "text": [
      "Dataset\\Aiq\\Recording_550.wav: 0\n",
      "Dataset\\Aiq\\Recording_553.wav: 0\n",
      "Dataset\\Aiq\\Recording_554.wav: 0\n"
     ]
    },
    {
     "name": "stderr",
     "output_type": "stream",
     "text": [
      "C:\\Users\\asus\\AppData\\Local\\Temp\\ipykernel_24176\\2826740799.py:31: FutureWarning: Pass y=[0.         0.         0.         ... 0.0071458  0.00717355 0.00705109], sr=22050 as keyword args. From version 0.10 passing these as positional arguments will result in an error\n",
      "  MFCCs = librosa.feature.mfcc(signal, sample_rate, n_mfcc=num_mfcc, n_fft=n_fft,\n",
      "C:\\Users\\asus\\AppData\\Local\\Temp\\ipykernel_24176\\2826740799.py:31: FutureWarning: Pass y=[0.         0.         0.         ... 0.00295633 0.00311228 0.00319689], sr=22050 as keyword args. From version 0.10 passing these as positional arguments will result in an error\n",
      "  MFCCs = librosa.feature.mfcc(signal, sample_rate, n_mfcc=num_mfcc, n_fft=n_fft,\n",
      "C:\\Users\\asus\\AppData\\Local\\Temp\\ipykernel_24176\\2826740799.py:31: FutureWarning: Pass y=[ 0.          0.          0.         ... -0.00022703 -0.00117776\n",
      " -0.00214174], sr=22050 as keyword args. From version 0.10 passing these as positional arguments will result in an error\n",
      "  MFCCs = librosa.feature.mfcc(signal, sample_rate, n_mfcc=num_mfcc, n_fft=n_fft,\n"
     ]
    },
    {
     "name": "stdout",
     "output_type": "stream",
     "text": [
      "Dataset\\Aiq\\Recording_555.wav: 0\n",
      "Dataset\\Aiq\\Recording_557.wav: 0\n",
      "Dataset\\Aiq\\Recording_558.wav: 0\n"
     ]
    },
    {
     "name": "stderr",
     "output_type": "stream",
     "text": [
      "C:\\Users\\asus\\AppData\\Local\\Temp\\ipykernel_24176\\2826740799.py:31: FutureWarning: Pass y=[0.         0.         0.         ... 0.02559887 0.01458693 0.01144336], sr=22050 as keyword args. From version 0.10 passing these as positional arguments will result in an error\n",
      "  MFCCs = librosa.feature.mfcc(signal, sample_rate, n_mfcc=num_mfcc, n_fft=n_fft,\n",
      "C:\\Users\\asus\\AppData\\Local\\Temp\\ipykernel_24176\\2826740799.py:31: FutureWarning: Pass y=[0.         0.         0.         ... 0.01482712 0.01837832 0.02363866], sr=22050 as keyword args. From version 0.10 passing these as positional arguments will result in an error\n",
      "  MFCCs = librosa.feature.mfcc(signal, sample_rate, n_mfcc=num_mfcc, n_fft=n_fft,\n"
     ]
    },
    {
     "name": "stdout",
     "output_type": "stream",
     "text": [
      "Dataset\\Aiq\\Recording_559.wav: 0\n",
      "Dataset\\Aiq\\Recording_560.wav: 0\n"
     ]
    },
    {
     "name": "stderr",
     "output_type": "stream",
     "text": [
      "C:\\Users\\asus\\AppData\\Local\\Temp\\ipykernel_24176\\2826740799.py:31: FutureWarning: Pass y=[ 0.          0.          0.         ... -0.09630706 -0.0930838\n",
      " -0.09091535], sr=22050 as keyword args. From version 0.10 passing these as positional arguments will result in an error\n",
      "  MFCCs = librosa.feature.mfcc(signal, sample_rate, n_mfcc=num_mfcc, n_fft=n_fft,\n",
      "C:\\Users\\asus\\AppData\\Local\\Temp\\ipykernel_24176\\2826740799.py:31: FutureWarning: Pass y=[0.         0.         0.         ... 0.00578209 0.01768522 0.03155059], sr=22050 as keyword args. From version 0.10 passing these as positional arguments will result in an error\n",
      "  MFCCs = librosa.feature.mfcc(signal, sample_rate, n_mfcc=num_mfcc, n_fft=n_fft,\n",
      "C:\\Users\\asus\\AppData\\Local\\Temp\\ipykernel_24176\\2826740799.py:31: FutureWarning: Pass y=[ 0.          0.          0.         ... -0.03230542 -0.03253392\n",
      " -0.03338668], sr=22050 as keyword args. From version 0.10 passing these as positional arguments will result in an error\n",
      "  MFCCs = librosa.feature.mfcc(signal, sample_rate, n_mfcc=num_mfcc, n_fft=n_fft,\n"
     ]
    },
    {
     "name": "stdout",
     "output_type": "stream",
     "text": [
      "Dataset\\Aiq\\Recording_562.wav: 0\n",
      "Dataset\\Aiq\\Recording_563.wav: 0\n",
      "Dataset\\Aiq\\Recording_564.wav: 0\n"
     ]
    },
    {
     "name": "stderr",
     "output_type": "stream",
     "text": [
      "C:\\Users\\asus\\AppData\\Local\\Temp\\ipykernel_24176\\2826740799.py:31: FutureWarning: Pass y=[ 0.          0.          0.         ... -0.05781639 -0.05858184\n",
      " -0.05190844], sr=22050 as keyword args. From version 0.10 passing these as positional arguments will result in an error\n",
      "  MFCCs = librosa.feature.mfcc(signal, sample_rate, n_mfcc=num_mfcc, n_fft=n_fft,\n",
      "C:\\Users\\asus\\AppData\\Local\\Temp\\ipykernel_24176\\2826740799.py:31: FutureWarning: Pass y=[0.         0.         0.         ... 0.0641809  0.06093929 0.05607607], sr=22050 as keyword args. From version 0.10 passing these as positional arguments will result in an error\n",
      "  MFCCs = librosa.feature.mfcc(signal, sample_rate, n_mfcc=num_mfcc, n_fft=n_fft,\n",
      "C:\\Users\\asus\\AppData\\Local\\Temp\\ipykernel_24176\\2826740799.py:31: FutureWarning: Pass y=[ 0.          0.          0.         ... -0.00034896 -0.00077328\n",
      " -0.00076094], sr=22050 as keyword args. From version 0.10 passing these as positional arguments will result in an error\n",
      "  MFCCs = librosa.feature.mfcc(signal, sample_rate, n_mfcc=num_mfcc, n_fft=n_fft,\n"
     ]
    },
    {
     "name": "stdout",
     "output_type": "stream",
     "text": [
      "Dataset\\Aiq\\Recording_565.wav: 0\n",
      "Dataset\\Aiq\\Recording_566.wav: 0\n",
      "Dataset\\Aiq\\Recording_567.wav: 0\n"
     ]
    },
    {
     "name": "stderr",
     "output_type": "stream",
     "text": [
      "C:\\Users\\asus\\AppData\\Local\\Temp\\ipykernel_24176\\2826740799.py:31: FutureWarning: Pass y=[ 0.          0.          0.         ... -0.0010731  -0.00091717\n",
      " -0.0008258 ], sr=22050 as keyword args. From version 0.10 passing these as positional arguments will result in an error\n",
      "  MFCCs = librosa.feature.mfcc(signal, sample_rate, n_mfcc=num_mfcc, n_fft=n_fft,\n",
      "C:\\Users\\asus\\AppData\\Local\\Temp\\ipykernel_24176\\2826740799.py:31: FutureWarning: Pass y=[0.         0.         0.         ... 0.0242871  0.01928433 0.01749442], sr=22050 as keyword args. From version 0.10 passing these as positional arguments will result in an error\n",
      "  MFCCs = librosa.feature.mfcc(signal, sample_rate, n_mfcc=num_mfcc, n_fft=n_fft,\n",
      "C:\\Users\\asus\\AppData\\Local\\Temp\\ipykernel_24176\\2826740799.py:31: FutureWarning: Pass y=[ 0.          0.          0.         ... -0.10696867 -0.11458791\n",
      " -0.12106746], sr=22050 as keyword args. From version 0.10 passing these as positional arguments will result in an error\n",
      "  MFCCs = librosa.feature.mfcc(signal, sample_rate, n_mfcc=num_mfcc, n_fft=n_fft,\n"
     ]
    },
    {
     "name": "stdout",
     "output_type": "stream",
     "text": [
      "Dataset\\Aiq\\Recording_569.wav: 0\n",
      "Dataset\\Aiq\\Recording_572.wav: 0\n",
      "Dataset\\Aiq\\Recording_573.wav: 0\n"
     ]
    },
    {
     "name": "stderr",
     "output_type": "stream",
     "text": [
      "C:\\Users\\asus\\AppData\\Local\\Temp\\ipykernel_24176\\2826740799.py:31: FutureWarning: Pass y=[ 0.          0.          0.         ...  0.00633211  0.00084336\n",
      " -0.00545084], sr=22050 as keyword args. From version 0.10 passing these as positional arguments will result in an error\n",
      "  MFCCs = librosa.feature.mfcc(signal, sample_rate, n_mfcc=num_mfcc, n_fft=n_fft,\n",
      "C:\\Users\\asus\\AppData\\Local\\Temp\\ipykernel_24176\\2826740799.py:31: FutureWarning: Pass y=[0.         0.         0.         ... 0.00332726 0.0051849  0.0061705 ], sr=22050 as keyword args. From version 0.10 passing these as positional arguments will result in an error\n",
      "  MFCCs = librosa.feature.mfcc(signal, sample_rate, n_mfcc=num_mfcc, n_fft=n_fft,\n",
      "C:\\Users\\asus\\AppData\\Local\\Temp\\ipykernel_24176\\2826740799.py:31: FutureWarning: Pass y=[0.         0.         0.         ... 0.00043937 0.00097105 0.00122253], sr=22050 as keyword args. From version 0.10 passing these as positional arguments will result in an error\n",
      "  MFCCs = librosa.feature.mfcc(signal, sample_rate, n_mfcc=num_mfcc, n_fft=n_fft,\n"
     ]
    },
    {
     "name": "stdout",
     "output_type": "stream",
     "text": [
      "Dataset\\Aiq\\Recording_574.wav: 0\n",
      "Dataset\\Aiq\\Recording_575.wav: 0\n",
      "Dataset\\Aiq\\Recording_578.wav: 0\n"
     ]
    },
    {
     "name": "stderr",
     "output_type": "stream",
     "text": [
      "C:\\Users\\asus\\AppData\\Local\\Temp\\ipykernel_24176\\2826740799.py:31: FutureWarning: Pass y=[ 0.          0.          0.         ... -0.01246427 -0.00954521\n",
      " -0.00811226], sr=22050 as keyword args. From version 0.10 passing these as positional arguments will result in an error\n",
      "  MFCCs = librosa.feature.mfcc(signal, sample_rate, n_mfcc=num_mfcc, n_fft=n_fft,\n",
      "C:\\Users\\asus\\AppData\\Local\\Temp\\ipykernel_24176\\2826740799.py:31: FutureWarning: Pass y=[ 0.          0.          0.         ... -0.02886157 -0.02692613\n",
      " -0.02795331], sr=22050 as keyword args. From version 0.10 passing these as positional arguments will result in an error\n",
      "  MFCCs = librosa.feature.mfcc(signal, sample_rate, n_mfcc=num_mfcc, n_fft=n_fft,\n",
      "C:\\Users\\asus\\AppData\\Local\\Temp\\ipykernel_24176\\2826740799.py:31: FutureWarning: Pass y=[0.         0.         0.         ... 0.06943527 0.06825229 0.07260971], sr=22050 as keyword args. From version 0.10 passing these as positional arguments will result in an error\n",
      "  MFCCs = librosa.feature.mfcc(signal, sample_rate, n_mfcc=num_mfcc, n_fft=n_fft,\n"
     ]
    },
    {
     "name": "stdout",
     "output_type": "stream",
     "text": [
      "Dataset\\Aiq\\Recording_579.wav: 0\n",
      "Dataset\\Aiq\\Recording_580.wav: 0\n",
      "Dataset\\Aiq\\Recording_581.wav: 0\n"
     ]
    },
    {
     "name": "stderr",
     "output_type": "stream",
     "text": [
      "C:\\Users\\asus\\AppData\\Local\\Temp\\ipykernel_24176\\2826740799.py:31: FutureWarning: Pass y=[ 0.          0.          0.         ...  0.00061481  0.00030158\n",
      " -0.00027764], sr=22050 as keyword args. From version 0.10 passing these as positional arguments will result in an error\n",
      "  MFCCs = librosa.feature.mfcc(signal, sample_rate, n_mfcc=num_mfcc, n_fft=n_fft,\n",
      "C:\\Users\\asus\\AppData\\Local\\Temp\\ipykernel_24176\\2826740799.py:31: FutureWarning: Pass y=[0.         0.         0.         ... 0.00765668 0.00463361 0.00445137], sr=22050 as keyword args. From version 0.10 passing these as positional arguments will result in an error\n",
      "  MFCCs = librosa.feature.mfcc(signal, sample_rate, n_mfcc=num_mfcc, n_fft=n_fft,\n",
      "C:\\Users\\asus\\AppData\\Local\\Temp\\ipykernel_24176\\2826740799.py:31: FutureWarning: Pass y=[ 0.          0.          0.         ...  0.00048901 -0.00045897\n",
      " -0.00121014], sr=22050 as keyword args. From version 0.10 passing these as positional arguments will result in an error\n",
      "  MFCCs = librosa.feature.mfcc(signal, sample_rate, n_mfcc=num_mfcc, n_fft=n_fft,\n"
     ]
    },
    {
     "name": "stdout",
     "output_type": "stream",
     "text": [
      "Dataset\\Aiq\\Recording_582.wav: 0\n",
      "Dataset\\Aiq\\Recording_583.wav: 0\n",
      "Dataset\\Aiq\\Recording_584.wav: 0\n",
      "\n",
      "Processing: 'Dataset\\Anjah'\n"
     ]
    },
    {
     "name": "stderr",
     "output_type": "stream",
     "text": [
      "C:\\Users\\asus\\AppData\\Local\\Temp\\ipykernel_24176\\2826740799.py:31: FutureWarning: Pass y=[0.         0.         0.         ... 0.0032344  0.0080271  0.00509296], sr=22050 as keyword args. From version 0.10 passing these as positional arguments will result in an error\n",
      "  MFCCs = librosa.feature.mfcc(signal, sample_rate, n_mfcc=num_mfcc, n_fft=n_fft,\n",
      "C:\\Users\\asus\\AppData\\Local\\Temp\\ipykernel_24176\\2826740799.py:31: FutureWarning: Pass y=[0.         0.         0.         ... 0.01107715 0.00891435 0.00690614], sr=22050 as keyword args. From version 0.10 passing these as positional arguments will result in an error\n",
      "  MFCCs = librosa.feature.mfcc(signal, sample_rate, n_mfcc=num_mfcc, n_fft=n_fft,\n"
     ]
    },
    {
     "name": "stdout",
     "output_type": "stream",
     "text": [
      "Dataset\\Anjah\\Recording_1035.wav: 1\n",
      "Dataset\\Anjah\\Recording_1036.wav: 1\n"
     ]
    },
    {
     "name": "stderr",
     "output_type": "stream",
     "text": [
      "C:\\Users\\asus\\AppData\\Local\\Temp\\ipykernel_24176\\2826740799.py:31: FutureWarning: Pass y=[0.         0.         0.         ... 0.00534168 0.0032938  0.00082085], sr=22050 as keyword args. From version 0.10 passing these as positional arguments will result in an error\n",
      "  MFCCs = librosa.feature.mfcc(signal, sample_rate, n_mfcc=num_mfcc, n_fft=n_fft,\n"
     ]
    },
    {
     "name": "stdout",
     "output_type": "stream",
     "text": [
      "Dataset\\Anjah\\Recording_1037.wav: 1\n"
     ]
    },
    {
     "name": "stderr",
     "output_type": "stream",
     "text": [
      "C:\\Users\\asus\\AppData\\Local\\Temp\\ipykernel_24176\\2826740799.py:31: FutureWarning: Pass y=[ 0.          0.          0.         ... -0.02207601 -0.02926371\n",
      " -0.03247841], sr=22050 as keyword args. From version 0.10 passing these as positional arguments will result in an error\n",
      "  MFCCs = librosa.feature.mfcc(signal, sample_rate, n_mfcc=num_mfcc, n_fft=n_fft,\n",
      "C:\\Users\\asus\\AppData\\Local\\Temp\\ipykernel_24176\\2826740799.py:31: FutureWarning: Pass y=[ 0.0000000e+00  0.0000000e+00  0.0000000e+00 ... -1.1206603e-02\n",
      " -6.5277172e-03  7.1035749e-05], sr=22050 as keyword args. From version 0.10 passing these as positional arguments will result in an error\n",
      "  MFCCs = librosa.feature.mfcc(signal, sample_rate, n_mfcc=num_mfcc, n_fft=n_fft,\n",
      "C:\\Users\\asus\\AppData\\Local\\Temp\\ipykernel_24176\\2826740799.py:31: FutureWarning: Pass y=[0.         0.         0.         ... 0.01518263 0.01467648 0.01222724], sr=22050 as keyword args. From version 0.10 passing these as positional arguments will result in an error\n",
      "  MFCCs = librosa.feature.mfcc(signal, sample_rate, n_mfcc=num_mfcc, n_fft=n_fft,\n"
     ]
    },
    {
     "name": "stdout",
     "output_type": "stream",
     "text": [
      "Dataset\\Anjah\\Recording_1039.wav: 1\n",
      "Dataset\\Anjah\\Recording_1040.wav: 1\n",
      "Dataset\\Anjah\\Recording_1042.wav: 1\n"
     ]
    },
    {
     "name": "stderr",
     "output_type": "stream",
     "text": [
      "C:\\Users\\asus\\AppData\\Local\\Temp\\ipykernel_24176\\2826740799.py:31: FutureWarning: Pass y=[ 0.          0.          0.         ... -0.00427189 -0.00618544\n",
      " -0.00482252], sr=22050 as keyword args. From version 0.10 passing these as positional arguments will result in an error\n",
      "  MFCCs = librosa.feature.mfcc(signal, sample_rate, n_mfcc=num_mfcc, n_fft=n_fft,\n",
      "C:\\Users\\asus\\AppData\\Local\\Temp\\ipykernel_24176\\2826740799.py:31: FutureWarning: Pass y=[0.         0.         0.         ... 0.00247107 0.00418286 0.0022989 ], sr=22050 as keyword args. From version 0.10 passing these as positional arguments will result in an error\n",
      "  MFCCs = librosa.feature.mfcc(signal, sample_rate, n_mfcc=num_mfcc, n_fft=n_fft,\n",
      "C:\\Users\\asus\\AppData\\Local\\Temp\\ipykernel_24176\\2826740799.py:31: FutureWarning: Pass y=[ 0.          0.          0.         ... -0.00420065 -0.01118525\n",
      " -0.0149889 ], sr=22050 as keyword args. From version 0.10 passing these as positional arguments will result in an error\n",
      "  MFCCs = librosa.feature.mfcc(signal, sample_rate, n_mfcc=num_mfcc, n_fft=n_fft,\n",
      "C:\\Users\\asus\\AppData\\Local\\Temp\\ipykernel_24176\\2826740799.py:31: FutureWarning: Pass y=[ 0.          0.          0.         ... -0.00246177 -0.00357988\n",
      " -0.00344643], sr=22050 as keyword args. From version 0.10 passing these as positional arguments will result in an error\n",
      "  MFCCs = librosa.feature.mfcc(signal, sample_rate, n_mfcc=num_mfcc, n_fft=n_fft,\n"
     ]
    },
    {
     "name": "stdout",
     "output_type": "stream",
     "text": [
      "Dataset\\Anjah\\Recording_1043.wav: 1\n",
      "Dataset\\Anjah\\Recording_1044.wav: 1\n",
      "Dataset\\Anjah\\Recording_1045.wav: 1\n",
      "Dataset\\Anjah\\Recording_1047.wav: 1\n"
     ]
    },
    {
     "name": "stderr",
     "output_type": "stream",
     "text": [
      "C:\\Users\\asus\\AppData\\Local\\Temp\\ipykernel_24176\\2826740799.py:31: FutureWarning: Pass y=[0.         0.         0.         ... 0.00175714 0.00086513 0.00194485], sr=22050 as keyword args. From version 0.10 passing these as positional arguments will result in an error\n",
      "  MFCCs = librosa.feature.mfcc(signal, sample_rate, n_mfcc=num_mfcc, n_fft=n_fft,\n",
      "C:\\Users\\asus\\AppData\\Local\\Temp\\ipykernel_24176\\2826740799.py:31: FutureWarning: Pass y=[ 0.          0.          0.         ... -0.00889343 -0.010902\n",
      " -0.00980127], sr=22050 as keyword args. From version 0.10 passing these as positional arguments will result in an error\n",
      "  MFCCs = librosa.feature.mfcc(signal, sample_rate, n_mfcc=num_mfcc, n_fft=n_fft,\n",
      "C:\\Users\\asus\\AppData\\Local\\Temp\\ipykernel_24176\\2826740799.py:31: FutureWarning: Pass y=[ 0.          0.          0.         ... -0.00014806 -0.00020043\n",
      " -0.00069613], sr=22050 as keyword args. From version 0.10 passing these as positional arguments will result in an error\n",
      "  MFCCs = librosa.feature.mfcc(signal, sample_rate, n_mfcc=num_mfcc, n_fft=n_fft,\n",
      "C:\\Users\\asus\\AppData\\Local\\Temp\\ipykernel_24176\\2826740799.py:31: FutureWarning: Pass y=[0.         0.         0.         ... 0.01392075 0.01718247 0.02027011], sr=22050 as keyword args. From version 0.10 passing these as positional arguments will result in an error\n",
      "  MFCCs = librosa.feature.mfcc(signal, sample_rate, n_mfcc=num_mfcc, n_fft=n_fft,\n"
     ]
    },
    {
     "name": "stdout",
     "output_type": "stream",
     "text": [
      "Dataset\\Anjah\\Recording_1048.wav: 1\n",
      "Dataset\\Anjah\\Recording_1049.wav: 1\n",
      "Dataset\\Anjah\\Recording_1051.wav: 1\n",
      "Dataset\\Anjah\\Recording_1052.wav: 1\n"
     ]
    },
    {
     "name": "stderr",
     "output_type": "stream",
     "text": [
      "C:\\Users\\asus\\AppData\\Local\\Temp\\ipykernel_24176\\2826740799.py:31: FutureWarning: Pass y=[ 0.          0.          0.         ... -0.02795027 -0.02802449\n",
      " -0.02462702], sr=22050 as keyword args. From version 0.10 passing these as positional arguments will result in an error\n",
      "  MFCCs = librosa.feature.mfcc(signal, sample_rate, n_mfcc=num_mfcc, n_fft=n_fft,\n",
      "C:\\Users\\asus\\AppData\\Local\\Temp\\ipykernel_24176\\2826740799.py:31: FutureWarning: Pass y=[ 0.          0.          0.         ...  0.00134256  0.00081513\n",
      " -0.00025284], sr=22050 as keyword args. From version 0.10 passing these as positional arguments will result in an error\n",
      "  MFCCs = librosa.feature.mfcc(signal, sample_rate, n_mfcc=num_mfcc, n_fft=n_fft,\n",
      "C:\\Users\\asus\\AppData\\Local\\Temp\\ipykernel_24176\\2826740799.py:31: FutureWarning: Pass y=[0.         0.         0.         ... 0.00362036 0.00373271 0.0038401 ], sr=22050 as keyword args. From version 0.10 passing these as positional arguments will result in an error\n",
      "  MFCCs = librosa.feature.mfcc(signal, sample_rate, n_mfcc=num_mfcc, n_fft=n_fft,\n"
     ]
    },
    {
     "name": "stdout",
     "output_type": "stream",
     "text": [
      "Dataset\\Anjah\\Recording_1053.wav: 1\n",
      "Dataset\\Anjah\\Recording_1054.wav: 1\n",
      "Dataset\\Anjah\\Recording_1055.wav: 1\n"
     ]
    },
    {
     "name": "stderr",
     "output_type": "stream",
     "text": [
      "C:\\Users\\asus\\AppData\\Local\\Temp\\ipykernel_24176\\2826740799.py:31: FutureWarning: Pass y=[ 0.          0.          0.         ... -0.00088012 -0.00066042\n",
      " -0.00162568], sr=22050 as keyword args. From version 0.10 passing these as positional arguments will result in an error\n",
      "  MFCCs = librosa.feature.mfcc(signal, sample_rate, n_mfcc=num_mfcc, n_fft=n_fft,\n",
      "C:\\Users\\asus\\AppData\\Local\\Temp\\ipykernel_24176\\2826740799.py:31: FutureWarning: Pass y=[0.         0.         0.         ... 0.00040945 0.00052081 0.00058593], sr=22050 as keyword args. From version 0.10 passing these as positional arguments will result in an error\n",
      "  MFCCs = librosa.feature.mfcc(signal, sample_rate, n_mfcc=num_mfcc, n_fft=n_fft,\n"
     ]
    },
    {
     "name": "stdout",
     "output_type": "stream",
     "text": [
      "Dataset\\Anjah\\Recording_1056.wav: 1\n",
      "Dataset\\Anjah\\Recording_1057.wav: 1\n"
     ]
    },
    {
     "name": "stderr",
     "output_type": "stream",
     "text": [
      "C:\\Users\\asus\\AppData\\Local\\Temp\\ipykernel_24176\\2826740799.py:31: FutureWarning: Pass y=[0.         0.         0.         ... 0.0010757  0.00179812 0.00260001], sr=22050 as keyword args. From version 0.10 passing these as positional arguments will result in an error\n",
      "  MFCCs = librosa.feature.mfcc(signal, sample_rate, n_mfcc=num_mfcc, n_fft=n_fft,\n",
      "C:\\Users\\asus\\AppData\\Local\\Temp\\ipykernel_24176\\2826740799.py:31: FutureWarning: Pass y=[ 0.          0.          0.         ... -0.01436437 -0.01595564\n",
      " -0.01625117], sr=22050 as keyword args. From version 0.10 passing these as positional arguments will result in an error\n",
      "  MFCCs = librosa.feature.mfcc(signal, sample_rate, n_mfcc=num_mfcc, n_fft=n_fft,\n",
      "C:\\Users\\asus\\AppData\\Local\\Temp\\ipykernel_24176\\2826740799.py:31: FutureWarning: Pass y=[0.         0.         0.         ... 0.08801454 0.09958222 0.10208389], sr=22050 as keyword args. From version 0.10 passing these as positional arguments will result in an error\n",
      "  MFCCs = librosa.feature.mfcc(signal, sample_rate, n_mfcc=num_mfcc, n_fft=n_fft,\n"
     ]
    },
    {
     "name": "stdout",
     "output_type": "stream",
     "text": [
      "Dataset\\Anjah\\Recording_1058.wav: 1\n",
      "Dataset\\Anjah\\Recording_1059.wav: 1\n",
      "Dataset\\Anjah\\Recording_1060.wav: 1\n"
     ]
    },
    {
     "name": "stderr",
     "output_type": "stream",
     "text": [
      "C:\\Users\\asus\\AppData\\Local\\Temp\\ipykernel_24176\\2826740799.py:31: FutureWarning: Pass y=[ 0.          0.          0.         ... -0.00040685 -0.00041179\n",
      " -0.00023882], sr=22050 as keyword args. From version 0.10 passing these as positional arguments will result in an error\n",
      "  MFCCs = librosa.feature.mfcc(signal, sample_rate, n_mfcc=num_mfcc, n_fft=n_fft,\n",
      "C:\\Users\\asus\\AppData\\Local\\Temp\\ipykernel_24176\\2826740799.py:31: FutureWarning: Pass y=[ 0.          0.          0.         ... -0.00044435  0.00069707\n",
      "  0.00160599], sr=22050 as keyword args. From version 0.10 passing these as positional arguments will result in an error\n",
      "  MFCCs = librosa.feature.mfcc(signal, sample_rate, n_mfcc=num_mfcc, n_fft=n_fft,\n",
      "C:\\Users\\asus\\AppData\\Local\\Temp\\ipykernel_24176\\2826740799.py:31: FutureWarning: Pass y=[ 0.0000000e+00  0.0000000e+00  0.0000000e+00 ... -4.0505442e-04\n",
      "  3.6415244e-05  3.2603981e-03], sr=22050 as keyword args. From version 0.10 passing these as positional arguments will result in an error\n",
      "  MFCCs = librosa.feature.mfcc(signal, sample_rate, n_mfcc=num_mfcc, n_fft=n_fft,\n"
     ]
    },
    {
     "name": "stdout",
     "output_type": "stream",
     "text": [
      "Dataset\\Anjah\\Recording_1061.wav: 1\n",
      "Dataset\\Anjah\\Recording_1062.wav: 1\n",
      "Dataset\\Anjah\\Recording_1063.wav: 1\n"
     ]
    },
    {
     "name": "stderr",
     "output_type": "stream",
     "text": [
      "C:\\Users\\asus\\AppData\\Local\\Temp\\ipykernel_24176\\2826740799.py:31: FutureWarning: Pass y=[ 0.0000000e+00  0.0000000e+00  0.0000000e+00 ...  1.2132276e-03\n",
      " -9.8212695e-05 -1.5516982e-03], sr=22050 as keyword args. From version 0.10 passing these as positional arguments will result in an error\n",
      "  MFCCs = librosa.feature.mfcc(signal, sample_rate, n_mfcc=num_mfcc, n_fft=n_fft,\n",
      "C:\\Users\\asus\\AppData\\Local\\Temp\\ipykernel_24176\\2826740799.py:31: FutureWarning: Pass y=[ 0.          0.          0.         ...  0.02931788  0.0112033\n",
      " -0.00256261], sr=22050 as keyword args. From version 0.10 passing these as positional arguments will result in an error\n",
      "  MFCCs = librosa.feature.mfcc(signal, sample_rate, n_mfcc=num_mfcc, n_fft=n_fft,\n",
      "C:\\Users\\asus\\AppData\\Local\\Temp\\ipykernel_24176\\2826740799.py:31: FutureWarning: Pass y=[ 0.          0.          0.         ... -0.00689119 -0.00555377\n",
      " -0.00267663], sr=22050 as keyword args. From version 0.10 passing these as positional arguments will result in an error\n",
      "  MFCCs = librosa.feature.mfcc(signal, sample_rate, n_mfcc=num_mfcc, n_fft=n_fft,\n"
     ]
    },
    {
     "name": "stdout",
     "output_type": "stream",
     "text": [
      "Dataset\\Anjah\\Recording_1064.wav: 1\n",
      "Dataset\\Anjah\\Recording_1065.wav: 1\n",
      "Dataset\\Anjah\\Recording_1066.wav: 1\n"
     ]
    },
    {
     "name": "stderr",
     "output_type": "stream",
     "text": [
      "C:\\Users\\asus\\AppData\\Local\\Temp\\ipykernel_24176\\2826740799.py:31: FutureWarning: Pass y=[0.         0.         0.         ... 0.0043864  0.0035587  0.00138061], sr=22050 as keyword args. From version 0.10 passing these as positional arguments will result in an error\n",
      "  MFCCs = librosa.feature.mfcc(signal, sample_rate, n_mfcc=num_mfcc, n_fft=n_fft,\n",
      "C:\\Users\\asus\\AppData\\Local\\Temp\\ipykernel_24176\\2826740799.py:31: FutureWarning: Pass y=[ 0.          0.          0.         ... -0.00253145 -0.0036456\n",
      " -0.0041257 ], sr=22050 as keyword args. From version 0.10 passing these as positional arguments will result in an error\n",
      "  MFCCs = librosa.feature.mfcc(signal, sample_rate, n_mfcc=num_mfcc, n_fft=n_fft,\n",
      "C:\\Users\\asus\\AppData\\Local\\Temp\\ipykernel_24176\\2826740799.py:31: FutureWarning: Pass y=[ 0.          0.          0.         ... -0.03858375 -0.03856726\n",
      " -0.03912476], sr=22050 as keyword args. From version 0.10 passing these as positional arguments will result in an error\n",
      "  MFCCs = librosa.feature.mfcc(signal, sample_rate, n_mfcc=num_mfcc, n_fft=n_fft,\n"
     ]
    },
    {
     "name": "stdout",
     "output_type": "stream",
     "text": [
      "Dataset\\Anjah\\Recording_1067.wav: 1\n",
      "Dataset\\Anjah\\Recording_1068.wav: 1\n",
      "Dataset\\Anjah\\Recording_1069.wav: 1\n"
     ]
    },
    {
     "name": "stderr",
     "output_type": "stream",
     "text": [
      "C:\\Users\\asus\\AppData\\Local\\Temp\\ipykernel_24176\\2826740799.py:31: FutureWarning: Pass y=[0.         0.         0.         ... 0.04382873 0.03856127 0.02381818], sr=22050 as keyword args. From version 0.10 passing these as positional arguments will result in an error\n",
      "  MFCCs = librosa.feature.mfcc(signal, sample_rate, n_mfcc=num_mfcc, n_fft=n_fft,\n",
      "C:\\Users\\asus\\AppData\\Local\\Temp\\ipykernel_24176\\2826740799.py:31: FutureWarning: Pass y=[ 0.          0.          0.         ... -0.00715038 -0.01671901\n",
      " -0.02447112], sr=22050 as keyword args. From version 0.10 passing these as positional arguments will result in an error\n",
      "  MFCCs = librosa.feature.mfcc(signal, sample_rate, n_mfcc=num_mfcc, n_fft=n_fft,\n",
      "C:\\Users\\asus\\AppData\\Local\\Temp\\ipykernel_24176\\2826740799.py:31: FutureWarning: Pass y=[ 0.          0.          0.         ... -0.00126033 -0.00053812\n",
      "  0.00262774], sr=22050 as keyword args. From version 0.10 passing these as positional arguments will result in an error\n",
      "  MFCCs = librosa.feature.mfcc(signal, sample_rate, n_mfcc=num_mfcc, n_fft=n_fft,\n"
     ]
    },
    {
     "name": "stdout",
     "output_type": "stream",
     "text": [
      "Dataset\\Anjah\\Recording_1070.wav: 1\n",
      "Dataset\\Anjah\\Recording_1071.wav: 1\n",
      "Dataset\\Anjah\\Recording_1072.wav: 1\n"
     ]
    },
    {
     "name": "stderr",
     "output_type": "stream",
     "text": [
      "C:\\Users\\asus\\AppData\\Local\\Temp\\ipykernel_24176\\2826740799.py:31: FutureWarning: Pass y=[ 0.000000e+00  0.000000e+00  0.000000e+00 ... -6.480672e-04  2.590498e-05\n",
      "  6.607109e-04], sr=22050 as keyword args. From version 0.10 passing these as positional arguments will result in an error\n",
      "  MFCCs = librosa.feature.mfcc(signal, sample_rate, n_mfcc=num_mfcc, n_fft=n_fft,\n"
     ]
    },
    {
     "name": "stdout",
     "output_type": "stream",
     "text": [
      "Dataset\\Anjah\\Recording_1073.wav: 1\n"
     ]
    },
    {
     "name": "stderr",
     "output_type": "stream",
     "text": [
      "C:\\Users\\asus\\AppData\\Local\\Temp\\ipykernel_24176\\2826740799.py:31: FutureWarning: Pass y=[ 0.          0.          0.         ... -0.00310986 -0.00207568\n",
      " -0.00088747], sr=22050 as keyword args. From version 0.10 passing these as positional arguments will result in an error\n",
      "  MFCCs = librosa.feature.mfcc(signal, sample_rate, n_mfcc=num_mfcc, n_fft=n_fft,\n",
      "C:\\Users\\asus\\AppData\\Local\\Temp\\ipykernel_24176\\2826740799.py:31: FutureWarning: Pass y=[0.         0.         0.         ... 0.05868386 0.04754753 0.03030115], sr=22050 as keyword args. From version 0.10 passing these as positional arguments will result in an error\n",
      "  MFCCs = librosa.feature.mfcc(signal, sample_rate, n_mfcc=num_mfcc, n_fft=n_fft,\n",
      "C:\\Users\\asus\\AppData\\Local\\Temp\\ipykernel_24176\\2826740799.py:31: FutureWarning: Pass y=[ 0.          0.          0.         ... -0.00737229 -0.00849326\n",
      " -0.00820075], sr=22050 as keyword args. From version 0.10 passing these as positional arguments will result in an error\n",
      "  MFCCs = librosa.feature.mfcc(signal, sample_rate, n_mfcc=num_mfcc, n_fft=n_fft,\n"
     ]
    },
    {
     "name": "stdout",
     "output_type": "stream",
     "text": [
      "Dataset\\Anjah\\Recording_1074.wav: 1\n",
      "Dataset\\Anjah\\Recording_1075.wav: 1\n",
      "Dataset\\Anjah\\Recording_1076.wav: 1\n"
     ]
    },
    {
     "name": "stderr",
     "output_type": "stream",
     "text": [
      "C:\\Users\\asus\\AppData\\Local\\Temp\\ipykernel_24176\\2826740799.py:31: FutureWarning: Pass y=[0.         0.         0.         ... 0.01700464 0.02219123 0.02783864], sr=22050 as keyword args. From version 0.10 passing these as positional arguments will result in an error\n",
      "  MFCCs = librosa.feature.mfcc(signal, sample_rate, n_mfcc=num_mfcc, n_fft=n_fft,\n",
      "C:\\Users\\asus\\AppData\\Local\\Temp\\ipykernel_24176\\2826740799.py:31: FutureWarning: Pass y=[0.0000000e+00 0.0000000e+00 0.0000000e+00 ... 1.2698204e-03 2.3482005e-04\n",
      " 3.1434949e-05], sr=22050 as keyword args. From version 0.10 passing these as positional arguments will result in an error\n",
      "  MFCCs = librosa.feature.mfcc(signal, sample_rate, n_mfcc=num_mfcc, n_fft=n_fft,\n"
     ]
    },
    {
     "name": "stdout",
     "output_type": "stream",
     "text": [
      "Dataset\\Anjah\\Recording_1077.wav: 1\n",
      "Dataset\\Anjah\\Recording_1078.wav: 1\n"
     ]
    },
    {
     "name": "stderr",
     "output_type": "stream",
     "text": [
      "C:\\Users\\asus\\AppData\\Local\\Temp\\ipykernel_24176\\2826740799.py:31: FutureWarning: Pass y=[0.         0.         0.         ... 0.00063379 0.00174136 0.00202179], sr=22050 as keyword args. From version 0.10 passing these as positional arguments will result in an error\n",
      "  MFCCs = librosa.feature.mfcc(signal, sample_rate, n_mfcc=num_mfcc, n_fft=n_fft,\n",
      "C:\\Users\\asus\\AppData\\Local\\Temp\\ipykernel_24176\\2826740799.py:31: FutureWarning: Pass y=[ 0.          0.          0.         ... -0.00693166 -0.00714115\n",
      " -0.01049972], sr=22050 as keyword args. From version 0.10 passing these as positional arguments will result in an error\n",
      "  MFCCs = librosa.feature.mfcc(signal, sample_rate, n_mfcc=num_mfcc, n_fft=n_fft,\n",
      "C:\\Users\\asus\\AppData\\Local\\Temp\\ipykernel_24176\\2826740799.py:31: FutureWarning: Pass y=[ 0.          0.          0.         ... -0.0011978  -0.00025595\n",
      " -0.00225782], sr=22050 as keyword args. From version 0.10 passing these as positional arguments will result in an error\n",
      "  MFCCs = librosa.feature.mfcc(signal, sample_rate, n_mfcc=num_mfcc, n_fft=n_fft,\n"
     ]
    },
    {
     "name": "stdout",
     "output_type": "stream",
     "text": [
      "Dataset\\Anjah\\Recording_1079.wav: 1\n",
      "Dataset\\Anjah\\Recording_1080.wav: 1\n",
      "Dataset\\Anjah\\Recording_1081.wav: 1\n"
     ]
    },
    {
     "name": "stderr",
     "output_type": "stream",
     "text": [
      "C:\\Users\\asus\\AppData\\Local\\Temp\\ipykernel_24176\\2826740799.py:31: FutureWarning: Pass y=[0.         0.         0.         ... 0.00735591 0.00729374 0.00482912], sr=22050 as keyword args. From version 0.10 passing these as positional arguments will result in an error\n",
      "  MFCCs = librosa.feature.mfcc(signal, sample_rate, n_mfcc=num_mfcc, n_fft=n_fft,\n",
      "C:\\Users\\asus\\AppData\\Local\\Temp\\ipykernel_24176\\2826740799.py:31: FutureWarning: Pass y=[ 0.          0.          0.         ... -0.00121237 -0.00151033\n",
      " -0.00239154], sr=22050 as keyword args. From version 0.10 passing these as positional arguments will result in an error\n",
      "  MFCCs = librosa.feature.mfcc(signal, sample_rate, n_mfcc=num_mfcc, n_fft=n_fft,\n"
     ]
    },
    {
     "name": "stdout",
     "output_type": "stream",
     "text": [
      "Dataset\\Anjah\\Recording_1083.wav: 1\n",
      "Dataset\\Anjah\\Recording_1084.wav: 1\n"
     ]
    },
    {
     "name": "stderr",
     "output_type": "stream",
     "text": [
      "C:\\Users\\asus\\AppData\\Local\\Temp\\ipykernel_24176\\2826740799.py:31: FutureWarning: Pass y=[ 0.          0.          0.         ... -0.00012606  0.00110941\n",
      "  0.00219664], sr=22050 as keyword args. From version 0.10 passing these as positional arguments will result in an error\n",
      "  MFCCs = librosa.feature.mfcc(signal, sample_rate, n_mfcc=num_mfcc, n_fft=n_fft,\n"
     ]
    },
    {
     "name": "stdout",
     "output_type": "stream",
     "text": [
      "Dataset\\Anjah\\Recording_1085.wav: 1\n"
     ]
    },
    {
     "name": "stderr",
     "output_type": "stream",
     "text": [
      "C:\\Users\\asus\\AppData\\Local\\Temp\\ipykernel_24176\\2826740799.py:31: FutureWarning: Pass y=[ 0.          0.          0.         ... -0.04894628 -0.04817141\n",
      " -0.04565728], sr=22050 as keyword args. From version 0.10 passing these as positional arguments will result in an error\n",
      "  MFCCs = librosa.feature.mfcc(signal, sample_rate, n_mfcc=num_mfcc, n_fft=n_fft,\n",
      "C:\\Users\\asus\\AppData\\Local\\Temp\\ipykernel_24176\\2826740799.py:31: FutureWarning: Pass y=[ 0.          0.          0.         ...  0.00725193 -0.00879828\n",
      " -0.01559385], sr=22050 as keyword args. From version 0.10 passing these as positional arguments will result in an error\n",
      "  MFCCs = librosa.feature.mfcc(signal, sample_rate, n_mfcc=num_mfcc, n_fft=n_fft,\n",
      "C:\\Users\\asus\\AppData\\Local\\Temp\\ipykernel_24176\\2826740799.py:31: FutureWarning: Pass y=[0.         0.         0.         ... 0.00967342 0.01079658 0.01389487], sr=22050 as keyword args. From version 0.10 passing these as positional arguments will result in an error\n",
      "  MFCCs = librosa.feature.mfcc(signal, sample_rate, n_mfcc=num_mfcc, n_fft=n_fft,\n"
     ]
    },
    {
     "name": "stdout",
     "output_type": "stream",
     "text": [
      "Dataset\\Anjah\\Recording_1086.wav: 1\n",
      "Dataset\\Anjah\\Recording_1088.wav: 1\n",
      "Dataset\\Anjah\\Recording_1089.wav: 1\n"
     ]
    },
    {
     "name": "stderr",
     "output_type": "stream",
     "text": [
      "C:\\Users\\asus\\AppData\\Local\\Temp\\ipykernel_24176\\2826740799.py:31: FutureWarning: Pass y=[ 0.          0.          0.         ... -0.01797542 -0.01962509\n",
      " -0.00539003], sr=22050 as keyword args. From version 0.10 passing these as positional arguments will result in an error\n",
      "  MFCCs = librosa.feature.mfcc(signal, sample_rate, n_mfcc=num_mfcc, n_fft=n_fft,\n",
      "C:\\Users\\asus\\AppData\\Local\\Temp\\ipykernel_24176\\2826740799.py:31: FutureWarning: Pass y=[0.         0.         0.         ... 0.00511774 0.00262909 0.00150337], sr=22050 as keyword args. From version 0.10 passing these as positional arguments will result in an error\n",
      "  MFCCs = librosa.feature.mfcc(signal, sample_rate, n_mfcc=num_mfcc, n_fft=n_fft,\n",
      "C:\\Users\\asus\\AppData\\Local\\Temp\\ipykernel_24176\\2826740799.py:31: FutureWarning: Pass y=[0.         0.         0.         ... 0.00055244 0.00087981 0.0008621 ], sr=22050 as keyword args. From version 0.10 passing these as positional arguments will result in an error\n",
      "  MFCCs = librosa.feature.mfcc(signal, sample_rate, n_mfcc=num_mfcc, n_fft=n_fft,\n"
     ]
    },
    {
     "name": "stdout",
     "output_type": "stream",
     "text": [
      "Dataset\\Anjah\\Recording_1090.wav: 1\n",
      "Dataset\\Anjah\\Recording_1092.wav: 1\n",
      "\n",
      "Processing: 'Dataset\\Dila'\n",
      "Dataset\\Dila\\Recording_386.wav: 2\n"
     ]
    },
    {
     "name": "stderr",
     "output_type": "stream",
     "text": [
      "C:\\Users\\asus\\AppData\\Local\\Temp\\ipykernel_24176\\2826740799.py:31: FutureWarning: Pass y=[ 0.          0.          0.         ... -0.03592944 -0.03115107\n",
      " -0.02820508], sr=22050 as keyword args. From version 0.10 passing these as positional arguments will result in an error\n",
      "  MFCCs = librosa.feature.mfcc(signal, sample_rate, n_mfcc=num_mfcc, n_fft=n_fft,\n"
     ]
    },
    {
     "name": "stdout",
     "output_type": "stream",
     "text": [
      "Dataset\\Dila\\Recording_387.wav: 2\n"
     ]
    },
    {
     "name": "stderr",
     "output_type": "stream",
     "text": [
      "C:\\Users\\asus\\AppData\\Local\\Temp\\ipykernel_24176\\2826740799.py:31: FutureWarning: Pass y=[ 0.          0.          0.         ... -0.00091323 -0.00094852\n",
      " -0.00106357], sr=22050 as keyword args. From version 0.10 passing these as positional arguments will result in an error\n",
      "  MFCCs = librosa.feature.mfcc(signal, sample_rate, n_mfcc=num_mfcc, n_fft=n_fft,\n",
      "C:\\Users\\asus\\AppData\\Local\\Temp\\ipykernel_24176\\2826740799.py:31: FutureWarning: Pass y=[ 0.          0.          0.         ... -0.00996972 -0.01061795\n",
      " -0.00942971], sr=22050 as keyword args. From version 0.10 passing these as positional arguments will result in an error\n",
      "  MFCCs = librosa.feature.mfcc(signal, sample_rate, n_mfcc=num_mfcc, n_fft=n_fft,\n",
      "C:\\Users\\asus\\AppData\\Local\\Temp\\ipykernel_24176\\2826740799.py:31: FutureWarning: Pass y=[ 0.          0.          0.         ... -0.00033033 -0.00034951\n",
      " -0.00043231], sr=22050 as keyword args. From version 0.10 passing these as positional arguments will result in an error\n",
      "  MFCCs = librosa.feature.mfcc(signal, sample_rate, n_mfcc=num_mfcc, n_fft=n_fft,\n"
     ]
    },
    {
     "name": "stdout",
     "output_type": "stream",
     "text": [
      "Dataset\\Dila\\Recording_388.wav: 2\n",
      "Dataset\\Dila\\Recording_389.wav: 2\n",
      "Dataset\\Dila\\Recording_390.wav: 2\n"
     ]
    },
    {
     "name": "stderr",
     "output_type": "stream",
     "text": [
      "C:\\Users\\asus\\AppData\\Local\\Temp\\ipykernel_24176\\2826740799.py:31: FutureWarning: Pass y=[ 0.          0.          0.         ... -0.00494422 -0.00500502\n",
      " -0.00515482], sr=22050 as keyword args. From version 0.10 passing these as positional arguments will result in an error\n",
      "  MFCCs = librosa.feature.mfcc(signal, sample_rate, n_mfcc=num_mfcc, n_fft=n_fft,\n"
     ]
    },
    {
     "name": "stdout",
     "output_type": "stream",
     "text": [
      "Dataset\\Dila\\Recording_391.wav: 2\n"
     ]
    },
    {
     "name": "stderr",
     "output_type": "stream",
     "text": [
      "C:\\Users\\asus\\AppData\\Local\\Temp\\ipykernel_24176\\2826740799.py:31: FutureWarning: Pass y=[0.         0.         0.         ... 0.00332445 0.00336033 0.00337695], sr=22050 as keyword args. From version 0.10 passing these as positional arguments will result in an error\n",
      "  MFCCs = librosa.feature.mfcc(signal, sample_rate, n_mfcc=num_mfcc, n_fft=n_fft,\n"
     ]
    },
    {
     "name": "stdout",
     "output_type": "stream",
     "text": [
      "Dataset\\Dila\\Recording_392.wav: 2\n"
     ]
    },
    {
     "name": "stderr",
     "output_type": "stream",
     "text": [
      "C:\\Users\\asus\\AppData\\Local\\Temp\\ipykernel_24176\\2826740799.py:31: FutureWarning: Pass y=[0.         0.         0.         ... 0.00273795 0.00415935 0.00527513], sr=22050 as keyword args. From version 0.10 passing these as positional arguments will result in an error\n",
      "  MFCCs = librosa.feature.mfcc(signal, sample_rate, n_mfcc=num_mfcc, n_fft=n_fft,\n",
      "C:\\Users\\asus\\AppData\\Local\\Temp\\ipykernel_24176\\2826740799.py:31: FutureWarning: Pass y=[ 0.          0.          0.         ... -0.00415831 -0.0041211\n",
      " -0.0039359 ], sr=22050 as keyword args. From version 0.10 passing these as positional arguments will result in an error\n",
      "  MFCCs = librosa.feature.mfcc(signal, sample_rate, n_mfcc=num_mfcc, n_fft=n_fft,\n"
     ]
    },
    {
     "name": "stdout",
     "output_type": "stream",
     "text": [
      "Dataset\\Dila\\Recording_393.wav: 2\n",
      "Dataset\\Dila\\Recording_395.wav: 2\n"
     ]
    },
    {
     "name": "stderr",
     "output_type": "stream",
     "text": [
      "C:\\Users\\asus\\AppData\\Local\\Temp\\ipykernel_24176\\2826740799.py:31: FutureWarning: Pass y=[0.         0.         0.         ... 0.002383   0.00258831 0.00243114], sr=22050 as keyword args. From version 0.10 passing these as positional arguments will result in an error\n",
      "  MFCCs = librosa.feature.mfcc(signal, sample_rate, n_mfcc=num_mfcc, n_fft=n_fft,\n",
      "C:\\Users\\asus\\AppData\\Local\\Temp\\ipykernel_24176\\2826740799.py:31: FutureWarning: Pass y=[ 0.0000000e+00  0.0000000e+00  0.0000000e+00 ...  5.9885246e-05\n",
      " -7.2732677e-05 -6.3598854e-05], sr=22050 as keyword args. From version 0.10 passing these as positional arguments will result in an error\n",
      "  MFCCs = librosa.feature.mfcc(signal, sample_rate, n_mfcc=num_mfcc, n_fft=n_fft,\n",
      "C:\\Users\\asus\\AppData\\Local\\Temp\\ipykernel_24176\\2826740799.py:31: FutureWarning: Pass y=[ 0.          0.          0.         ... -0.00076881 -0.00070102\n",
      " -0.00071174], sr=22050 as keyword args. From version 0.10 passing these as positional arguments will result in an error\n",
      "  MFCCs = librosa.feature.mfcc(signal, sample_rate, n_mfcc=num_mfcc, n_fft=n_fft,\n"
     ]
    },
    {
     "name": "stdout",
     "output_type": "stream",
     "text": [
      "Dataset\\Dila\\Recording_397.wav: 2\n",
      "Dataset\\Dila\\Recording_398.wav: 2\n",
      "Dataset\\Dila\\Recording_399.wav: 2\n"
     ]
    },
    {
     "name": "stderr",
     "output_type": "stream",
     "text": [
      "C:\\Users\\asus\\AppData\\Local\\Temp\\ipykernel_24176\\2826740799.py:31: FutureWarning: Pass y=[ 0.          0.          0.         ... -0.0006603  -0.00077454\n",
      " -0.0008644 ], sr=22050 as keyword args. From version 0.10 passing these as positional arguments will result in an error\n",
      "  MFCCs = librosa.feature.mfcc(signal, sample_rate, n_mfcc=num_mfcc, n_fft=n_fft,\n",
      "C:\\Users\\asus\\AppData\\Local\\Temp\\ipykernel_24176\\2826740799.py:31: FutureWarning: Pass y=[ 0.0000000e+00  0.0000000e+00  0.0000000e+00 ...  3.2569184e-05\n",
      "  7.5834701e-06 -2.4340713e-06], sr=22050 as keyword args. From version 0.10 passing these as positional arguments will result in an error\n",
      "  MFCCs = librosa.feature.mfcc(signal, sample_rate, n_mfcc=num_mfcc, n_fft=n_fft,\n",
      "C:\\Users\\asus\\AppData\\Local\\Temp\\ipykernel_24176\\2826740799.py:31: FutureWarning: Pass y=[0.         0.         0.         ... 0.00042996 0.00042095 0.00034871], sr=22050 as keyword args. From version 0.10 passing these as positional arguments will result in an error\n",
      "  MFCCs = librosa.feature.mfcc(signal, sample_rate, n_mfcc=num_mfcc, n_fft=n_fft,\n"
     ]
    },
    {
     "name": "stdout",
     "output_type": "stream",
     "text": [
      "Dataset\\Dila\\Recording_400.wav: 2\n",
      "Dataset\\Dila\\Recording_401.wav: 2\n",
      "Dataset\\Dila\\Recording_402.wav: 2\n"
     ]
    },
    {
     "name": "stderr",
     "output_type": "stream",
     "text": [
      "C:\\Users\\asus\\AppData\\Local\\Temp\\ipykernel_24176\\2826740799.py:31: FutureWarning: Pass y=[0.         0.         0.         ... 0.0004901  0.00056627 0.00064812], sr=22050 as keyword args. From version 0.10 passing these as positional arguments will result in an error\n",
      "  MFCCs = librosa.feature.mfcc(signal, sample_rate, n_mfcc=num_mfcc, n_fft=n_fft,\n",
      "C:\\Users\\asus\\AppData\\Local\\Temp\\ipykernel_24176\\2826740799.py:31: FutureWarning: Pass y=[0.         0.         0.         ... 0.00109377 0.00122837 0.001401  ], sr=22050 as keyword args. From version 0.10 passing these as positional arguments will result in an error\n",
      "  MFCCs = librosa.feature.mfcc(signal, sample_rate, n_mfcc=num_mfcc, n_fft=n_fft,\n"
     ]
    },
    {
     "name": "stdout",
     "output_type": "stream",
     "text": [
      "Dataset\\Dila\\Recording_403.wav: 2\n",
      "Dataset\\Dila\\Recording_404.wav: 2\n"
     ]
    },
    {
     "name": "stderr",
     "output_type": "stream",
     "text": [
      "C:\\Users\\asus\\AppData\\Local\\Temp\\ipykernel_24176\\2826740799.py:31: FutureWarning: Pass y=[ 0.0000000e+00  0.0000000e+00  0.0000000e+00 ... -1.2214083e-04\n",
      "  6.0792343e-05  2.4547512e-04], sr=22050 as keyword args. From version 0.10 passing these as positional arguments will result in an error\n",
      "  MFCCs = librosa.feature.mfcc(signal, sample_rate, n_mfcc=num_mfcc, n_fft=n_fft,\n"
     ]
    },
    {
     "name": "stdout",
     "output_type": "stream",
     "text": [
      "Dataset\\Dila\\Recording_405.wav: 2\n"
     ]
    },
    {
     "name": "stderr",
     "output_type": "stream",
     "text": [
      "C:\\Users\\asus\\AppData\\Local\\Temp\\ipykernel_24176\\2826740799.py:31: FutureWarning: Pass y=[0.         0.         0.         ... 0.00017877 0.00017735 0.00012911], sr=22050 as keyword args. From version 0.10 passing these as positional arguments will result in an error\n",
      "  MFCCs = librosa.feature.mfcc(signal, sample_rate, n_mfcc=num_mfcc, n_fft=n_fft,\n",
      "C:\\Users\\asus\\AppData\\Local\\Temp\\ipykernel_24176\\2826740799.py:31: FutureWarning: Pass y=[ 0.0000000e+00  0.0000000e+00  0.0000000e+00 ... -2.8327111e-05\n",
      " -5.1977990e-05 -6.9937356e-05], sr=22050 as keyword args. From version 0.10 passing these as positional arguments will result in an error\n",
      "  MFCCs = librosa.feature.mfcc(signal, sample_rate, n_mfcc=num_mfcc, n_fft=n_fft,\n",
      "C:\\Users\\asus\\AppData\\Local\\Temp\\ipykernel_24176\\2826740799.py:31: FutureWarning: Pass y=[ 0.          0.          0.         ... -0.00012163 -0.00012233\n",
      " -0.00012207], sr=22050 as keyword args. From version 0.10 passing these as positional arguments will result in an error\n",
      "  MFCCs = librosa.feature.mfcc(signal, sample_rate, n_mfcc=num_mfcc, n_fft=n_fft,\n"
     ]
    },
    {
     "name": "stdout",
     "output_type": "stream",
     "text": [
      "Dataset\\Dila\\Recording_406.wav: 2\n",
      "Dataset\\Dila\\Recording_407.wav: 2\n",
      "Dataset\\Dila\\Recording_408.wav: 2\n"
     ]
    },
    {
     "name": "stderr",
     "output_type": "stream",
     "text": [
      "C:\\Users\\asus\\AppData\\Local\\Temp\\ipykernel_24176\\2826740799.py:31: FutureWarning: Pass y=[ 0.          0.          0.         ... -0.00010566 -0.00012841\n",
      " -0.00011532], sr=22050 as keyword args. From version 0.10 passing these as positional arguments will result in an error\n",
      "  MFCCs = librosa.feature.mfcc(signal, sample_rate, n_mfcc=num_mfcc, n_fft=n_fft,\n",
      "C:\\Users\\asus\\AppData\\Local\\Temp\\ipykernel_24176\\2826740799.py:31: FutureWarning: Pass y=[0.         0.         0.         ... 0.00173381 0.00179415 0.0018111 ], sr=22050 as keyword args. From version 0.10 passing these as positional arguments will result in an error\n",
      "  MFCCs = librosa.feature.mfcc(signal, sample_rate, n_mfcc=num_mfcc, n_fft=n_fft,\n",
      "C:\\Users\\asus\\AppData\\Local\\Temp\\ipykernel_24176\\2826740799.py:31: FutureWarning: Pass y=[ 0.          0.          0.         ... -0.00278743 -0.00283431\n",
      " -0.00290611], sr=22050 as keyword args. From version 0.10 passing these as positional arguments will result in an error\n",
      "  MFCCs = librosa.feature.mfcc(signal, sample_rate, n_mfcc=num_mfcc, n_fft=n_fft,\n"
     ]
    },
    {
     "name": "stdout",
     "output_type": "stream",
     "text": [
      "Dataset\\Dila\\Recording_409.wav: 2\n",
      "Dataset\\Dila\\Recording_410.wav: 2\n",
      "Dataset\\Dila\\Recording_411.wav: 2\n"
     ]
    },
    {
     "name": "stderr",
     "output_type": "stream",
     "text": [
      "C:\\Users\\asus\\AppData\\Local\\Temp\\ipykernel_24176\\2826740799.py:31: FutureWarning: Pass y=[ 0.          0.          0.         ... -0.0002273  -0.00017999\n",
      " -0.00018551], sr=22050 as keyword args. From version 0.10 passing these as positional arguments will result in an error\n",
      "  MFCCs = librosa.feature.mfcc(signal, sample_rate, n_mfcc=num_mfcc, n_fft=n_fft,\n",
      "C:\\Users\\asus\\AppData\\Local\\Temp\\ipykernel_24176\\2826740799.py:31: FutureWarning: Pass y=[ 0.0000000e+00  0.0000000e+00  0.0000000e+00 ... -6.2189145e-05\n",
      " -3.8592101e-05 -2.8888131e-05], sr=22050 as keyword args. From version 0.10 passing these as positional arguments will result in an error\n",
      "  MFCCs = librosa.feature.mfcc(signal, sample_rate, n_mfcc=num_mfcc, n_fft=n_fft,\n",
      "C:\\Users\\asus\\AppData\\Local\\Temp\\ipykernel_24176\\2826740799.py:31: FutureWarning: Pass y=[0.         0.         0.         ... 0.00021945 0.00021861 0.00024858], sr=22050 as keyword args. From version 0.10 passing these as positional arguments will result in an error\n",
      "  MFCCs = librosa.feature.mfcc(signal, sample_rate, n_mfcc=num_mfcc, n_fft=n_fft,\n"
     ]
    },
    {
     "name": "stdout",
     "output_type": "stream",
     "text": [
      "Dataset\\Dila\\Recording_412.wav: 2\n",
      "Dataset\\Dila\\Recording_413.wav: 2\n",
      "Dataset\\Dila\\Recording_414.wav: 2\n"
     ]
    },
    {
     "name": "stderr",
     "output_type": "stream",
     "text": [
      "C:\\Users\\asus\\AppData\\Local\\Temp\\ipykernel_24176\\2826740799.py:31: FutureWarning: Pass y=[ 0.          0.          0.         ... -0.00036183 -0.00034432\n",
      " -0.00033753], sr=22050 as keyword args. From version 0.10 passing these as positional arguments will result in an error\n",
      "  MFCCs = librosa.feature.mfcc(signal, sample_rate, n_mfcc=num_mfcc, n_fft=n_fft,\n",
      "C:\\Users\\asus\\AppData\\Local\\Temp\\ipykernel_24176\\2826740799.py:31: FutureWarning: Pass y=[0.         0.         0.         ... 0.00094639 0.00091641 0.00089814], sr=22050 as keyword args. From version 0.10 passing these as positional arguments will result in an error\n",
      "  MFCCs = librosa.feature.mfcc(signal, sample_rate, n_mfcc=num_mfcc, n_fft=n_fft,\n",
      "C:\\Users\\asus\\AppData\\Local\\Temp\\ipykernel_24176\\2826740799.py:31: FutureWarning: Pass y=[ 0.          0.          0.         ... -0.00273808 -0.00180211\n",
      " -0.00096044], sr=22050 as keyword args. From version 0.10 passing these as positional arguments will result in an error\n",
      "  MFCCs = librosa.feature.mfcc(signal, sample_rate, n_mfcc=num_mfcc, n_fft=n_fft,\n"
     ]
    },
    {
     "name": "stdout",
     "output_type": "stream",
     "text": [
      "Dataset\\Dila\\Recording_415.wav: 2\n",
      "Dataset\\Dila\\Recording_416.wav: 2\n",
      "Dataset\\Dila\\Recording_417.wav: 2\n"
     ]
    },
    {
     "name": "stderr",
     "output_type": "stream",
     "text": [
      "C:\\Users\\asus\\AppData\\Local\\Temp\\ipykernel_24176\\2826740799.py:31: FutureWarning: Pass y=[ 0.          0.          0.         ... -0.00127446 -0.00129248\n",
      " -0.00121483], sr=22050 as keyword args. From version 0.10 passing these as positional arguments will result in an error\n",
      "  MFCCs = librosa.feature.mfcc(signal, sample_rate, n_mfcc=num_mfcc, n_fft=n_fft,\n",
      "C:\\Users\\asus\\AppData\\Local\\Temp\\ipykernel_24176\\2826740799.py:31: FutureWarning: Pass y=[ 0.          0.          0.         ... -0.00037085 -0.00042556\n",
      " -0.00046569], sr=22050 as keyword args. From version 0.10 passing these as positional arguments will result in an error\n",
      "  MFCCs = librosa.feature.mfcc(signal, sample_rate, n_mfcc=num_mfcc, n_fft=n_fft,\n",
      "C:\\Users\\asus\\AppData\\Local\\Temp\\ipykernel_24176\\2826740799.py:31: FutureWarning: Pass y=[0.000000e+00 0.000000e+00 0.000000e+00 ... 9.676012e-05 1.495354e-04\n",
      " 1.441057e-04], sr=22050 as keyword args. From version 0.10 passing these as positional arguments will result in an error\n",
      "  MFCCs = librosa.feature.mfcc(signal, sample_rate, n_mfcc=num_mfcc, n_fft=n_fft,\n"
     ]
    },
    {
     "name": "stdout",
     "output_type": "stream",
     "text": [
      "Dataset\\Dila\\Recording_418.wav: 2\n",
      "Dataset\\Dila\\Recording_419.wav: 2\n",
      "Dataset\\Dila\\Recording_420.wav: 2\n"
     ]
    },
    {
     "name": "stderr",
     "output_type": "stream",
     "text": [
      "C:\\Users\\asus\\AppData\\Local\\Temp\\ipykernel_24176\\2826740799.py:31: FutureWarning: Pass y=[ 0.          0.          0.         ... -0.00116395 -0.00107594\n",
      " -0.00098242], sr=22050 as keyword args. From version 0.10 passing these as positional arguments will result in an error\n",
      "  MFCCs = librosa.feature.mfcc(signal, sample_rate, n_mfcc=num_mfcc, n_fft=n_fft,\n"
     ]
    },
    {
     "name": "stdout",
     "output_type": "stream",
     "text": [
      "Dataset\\Dila\\Recording_421.wav: 2\n"
     ]
    },
    {
     "name": "stderr",
     "output_type": "stream",
     "text": [
      "C:\\Users\\asus\\AppData\\Local\\Temp\\ipykernel_24176\\2826740799.py:31: FutureWarning: Pass y=[ 0.0000000e+00  0.0000000e+00  0.0000000e+00 ... -3.0254429e-05\n",
      " -8.3969928e-05 -2.3904689e-04], sr=22050 as keyword args. From version 0.10 passing these as positional arguments will result in an error\n",
      "  MFCCs = librosa.feature.mfcc(signal, sample_rate, n_mfcc=num_mfcc, n_fft=n_fft,\n",
      "C:\\Users\\asus\\AppData\\Local\\Temp\\ipykernel_24176\\2826740799.py:31: FutureWarning: Pass y=[ 0.          0.          0.         ... -0.00201522 -0.00142606\n",
      " -0.0010146 ], sr=22050 as keyword args. From version 0.10 passing these as positional arguments will result in an error\n",
      "  MFCCs = librosa.feature.mfcc(signal, sample_rate, n_mfcc=num_mfcc, n_fft=n_fft,\n",
      "C:\\Users\\asus\\AppData\\Local\\Temp\\ipykernel_24176\\2826740799.py:31: FutureWarning: Pass y=[0.         0.         0.         ... 0.0098555  0.00970938 0.00943838], sr=22050 as keyword args. From version 0.10 passing these as positional arguments will result in an error\n",
      "  MFCCs = librosa.feature.mfcc(signal, sample_rate, n_mfcc=num_mfcc, n_fft=n_fft,\n"
     ]
    },
    {
     "name": "stdout",
     "output_type": "stream",
     "text": [
      "Dataset\\Dila\\Recording_422.wav: 2\n",
      "Dataset\\Dila\\Recording_423.wav: 2\n",
      "Dataset\\Dila\\Recording_424.wav: 2\n"
     ]
    },
    {
     "name": "stderr",
     "output_type": "stream",
     "text": [
      "C:\\Users\\asus\\AppData\\Local\\Temp\\ipykernel_24176\\2826740799.py:31: FutureWarning: Pass y=[ 0.          0.          0.         ... -0.00024736 -0.0002462\n",
      " -0.00011874], sr=22050 as keyword args. From version 0.10 passing these as positional arguments will result in an error\n",
      "  MFCCs = librosa.feature.mfcc(signal, sample_rate, n_mfcc=num_mfcc, n_fft=n_fft,\n",
      "C:\\Users\\asus\\AppData\\Local\\Temp\\ipykernel_24176\\2826740799.py:31: FutureWarning: Pass y=[ 0.          0.          0.         ... -0.00081908 -0.0007571\n",
      " -0.00085464], sr=22050 as keyword args. From version 0.10 passing these as positional arguments will result in an error\n",
      "  MFCCs = librosa.feature.mfcc(signal, sample_rate, n_mfcc=num_mfcc, n_fft=n_fft,\n",
      "C:\\Users\\asus\\AppData\\Local\\Temp\\ipykernel_24176\\2826740799.py:31: FutureWarning: Pass y=[ 0.0000000e+00  0.0000000e+00  0.0000000e+00 ...  2.9924688e-05\n",
      "  2.5812582e-05 -1.0156303e-05], sr=22050 as keyword args. From version 0.10 passing these as positional arguments will result in an error\n",
      "  MFCCs = librosa.feature.mfcc(signal, sample_rate, n_mfcc=num_mfcc, n_fft=n_fft,\n"
     ]
    },
    {
     "name": "stdout",
     "output_type": "stream",
     "text": [
      "Dataset\\Dila\\Recording_425.wav: 2\n",
      "Dataset\\Dila\\Recording_426.wav: 2\n",
      "Dataset\\Dila\\Recording_427.wav: 2\n"
     ]
    },
    {
     "name": "stderr",
     "output_type": "stream",
     "text": [
      "C:\\Users\\asus\\AppData\\Local\\Temp\\ipykernel_24176\\2826740799.py:31: FutureWarning: Pass y=[ 0.          0.          0.         ... -0.02024288 -0.02137316\n",
      " -0.02357188], sr=22050 as keyword args. From version 0.10 passing these as positional arguments will result in an error\n",
      "  MFCCs = librosa.feature.mfcc(signal, sample_rate, n_mfcc=num_mfcc, n_fft=n_fft,\n",
      "C:\\Users\\asus\\AppData\\Local\\Temp\\ipykernel_24176\\2826740799.py:31: FutureWarning: Pass y=[ 0.          0.          0.         ... -0.00055424 -0.00054955\n",
      " -0.00054353], sr=22050 as keyword args. From version 0.10 passing these as positional arguments will result in an error\n",
      "  MFCCs = librosa.feature.mfcc(signal, sample_rate, n_mfcc=num_mfcc, n_fft=n_fft,\n",
      "C:\\Users\\asus\\AppData\\Local\\Temp\\ipykernel_24176\\2826740799.py:31: FutureWarning: Pass y=[0.         0.         0.         ... 0.00024605 0.00024283 0.00024517], sr=22050 as keyword args. From version 0.10 passing these as positional arguments will result in an error\n",
      "  MFCCs = librosa.feature.mfcc(signal, sample_rate, n_mfcc=num_mfcc, n_fft=n_fft,\n"
     ]
    },
    {
     "name": "stdout",
     "output_type": "stream",
     "text": [
      "Dataset\\Dila\\Recording_428.wav: 2\n",
      "Dataset\\Dila\\Recording_429.wav: 2\n",
      "Dataset\\Dila\\Recording_430.wav: 2\n"
     ]
    },
    {
     "name": "stderr",
     "output_type": "stream",
     "text": [
      "C:\\Users\\asus\\AppData\\Local\\Temp\\ipykernel_24176\\2826740799.py:31: FutureWarning: Pass y=[0.         0.         0.         ... 0.00085403 0.00091585 0.00097654], sr=22050 as keyword args. From version 0.10 passing these as positional arguments will result in an error\n",
      "  MFCCs = librosa.feature.mfcc(signal, sample_rate, n_mfcc=num_mfcc, n_fft=n_fft,\n"
     ]
    },
    {
     "name": "stdout",
     "output_type": "stream",
     "text": [
      "Dataset\\Dila\\Recording_431.wav: 2\n"
     ]
    },
    {
     "name": "stderr",
     "output_type": "stream",
     "text": [
      "C:\\Users\\asus\\AppData\\Local\\Temp\\ipykernel_24176\\2826740799.py:31: FutureWarning: Pass y=[0.         0.         0.         ... 0.0007363  0.00075521 0.00083359], sr=22050 as keyword args. From version 0.10 passing these as positional arguments will result in an error\n",
      "  MFCCs = librosa.feature.mfcc(signal, sample_rate, n_mfcc=num_mfcc, n_fft=n_fft,\n",
      "C:\\Users\\asus\\AppData\\Local\\Temp\\ipykernel_24176\\2826740799.py:31: FutureWarning: Pass y=[ 0.          0.          0.         ... -0.00188499 -0.001877\n",
      " -0.00182614], sr=22050 as keyword args. From version 0.10 passing these as positional arguments will result in an error\n",
      "  MFCCs = librosa.feature.mfcc(signal, sample_rate, n_mfcc=num_mfcc, n_fft=n_fft,\n",
      "C:\\Users\\asus\\AppData\\Local\\Temp\\ipykernel_24176\\2826740799.py:31: FutureWarning: Pass y=[ 0.          0.          0.         ... -0.00011884 -0.00010912\n",
      " -0.0001689 ], sr=22050 as keyword args. From version 0.10 passing these as positional arguments will result in an error\n",
      "  MFCCs = librosa.feature.mfcc(signal, sample_rate, n_mfcc=num_mfcc, n_fft=n_fft,\n"
     ]
    },
    {
     "name": "stdout",
     "output_type": "stream",
     "text": [
      "Dataset\\Dila\\Recording_432.wav: 2\n",
      "Dataset\\Dila\\Recording_433.wav: 2\n",
      "Dataset\\Dila\\Recording_434.wav: 2\n"
     ]
    },
    {
     "name": "stderr",
     "output_type": "stream",
     "text": [
      "C:\\Users\\asus\\AppData\\Local\\Temp\\ipykernel_24176\\2826740799.py:31: FutureWarning: Pass y=[ 0.0000000e+00  0.0000000e+00  0.0000000e+00 ... -8.5121712e-05\n",
      " -3.5648455e-04 -5.1825616e-04], sr=22050 as keyword args. From version 0.10 passing these as positional arguments will result in an error\n",
      "  MFCCs = librosa.feature.mfcc(signal, sample_rate, n_mfcc=num_mfcc, n_fft=n_fft,\n",
      "C:\\Users\\asus\\AppData\\Local\\Temp\\ipykernel_24176\\2826740799.py:31: FutureWarning: Pass y=[ 0.          0.          0.         ... -0.00023095 -0.00029511\n",
      " -0.00018074], sr=22050 as keyword args. From version 0.10 passing these as positional arguments will result in an error\n",
      "  MFCCs = librosa.feature.mfcc(signal, sample_rate, n_mfcc=num_mfcc, n_fft=n_fft,\n",
      "C:\\Users\\asus\\AppData\\Local\\Temp\\ipykernel_24176\\2826740799.py:31: FutureWarning: Pass y=[ 0.          0.          0.         ...  0.00023307 -0.00011304\n",
      " -0.00033329], sr=22050 as keyword args. From version 0.10 passing these as positional arguments will result in an error\n",
      "  MFCCs = librosa.feature.mfcc(signal, sample_rate, n_mfcc=num_mfcc, n_fft=n_fft,\n"
     ]
    },
    {
     "name": "stdout",
     "output_type": "stream",
     "text": [
      "Dataset\\Dila\\Recording_435.wav: 2\n",
      "Dataset\\Dila\\Recording_436.wav: 2\n",
      "Dataset\\Dila\\Recording_437.wav: 2\n"
     ]
    },
    {
     "name": "stderr",
     "output_type": "stream",
     "text": [
      "C:\\Users\\asus\\AppData\\Local\\Temp\\ipykernel_24176\\2826740799.py:31: FutureWarning: Pass y=[ 0.          0.          0.         ... -0.00069083 -0.00055921\n",
      " -0.00054785], sr=22050 as keyword args. From version 0.10 passing these as positional arguments will result in an error\n",
      "  MFCCs = librosa.feature.mfcc(signal, sample_rate, n_mfcc=num_mfcc, n_fft=n_fft,\n",
      "C:\\Users\\asus\\AppData\\Local\\Temp\\ipykernel_24176\\2826740799.py:31: FutureWarning: Pass y=[ 0.0000000e+00  0.0000000e+00  0.0000000e+00 ... -3.2043681e-05\n",
      " -5.0748742e-05 -4.6632118e-05], sr=22050 as keyword args. From version 0.10 passing these as positional arguments will result in an error\n",
      "  MFCCs = librosa.feature.mfcc(signal, sample_rate, n_mfcc=num_mfcc, n_fft=n_fft,\n",
      "C:\\Users\\asus\\AppData\\Local\\Temp\\ipykernel_24176\\2826740799.py:31: FutureWarning: Pass y=[0.         0.         0.         ... 0.00045177 0.00060725 0.00061627], sr=22050 as keyword args. From version 0.10 passing these as positional arguments will result in an error\n",
      "  MFCCs = librosa.feature.mfcc(signal, sample_rate, n_mfcc=num_mfcc, n_fft=n_fft,\n",
      "C:\\Users\\asus\\AppData\\Local\\Temp\\ipykernel_24176\\2826740799.py:31: FutureWarning: Pass y=[-1.9475414e-03 -1.2278699e-03  1.1269280e-04 ... -5.3097101e-06\n",
      "  4.9754103e-06  1.4336262e-06], sr=22050 as keyword args. From version 0.10 passing these as positional arguments will result in an error\n",
      "  MFCCs = librosa.feature.mfcc(signal, sample_rate, n_mfcc=num_mfcc, n_fft=n_fft,\n"
     ]
    },
    {
     "name": "stdout",
     "output_type": "stream",
     "text": [
      "Dataset\\Dila\\Recording_438.wav: 2\n",
      "\n",
      "Processing: 'Dataset\\Ima'\n",
      "Dataset\\Ima\\Recording_860.wav: 3\n",
      "Dataset\\Ima\\Recording_862.wav: 3\n",
      "Dataset\\Ima\\Recording_863.wav: 3\n"
     ]
    },
    {
     "name": "stderr",
     "output_type": "stream",
     "text": [
      "C:\\Users\\asus\\AppData\\Local\\Temp\\ipykernel_24176\\2826740799.py:31: FutureWarning: Pass y=[ 0.          0.          0.         ... -0.00228707 -0.002374\n",
      " -0.00244106], sr=22050 as keyword args. From version 0.10 passing these as positional arguments will result in an error\n",
      "  MFCCs = librosa.feature.mfcc(signal, sample_rate, n_mfcc=num_mfcc, n_fft=n_fft,\n",
      "C:\\Users\\asus\\AppData\\Local\\Temp\\ipykernel_24176\\2826740799.py:31: FutureWarning: Pass y=[0.         0.         0.         ... 0.00100103 0.00081684 0.00062592], sr=22050 as keyword args. From version 0.10 passing these as positional arguments will result in an error\n",
      "  MFCCs = librosa.feature.mfcc(signal, sample_rate, n_mfcc=num_mfcc, n_fft=n_fft,\n",
      "C:\\Users\\asus\\AppData\\Local\\Temp\\ipykernel_24176\\2826740799.py:31: FutureWarning: Pass y=[ 0.0000000e+00  0.0000000e+00  0.0000000e+00 ... -8.4807121e-05\n",
      " -1.2623251e-04 -2.3906428e-04], sr=22050 as keyword args. From version 0.10 passing these as positional arguments will result in an error\n",
      "  MFCCs = librosa.feature.mfcc(signal, sample_rate, n_mfcc=num_mfcc, n_fft=n_fft,\n",
      "C:\\Users\\asus\\AppData\\Local\\Temp\\ipykernel_24176\\2826740799.py:31: FutureWarning: Pass y=[ 0.          0.          0.         ... -0.00085349 -0.00091292\n",
      " -0.00091259], sr=22050 as keyword args. From version 0.10 passing these as positional arguments will result in an error\n",
      "  MFCCs = librosa.feature.mfcc(signal, sample_rate, n_mfcc=num_mfcc, n_fft=n_fft,\n"
     ]
    },
    {
     "name": "stdout",
     "output_type": "stream",
     "text": [
      "Dataset\\Ima\\Recording_864.wav: 3\n",
      "Dataset\\Ima\\Recording_865.wav: 3\n",
      "Dataset\\Ima\\Recording_866.wav: 3\n",
      "Dataset\\Ima\\Recording_867.wav: 3\n"
     ]
    },
    {
     "name": "stderr",
     "output_type": "stream",
     "text": [
      "C:\\Users\\asus\\AppData\\Local\\Temp\\ipykernel_24176\\2826740799.py:31: FutureWarning: Pass y=[0.0000000e+00 0.0000000e+00 0.0000000e+00 ... 6.7515699e-05 1.5959176e-05\n",
      " 2.5886102e-06], sr=22050 as keyword args. From version 0.10 passing these as positional arguments will result in an error\n",
      "  MFCCs = librosa.feature.mfcc(signal, sample_rate, n_mfcc=num_mfcc, n_fft=n_fft,\n",
      "C:\\Users\\asus\\AppData\\Local\\Temp\\ipykernel_24176\\2826740799.py:31: FutureWarning: Pass y=[-9.1983497e-07  1.5739892e-06 -3.9843087e-07 ...  5.5030005e-06\n",
      " -5.9478111e-06  5.6217223e-06], sr=22050 as keyword args. From version 0.10 passing these as positional arguments will result in an error\n",
      "  MFCCs = librosa.feature.mfcc(signal, sample_rate, n_mfcc=num_mfcc, n_fft=n_fft,\n",
      "C:\\Users\\asus\\AppData\\Local\\Temp\\ipykernel_24176\\2826740799.py:31: FutureWarning: Pass y=[0.         0.         0.         ... 0.00482289 0.00454687 0.00428831], sr=22050 as keyword args. From version 0.10 passing these as positional arguments will result in an error\n",
      "  MFCCs = librosa.feature.mfcc(signal, sample_rate, n_mfcc=num_mfcc, n_fft=n_fft,\n"
     ]
    },
    {
     "name": "stdout",
     "output_type": "stream",
     "text": [
      "Dataset\\Ima\\Recording_868.wav: 3\n",
      "Dataset\\Ima\\Recording_869.wav: 3\n",
      "Dataset\\Ima\\Recording_870.wav: 3\n"
     ]
    },
    {
     "name": "stderr",
     "output_type": "stream",
     "text": [
      "C:\\Users\\asus\\AppData\\Local\\Temp\\ipykernel_24176\\2826740799.py:31: FutureWarning: Pass y=[ 1.9038308e-06 -2.2675260e-06  3.7894034e-07 ...  2.9403265e-07\n",
      " -4.4114702e-07  2.4966739e-06], sr=22050 as keyword args. From version 0.10 passing these as positional arguments will result in an error\n",
      "  MFCCs = librosa.feature.mfcc(signal, sample_rate, n_mfcc=num_mfcc, n_fft=n_fft,\n",
      "C:\\Users\\asus\\AppData\\Local\\Temp\\ipykernel_24176\\2826740799.py:31: FutureWarning: Pass y=[ 0.          0.          0.         ... -0.0065894  -0.00696753\n",
      " -0.00735947], sr=22050 as keyword args. From version 0.10 passing these as positional arguments will result in an error\n",
      "  MFCCs = librosa.feature.mfcc(signal, sample_rate, n_mfcc=num_mfcc, n_fft=n_fft,\n"
     ]
    },
    {
     "name": "stdout",
     "output_type": "stream",
     "text": [
      "Dataset\\Ima\\Recording_871.wav: 3\n",
      "Dataset\\Ima\\Recording_872.wav: 3\n"
     ]
    },
    {
     "name": "stderr",
     "output_type": "stream",
     "text": [
      "C:\\Users\\asus\\AppData\\Local\\Temp\\ipykernel_24176\\2826740799.py:31: FutureWarning: Pass y=[0.         0.         0.         ... 0.00015189 0.00025597 0.00045018], sr=22050 as keyword args. From version 0.10 passing these as positional arguments will result in an error\n",
      "  MFCCs = librosa.feature.mfcc(signal, sample_rate, n_mfcc=num_mfcc, n_fft=n_fft,\n",
      "C:\\Users\\asus\\AppData\\Local\\Temp\\ipykernel_24176\\2826740799.py:31: FutureWarning: Pass y=[ 0.          0.          0.         ... -0.00641494 -0.0062825\n",
      " -0.00644925], sr=22050 as keyword args. From version 0.10 passing these as positional arguments will result in an error\n",
      "  MFCCs = librosa.feature.mfcc(signal, sample_rate, n_mfcc=num_mfcc, n_fft=n_fft,\n",
      "C:\\Users\\asus\\AppData\\Local\\Temp\\ipykernel_24176\\2826740799.py:31: FutureWarning: Pass y=[0.         0.         0.         ... 0.00149262 0.00152425 0.00158653], sr=22050 as keyword args. From version 0.10 passing these as positional arguments will result in an error\n",
      "  MFCCs = librosa.feature.mfcc(signal, sample_rate, n_mfcc=num_mfcc, n_fft=n_fft,\n",
      "C:\\Users\\asus\\AppData\\Local\\Temp\\ipykernel_24176\\2826740799.py:31: FutureWarning: Pass y=[ 0.          0.          0.         ... -0.00102387 -0.00123201\n",
      " -0.00133468], sr=22050 as keyword args. From version 0.10 passing these as positional arguments will result in an error\n",
      "  MFCCs = librosa.feature.mfcc(signal, sample_rate, n_mfcc=num_mfcc, n_fft=n_fft,\n"
     ]
    },
    {
     "name": "stdout",
     "output_type": "stream",
     "text": [
      "Dataset\\Ima\\Recording_873.wav: 3\n",
      "Dataset\\Ima\\Recording_874.wav: 3\n",
      "Dataset\\Ima\\Recording_875.wav: 3\n",
      "Dataset\\Ima\\Recording_876.wav: 3\n"
     ]
    },
    {
     "name": "stderr",
     "output_type": "stream",
     "text": [
      "C:\\Users\\asus\\AppData\\Local\\Temp\\ipykernel_24176\\2826740799.py:31: FutureWarning: Pass y=[0.         0.         0.         ... 0.00013938 0.00018649 0.00015879], sr=22050 as keyword args. From version 0.10 passing these as positional arguments will result in an error\n",
      "  MFCCs = librosa.feature.mfcc(signal, sample_rate, n_mfcc=num_mfcc, n_fft=n_fft,\n",
      "C:\\Users\\asus\\AppData\\Local\\Temp\\ipykernel_24176\\2826740799.py:31: FutureWarning: Pass y=[0.         0.         0.         ... 0.00377976 0.00457338 0.00550289], sr=22050 as keyword args. From version 0.10 passing these as positional arguments will result in an error\n",
      "  MFCCs = librosa.feature.mfcc(signal, sample_rate, n_mfcc=num_mfcc, n_fft=n_fft,\n",
      "C:\\Users\\asus\\AppData\\Local\\Temp\\ipykernel_24176\\2826740799.py:31: FutureWarning: Pass y=[ 0.          0.          0.         ... -0.00814559 -0.00769183\n",
      " -0.00743922], sr=22050 as keyword args. From version 0.10 passing these as positional arguments will result in an error\n",
      "  MFCCs = librosa.feature.mfcc(signal, sample_rate, n_mfcc=num_mfcc, n_fft=n_fft,\n",
      "C:\\Users\\asus\\AppData\\Local\\Temp\\ipykernel_24176\\2826740799.py:31: FutureWarning: Pass y=[0.         0.         0.         ... 0.00901884 0.00928094 0.0096586 ], sr=22050 as keyword args. From version 0.10 passing these as positional arguments will result in an error\n",
      "  MFCCs = librosa.feature.mfcc(signal, sample_rate, n_mfcc=num_mfcc, n_fft=n_fft,\n"
     ]
    },
    {
     "name": "stdout",
     "output_type": "stream",
     "text": [
      "Dataset\\Ima\\Recording_877.wav: 3\n",
      "Dataset\\Ima\\Recording_878.wav: 3\n",
      "Dataset\\Ima\\Recording_879.wav: 3\n",
      "Dataset\\Ima\\Recording_880.wav: 3\n"
     ]
    },
    {
     "name": "stderr",
     "output_type": "stream",
     "text": [
      "C:\\Users\\asus\\AppData\\Local\\Temp\\ipykernel_24176\\2826740799.py:31: FutureWarning: Pass y=[0.         0.         0.         ... 0.01238837 0.01290623 0.01330728], sr=22050 as keyword args. From version 0.10 passing these as positional arguments will result in an error\n",
      "  MFCCs = librosa.feature.mfcc(signal, sample_rate, n_mfcc=num_mfcc, n_fft=n_fft,\n",
      "C:\\Users\\asus\\AppData\\Local\\Temp\\ipykernel_24176\\2826740799.py:31: FutureWarning: Pass y=[ 0.          0.          0.         ... -0.04263036 -0.04239615\n",
      " -0.04287814], sr=22050 as keyword args. From version 0.10 passing these as positional arguments will result in an error\n",
      "  MFCCs = librosa.feature.mfcc(signal, sample_rate, n_mfcc=num_mfcc, n_fft=n_fft,\n",
      "C:\\Users\\asus\\AppData\\Local\\Temp\\ipykernel_24176\\2826740799.py:31: FutureWarning: Pass y=[0.         0.         0.         ... 0.00202133 0.00211078 0.00211561], sr=22050 as keyword args. From version 0.10 passing these as positional arguments will result in an error\n",
      "  MFCCs = librosa.feature.mfcc(signal, sample_rate, n_mfcc=num_mfcc, n_fft=n_fft,\n"
     ]
    },
    {
     "name": "stdout",
     "output_type": "stream",
     "text": [
      "Dataset\\Ima\\Recording_881.wav: 3\n",
      "Dataset\\Ima\\Recording_882.wav: 3\n",
      "Dataset\\Ima\\Recording_883.wav: 3\n"
     ]
    },
    {
     "name": "stderr",
     "output_type": "stream",
     "text": [
      "C:\\Users\\asus\\AppData\\Local\\Temp\\ipykernel_24176\\2826740799.py:31: FutureWarning: Pass y=[ 0.          0.          0.         ... -0.03902868 -0.04054395\n",
      " -0.04239476], sr=22050 as keyword args. From version 0.10 passing these as positional arguments will result in an error\n",
      "  MFCCs = librosa.feature.mfcc(signal, sample_rate, n_mfcc=num_mfcc, n_fft=n_fft,\n",
      "C:\\Users\\asus\\AppData\\Local\\Temp\\ipykernel_24176\\2826740799.py:31: FutureWarning: Pass y=[ 0.          0.          0.         ... -0.00481159 -0.00433018\n",
      " -0.00392516], sr=22050 as keyword args. From version 0.10 passing these as positional arguments will result in an error\n",
      "  MFCCs = librosa.feature.mfcc(signal, sample_rate, n_mfcc=num_mfcc, n_fft=n_fft,\n",
      "C:\\Users\\asus\\AppData\\Local\\Temp\\ipykernel_24176\\2826740799.py:31: FutureWarning: Pass y=[ 0.          0.          0.         ... -0.00304859 -0.00280275\n",
      " -0.0030223 ], sr=22050 as keyword args. From version 0.10 passing these as positional arguments will result in an error\n",
      "  MFCCs = librosa.feature.mfcc(signal, sample_rate, n_mfcc=num_mfcc, n_fft=n_fft,\n",
      "C:\\Users\\asus\\AppData\\Local\\Temp\\ipykernel_24176\\2826740799.py:31: FutureWarning: Pass y=[ 0.          0.          0.         ... -0.00928314 -0.00879631\n",
      " -0.00756509], sr=22050 as keyword args. From version 0.10 passing these as positional arguments will result in an error\n",
      "  MFCCs = librosa.feature.mfcc(signal, sample_rate, n_mfcc=num_mfcc, n_fft=n_fft,\n"
     ]
    },
    {
     "name": "stdout",
     "output_type": "stream",
     "text": [
      "Dataset\\Ima\\Recording_884.wav: 3\n",
      "Dataset\\Ima\\Recording_885.wav: 3\n",
      "Dataset\\Ima\\Recording_886.wav: 3\n",
      "Dataset\\Ima\\Recording_887.wav: 3\n"
     ]
    },
    {
     "name": "stderr",
     "output_type": "stream",
     "text": [
      "C:\\Users\\asus\\AppData\\Local\\Temp\\ipykernel_24176\\2826740799.py:31: FutureWarning: Pass y=[0.         0.         0.         ... 0.0234618  0.02110001 0.01987329], sr=22050 as keyword args. From version 0.10 passing these as positional arguments will result in an error\n",
      "  MFCCs = librosa.feature.mfcc(signal, sample_rate, n_mfcc=num_mfcc, n_fft=n_fft,\n",
      "C:\\Users\\asus\\AppData\\Local\\Temp\\ipykernel_24176\\2826740799.py:31: FutureWarning: Pass y=[0.         0.         0.         ... 0.02619507 0.02325031 0.02096535], sr=22050 as keyword args. From version 0.10 passing these as positional arguments will result in an error\n",
      "  MFCCs = librosa.feature.mfcc(signal, sample_rate, n_mfcc=num_mfcc, n_fft=n_fft,\n"
     ]
    },
    {
     "name": "stdout",
     "output_type": "stream",
     "text": [
      "Dataset\\Ima\\Recording_888.wav: 3\n",
      "Dataset\\Ima\\Recording_889.wav: 3\n"
     ]
    },
    {
     "name": "stderr",
     "output_type": "stream",
     "text": [
      "C:\\Users\\asus\\AppData\\Local\\Temp\\ipykernel_24176\\2826740799.py:31: FutureWarning: Pass y=[0.         0.         0.         ... 0.03841685 0.03713464 0.03554654], sr=22050 as keyword args. From version 0.10 passing these as positional arguments will result in an error\n",
      "  MFCCs = librosa.feature.mfcc(signal, sample_rate, n_mfcc=num_mfcc, n_fft=n_fft,\n",
      "C:\\Users\\asus\\AppData\\Local\\Temp\\ipykernel_24176\\2826740799.py:31: FutureWarning: Pass y=[0.         0.         0.         ... 0.01455712 0.01342072 0.0118157 ], sr=22050 as keyword args. From version 0.10 passing these as positional arguments will result in an error\n",
      "  MFCCs = librosa.feature.mfcc(signal, sample_rate, n_mfcc=num_mfcc, n_fft=n_fft,\n",
      "C:\\Users\\asus\\AppData\\Local\\Temp\\ipykernel_24176\\2826740799.py:31: FutureWarning: Pass y=[0.         0.         0.         ... 0.00237283 0.00255317 0.0030512 ], sr=22050 as keyword args. From version 0.10 passing these as positional arguments will result in an error\n",
      "  MFCCs = librosa.feature.mfcc(signal, sample_rate, n_mfcc=num_mfcc, n_fft=n_fft,\n"
     ]
    },
    {
     "name": "stdout",
     "output_type": "stream",
     "text": [
      "Dataset\\Ima\\Recording_890.wav: 3\n",
      "Dataset\\Ima\\Recording_891.wav: 3\n",
      "Dataset\\Ima\\Recording_892.wav: 3\n"
     ]
    },
    {
     "name": "stderr",
     "output_type": "stream",
     "text": [
      "C:\\Users\\asus\\AppData\\Local\\Temp\\ipykernel_24176\\2826740799.py:31: FutureWarning: Pass y=[0.         0.         0.         ... 0.03280051 0.02850638 0.01402399], sr=22050 as keyword args. From version 0.10 passing these as positional arguments will result in an error\n",
      "  MFCCs = librosa.feature.mfcc(signal, sample_rate, n_mfcc=num_mfcc, n_fft=n_fft,\n",
      "C:\\Users\\asus\\AppData\\Local\\Temp\\ipykernel_24176\\2826740799.py:31: FutureWarning: Pass y=[ 0.          0.          0.         ... -0.01135032 -0.01159636\n",
      " -0.01095171], sr=22050 as keyword args. From version 0.10 passing these as positional arguments will result in an error\n",
      "  MFCCs = librosa.feature.mfcc(signal, sample_rate, n_mfcc=num_mfcc, n_fft=n_fft,\n"
     ]
    },
    {
     "name": "stdout",
     "output_type": "stream",
     "text": [
      "Dataset\\Ima\\Recording_893.wav: 3\n",
      "Dataset\\Ima\\Recording_894.wav: 3\n"
     ]
    },
    {
     "name": "stderr",
     "output_type": "stream",
     "text": [
      "C:\\Users\\asus\\AppData\\Local\\Temp\\ipykernel_24176\\2826740799.py:31: FutureWarning: Pass y=[ 0.          0.          0.         ...  0.00027399 -0.00012257\n",
      " -0.00029437], sr=22050 as keyword args. From version 0.10 passing these as positional arguments will result in an error\n",
      "  MFCCs = librosa.feature.mfcc(signal, sample_rate, n_mfcc=num_mfcc, n_fft=n_fft,\n",
      "C:\\Users\\asus\\AppData\\Local\\Temp\\ipykernel_24176\\2826740799.py:31: FutureWarning: Pass y=[0.0000000e+00 0.0000000e+00 0.0000000e+00 ... 1.1533251e-04 9.8749922e-05\n",
      " 6.2051467e-06], sr=22050 as keyword args. From version 0.10 passing these as positional arguments will result in an error\n",
      "  MFCCs = librosa.feature.mfcc(signal, sample_rate, n_mfcc=num_mfcc, n_fft=n_fft,\n"
     ]
    },
    {
     "name": "stdout",
     "output_type": "stream",
     "text": [
      "Dataset\\Ima\\Recording_895.wav: 3\n",
      "Dataset\\Ima\\Recording_896.wav: 3\n"
     ]
    },
    {
     "name": "stderr",
     "output_type": "stream",
     "text": [
      "C:\\Users\\asus\\AppData\\Local\\Temp\\ipykernel_24176\\2826740799.py:31: FutureWarning: Pass y=[ 0.          0.          0.         ... -0.01498619 -0.01498207\n",
      " -0.01468384], sr=22050 as keyword args. From version 0.10 passing these as positional arguments will result in an error\n",
      "  MFCCs = librosa.feature.mfcc(signal, sample_rate, n_mfcc=num_mfcc, n_fft=n_fft,\n",
      "C:\\Users\\asus\\AppData\\Local\\Temp\\ipykernel_24176\\2826740799.py:31: FutureWarning: Pass y=[ 0.          0.          0.         ... -0.00896398 -0.00533942\n",
      " -0.00714927], sr=22050 as keyword args. From version 0.10 passing these as positional arguments will result in an error\n",
      "  MFCCs = librosa.feature.mfcc(signal, sample_rate, n_mfcc=num_mfcc, n_fft=n_fft,\n",
      "C:\\Users\\asus\\AppData\\Local\\Temp\\ipykernel_24176\\2826740799.py:31: FutureWarning: Pass y=[0.         0.         0.         ... 0.00497789 0.00463776 0.00232859], sr=22050 as keyword args. From version 0.10 passing these as positional arguments will result in an error\n",
      "  MFCCs = librosa.feature.mfcc(signal, sample_rate, n_mfcc=num_mfcc, n_fft=n_fft,\n"
     ]
    },
    {
     "name": "stdout",
     "output_type": "stream",
     "text": [
      "Dataset\\Ima\\Recording_897.wav: 3\n",
      "Dataset\\Ima\\Recording_898.wav: 3\n",
      "Dataset\\Ima\\Recording_899.wav: 3\n"
     ]
    },
    {
     "name": "stderr",
     "output_type": "stream",
     "text": [
      "C:\\Users\\asus\\AppData\\Local\\Temp\\ipykernel_24176\\2826740799.py:31: FutureWarning: Pass y=[ 0.          0.          0.         ... -0.00893685 -0.00976793\n",
      " -0.01002619], sr=22050 as keyword args. From version 0.10 passing these as positional arguments will result in an error\n",
      "  MFCCs = librosa.feature.mfcc(signal, sample_rate, n_mfcc=num_mfcc, n_fft=n_fft,\n",
      "C:\\Users\\asus\\AppData\\Local\\Temp\\ipykernel_24176\\2826740799.py:31: FutureWarning: Pass y=[0.         0.         0.         ... 0.0085492  0.00839069 0.00843263], sr=22050 as keyword args. From version 0.10 passing these as positional arguments will result in an error\n",
      "  MFCCs = librosa.feature.mfcc(signal, sample_rate, n_mfcc=num_mfcc, n_fft=n_fft,\n",
      "C:\\Users\\asus\\AppData\\Local\\Temp\\ipykernel_24176\\2826740799.py:31: FutureWarning: Pass y=[0.         0.         0.         ... 0.00180498 0.00183542 0.00194052], sr=22050 as keyword args. From version 0.10 passing these as positional arguments will result in an error\n",
      "  MFCCs = librosa.feature.mfcc(signal, sample_rate, n_mfcc=num_mfcc, n_fft=n_fft,\n"
     ]
    },
    {
     "name": "stdout",
     "output_type": "stream",
     "text": [
      "Dataset\\Ima\\Recording_900.wav: 3\n",
      "Dataset\\Ima\\Recording_901.wav: 3\n",
      "Dataset\\Ima\\Recording_902.wav: 3\n"
     ]
    },
    {
     "name": "stderr",
     "output_type": "stream",
     "text": [
      "C:\\Users\\asus\\AppData\\Local\\Temp\\ipykernel_24176\\2826740799.py:31: FutureWarning: Pass y=[0.         0.         0.         ... 0.00220234 0.00261955 0.00301538], sr=22050 as keyword args. From version 0.10 passing these as positional arguments will result in an error\n",
      "  MFCCs = librosa.feature.mfcc(signal, sample_rate, n_mfcc=num_mfcc, n_fft=n_fft,\n",
      "C:\\Users\\asus\\AppData\\Local\\Temp\\ipykernel_24176\\2826740799.py:31: FutureWarning: Pass y=[ 1.9580234e-06 -2.0960454e-06  4.2602079e-07 ...  5.3907438e-06\n",
      " -3.3614356e-06  5.7662498e-07], sr=22050 as keyword args. From version 0.10 passing these as positional arguments will result in an error\n",
      "  MFCCs = librosa.feature.mfcc(signal, sample_rate, n_mfcc=num_mfcc, n_fft=n_fft,\n",
      "C:\\Users\\asus\\AppData\\Local\\Temp\\ipykernel_24176\\2826740799.py:31: FutureWarning: Pass y=[ 0.          0.          0.         ... -0.00051697 -0.00085184\n",
      " -0.00079436], sr=22050 as keyword args. From version 0.10 passing these as positional arguments will result in an error\n",
      "  MFCCs = librosa.feature.mfcc(signal, sample_rate, n_mfcc=num_mfcc, n_fft=n_fft,\n"
     ]
    },
    {
     "name": "stdout",
     "output_type": "stream",
     "text": [
      "Dataset\\Ima\\Recording_903.wav: 3\n",
      "Dataset\\Ima\\Recording_904.wav: 3\n",
      "Dataset\\Ima\\Recording_905.wav: 3\n"
     ]
    },
    {
     "name": "stderr",
     "output_type": "stream",
     "text": [
      "C:\\Users\\asus\\AppData\\Local\\Temp\\ipykernel_24176\\2826740799.py:31: FutureWarning: Pass y=[0.         0.         0.         ... 0.00148467 0.00165471 0.00195346], sr=22050 as keyword args. From version 0.10 passing these as positional arguments will result in an error\n",
      "  MFCCs = librosa.feature.mfcc(signal, sample_rate, n_mfcc=num_mfcc, n_fft=n_fft,\n",
      "C:\\Users\\asus\\AppData\\Local\\Temp\\ipykernel_24176\\2826740799.py:31: FutureWarning: Pass y=[0.         0.         0.         ... 0.02419502 0.02479057 0.02538344], sr=22050 as keyword args. From version 0.10 passing these as positional arguments will result in an error\n",
      "  MFCCs = librosa.feature.mfcc(signal, sample_rate, n_mfcc=num_mfcc, n_fft=n_fft,\n"
     ]
    },
    {
     "name": "stdout",
     "output_type": "stream",
     "text": [
      "Dataset\\Ima\\Recording_907.wav: 3\n",
      "Dataset\\Ima\\Recording_908.wav: 3\n"
     ]
    },
    {
     "name": "stderr",
     "output_type": "stream",
     "text": [
      "C:\\Users\\asus\\AppData\\Local\\Temp\\ipykernel_24176\\2826740799.py:31: FutureWarning: Pass y=[0.         0.         0.         ... 0.00977087 0.01013999 0.01049207], sr=22050 as keyword args. From version 0.10 passing these as positional arguments will result in an error\n",
      "  MFCCs = librosa.feature.mfcc(signal, sample_rate, n_mfcc=num_mfcc, n_fft=n_fft,\n",
      "C:\\Users\\asus\\AppData\\Local\\Temp\\ipykernel_24176\\2826740799.py:31: FutureWarning: Pass y=[ 0.          0.          0.         ... -0.01175674 -0.01180658\n",
      " -0.01177733], sr=22050 as keyword args. From version 0.10 passing these as positional arguments will result in an error\n",
      "  MFCCs = librosa.feature.mfcc(signal, sample_rate, n_mfcc=num_mfcc, n_fft=n_fft,\n",
      "C:\\Users\\asus\\AppData\\Local\\Temp\\ipykernel_24176\\2826740799.py:31: FutureWarning: Pass y=[ 3.4489375e-08 -1.6378101e-06 -3.1031178e-07 ... -4.6943381e-07\n",
      "  8.4966240e-07 -2.3260689e-06], sr=22050 as keyword args. From version 0.10 passing these as positional arguments will result in an error\n",
      "  MFCCs = librosa.feature.mfcc(signal, sample_rate, n_mfcc=num_mfcc, n_fft=n_fft,\n"
     ]
    },
    {
     "name": "stdout",
     "output_type": "stream",
     "text": [
      "Dataset\\Ima\\Recording_909.wav: 3\n",
      "Dataset\\Ima\\Recording_910.wav: 3\n",
      "Dataset\\Ima\\Recording_911.wav: 3\n",
      "\n",
      "Processing: 'Dataset\\Joman'\n"
     ]
    },
    {
     "name": "stderr",
     "output_type": "stream",
     "text": [
      "C:\\Users\\asus\\AppData\\Local\\Temp\\ipykernel_24176\\2826740799.py:31: FutureWarning: Pass y=[-2.0470539e-05 -5.6029668e-05 -6.1168641e-05 ... -2.3738001e-03\n",
      " -2.4289859e-03 -2.5371306e-03], sr=22050 as keyword args. From version 0.10 passing these as positional arguments will result in an error\n",
      "  MFCCs = librosa.feature.mfcc(signal, sample_rate, n_mfcc=num_mfcc, n_fft=n_fft,\n",
      "C:\\Users\\asus\\AppData\\Local\\Temp\\ipykernel_24176\\2826740799.py:31: FutureWarning: Pass y=[ 3.7757745e-06 -5.3901417e-06  1.1989165e-05 ... -1.6903930e-03\n",
      " -1.7681235e-03 -1.8344946e-03], sr=22050 as keyword args. From version 0.10 passing these as positional arguments will result in an error\n",
      "  MFCCs = librosa.feature.mfcc(signal, sample_rate, n_mfcc=num_mfcc, n_fft=n_fft,\n",
      "C:\\Users\\asus\\AppData\\Local\\Temp\\ipykernel_24176\\2826740799.py:31: FutureWarning: Pass y=[-2.1200306e-06  2.4028752e-05  2.5632868e-05 ... -3.9833784e-04\n",
      " -4.0440072e-04 -4.2964955e-04], sr=22050 as keyword args. From version 0.10 passing these as positional arguments will result in an error\n",
      "  MFCCs = librosa.feature.mfcc(signal, sample_rate, n_mfcc=num_mfcc, n_fft=n_fft,\n"
     ]
    },
    {
     "name": "stdout",
     "output_type": "stream",
     "text": [
      "Dataset\\Joman\\Joman.wav: 4\n",
      "Dataset\\Joman\\Recording_1149.wav: 4\n",
      "Dataset\\Joman\\Recording_1150.wav: 4\n"
     ]
    },
    {
     "name": "stderr",
     "output_type": "stream",
     "text": [
      "C:\\Users\\asus\\AppData\\Local\\Temp\\ipykernel_24176\\2826740799.py:31: FutureWarning: Pass y=[-4.2920263e-05 -8.7740773e-05 -1.1276722e-04 ... -6.4118081e-03\n",
      " -5.3950809e-03 -4.0948014e-03], sr=22050 as keyword args. From version 0.10 passing these as positional arguments will result in an error\n",
      "  MFCCs = librosa.feature.mfcc(signal, sample_rate, n_mfcc=num_mfcc, n_fft=n_fft,\n",
      "C:\\Users\\asus\\AppData\\Local\\Temp\\ipykernel_24176\\2826740799.py:31: FutureWarning: Pass y=[-7.0746319e-05 -6.9346206e-05 -2.0588364e-05 ...  1.1087589e-03\n",
      "  2.0087757e-03  2.8386905e-03], sr=22050 as keyword args. From version 0.10 passing these as positional arguments will result in an error\n",
      "  MFCCs = librosa.feature.mfcc(signal, sample_rate, n_mfcc=num_mfcc, n_fft=n_fft,\n",
      "C:\\Users\\asus\\AppData\\Local\\Temp\\ipykernel_24176\\2826740799.py:31: FutureWarning: Pass y=[ 2.4076542e-05  1.0474082e-05 -3.8891530e-06 ... -1.3657215e-03\n",
      " -1.3130410e-03 -1.2757670e-03], sr=22050 as keyword args. From version 0.10 passing these as positional arguments will result in an error\n",
      "  MFCCs = librosa.feature.mfcc(signal, sample_rate, n_mfcc=num_mfcc, n_fft=n_fft,\n"
     ]
    },
    {
     "name": "stdout",
     "output_type": "stream",
     "text": [
      "Dataset\\Joman\\Recording_1151.wav: 4\n",
      "Dataset\\Joman\\Recording_1152.wav: 4\n",
      "Dataset\\Joman\\Recording_1153.wav: 4\n"
     ]
    },
    {
     "name": "stderr",
     "output_type": "stream",
     "text": [
      "C:\\Users\\asus\\AppData\\Local\\Temp\\ipykernel_24176\\2826740799.py:31: FutureWarning: Pass y=[ 2.3479837e-05  3.1733209e-05  3.0923875e-05 ... -7.2648801e-04\n",
      " -8.0432888e-04 -8.6611655e-04], sr=22050 as keyword args. From version 0.10 passing these as positional arguments will result in an error\n",
      "  MFCCs = librosa.feature.mfcc(signal, sample_rate, n_mfcc=num_mfcc, n_fft=n_fft,\n",
      "C:\\Users\\asus\\AppData\\Local\\Temp\\ipykernel_24176\\2826740799.py:31: FutureWarning: Pass y=[2.3677989e-05 3.1333388e-05 3.1586540e-05 ... 1.6970831e-03 1.5529025e-03\n",
      " 1.3636585e-03], sr=22050 as keyword args. From version 0.10 passing these as positional arguments will result in an error\n",
      "  MFCCs = librosa.feature.mfcc(signal, sample_rate, n_mfcc=num_mfcc, n_fft=n_fft,\n",
      "C:\\Users\\asus\\AppData\\Local\\Temp\\ipykernel_24176\\2826740799.py:31: FutureWarning: Pass y=[-3.1205234e-06  2.4915400e-05  2.5128777e-05 ...  9.6598186e-04\n",
      "  9.8297524e-04  1.0394790e-03], sr=22050 as keyword args. From version 0.10 passing these as positional arguments will result in an error\n",
      "  MFCCs = librosa.feature.mfcc(signal, sample_rate, n_mfcc=num_mfcc, n_fft=n_fft,\n"
     ]
    },
    {
     "name": "stdout",
     "output_type": "stream",
     "text": [
      "Dataset\\Joman\\Recording_1154.wav: 4\n",
      "Dataset\\Joman\\Recording_1155.wav: 4\n",
      "Dataset\\Joman\\Recording_1156.wav: 4\n"
     ]
    },
    {
     "name": "stderr",
     "output_type": "stream",
     "text": [
      "C:\\Users\\asus\\AppData\\Local\\Temp\\ipykernel_24176\\2826740799.py:31: FutureWarning: Pass y=[-2.2406442e-05 -3.2990385e-05 -2.9064042e-05 ... -2.7376793e-02\n",
      " -2.3817601e-02 -2.2703527e-02], sr=22050 as keyword args. From version 0.10 passing these as positional arguments will result in an error\n",
      "  MFCCs = librosa.feature.mfcc(signal, sample_rate, n_mfcc=num_mfcc, n_fft=n_fft,\n",
      "C:\\Users\\asus\\AppData\\Local\\Temp\\ipykernel_24176\\2826740799.py:31: FutureWarning: Pass y=[ 3.2818909e-07 -2.0873613e-05 -3.5356006e-05 ...  1.6453090e-03\n",
      "  1.7294303e-03 -3.6060825e-04], sr=22050 as keyword args. From version 0.10 passing these as positional arguments will result in an error\n",
      "  MFCCs = librosa.feature.mfcc(signal, sample_rate, n_mfcc=num_mfcc, n_fft=n_fft,\n"
     ]
    },
    {
     "name": "stdout",
     "output_type": "stream",
     "text": [
      "Dataset\\Joman\\Recording_1157.wav: 4\n",
      "Dataset\\Joman\\Recording_1158.wav: 4\n"
     ]
    },
    {
     "name": "stderr",
     "output_type": "stream",
     "text": [
      "C:\\Users\\asus\\AppData\\Local\\Temp\\ipykernel_24176\\2826740799.py:31: FutureWarning: Pass y=[ 2.8138862e-07  1.0763748e-07 -7.5791274e-07 ... -2.3530202e-04\n",
      " -1.6546012e-04 -1.1348977e-04], sr=22050 as keyword args. From version 0.10 passing these as positional arguments will result in an error\n",
      "  MFCCs = librosa.feature.mfcc(signal, sample_rate, n_mfcc=num_mfcc, n_fft=n_fft,\n",
      "C:\\Users\\asus\\AppData\\Local\\Temp\\ipykernel_24176\\2826740799.py:31: FutureWarning: Pass y=[ 2.5167117e-07 -2.9411888e-08 -3.9461332e-07 ... -1.5399681e-02\n",
      " -1.6019071e-02 -1.6663436e-02], sr=22050 as keyword args. From version 0.10 passing these as positional arguments will result in an error\n",
      "  MFCCs = librosa.feature.mfcc(signal, sample_rate, n_mfcc=num_mfcc, n_fft=n_fft,\n"
     ]
    },
    {
     "name": "stdout",
     "output_type": "stream",
     "text": [
      "Dataset\\Joman\\Recording_1159.wav: 4\n",
      "Dataset\\Joman\\Recording_1160.wav: 4\n"
     ]
    },
    {
     "name": "stderr",
     "output_type": "stream",
     "text": [
      "C:\\Users\\asus\\AppData\\Local\\Temp\\ipykernel_24176\\2826740799.py:31: FutureWarning: Pass y=[-2.2686998e-05 -3.2754047e-05 -2.9127919e-05 ...  4.0280339e-04\n",
      "  3.6700495e-04  3.0961214e-04], sr=22050 as keyword args. From version 0.10 passing these as positional arguments will result in an error\n",
      "  MFCCs = librosa.feature.mfcc(signal, sample_rate, n_mfcc=num_mfcc, n_fft=n_fft,\n"
     ]
    },
    {
     "name": "stdout",
     "output_type": "stream",
     "text": [
      "Dataset\\Joman\\Recording_1161.wav: 4\n"
     ]
    },
    {
     "name": "stderr",
     "output_type": "stream",
     "text": [
      "C:\\Users\\asus\\AppData\\Local\\Temp\\ipykernel_24176\\2826740799.py:31: FutureWarning: Pass y=[-9.6776375e-07  1.0180078e-06 -9.6913766e-07 ... -9.4473209e-05\n",
      "  1.8342200e-04  4.8204861e-04], sr=22050 as keyword args. From version 0.10 passing these as positional arguments will result in an error\n",
      "  MFCCs = librosa.feature.mfcc(signal, sample_rate, n_mfcc=num_mfcc, n_fft=n_fft,\n",
      "C:\\Users\\asus\\AppData\\Local\\Temp\\ipykernel_24176\\2826740799.py:31: FutureWarning: Pass y=[-2.2824626e-05 -3.2470503e-05 -2.9675302e-05 ...  1.5197697e-04\n",
      "  1.8852952e-04  1.5948999e-04], sr=22050 as keyword args. From version 0.10 passing these as positional arguments will result in an error\n",
      "  MFCCs = librosa.feature.mfcc(signal, sample_rate, n_mfcc=num_mfcc, n_fft=n_fft,\n",
      "C:\\Users\\asus\\AppData\\Local\\Temp\\ipykernel_24176\\2826740799.py:31: FutureWarning: Pass y=[-2.3312157e-05 -3.1643729e-05 -3.0942556e-05 ... -3.9384299e-06\n",
      "  4.6125024e-07 -4.0427119e-07], sr=22050 as keyword args. From version 0.10 passing these as positional arguments will result in an error\n",
      "  MFCCs = librosa.feature.mfcc(signal, sample_rate, n_mfcc=num_mfcc, n_fft=n_fft,\n"
     ]
    },
    {
     "name": "stdout",
     "output_type": "stream",
     "text": [
      "Dataset\\Joman\\Recording_1162.wav: 4\n",
      "Dataset\\Joman\\Recording_1163.wav: 4\n",
      "Dataset\\Joman\\Recording_1164.wav: 4\n"
     ]
    },
    {
     "name": "stderr",
     "output_type": "stream",
     "text": [
      "C:\\Users\\asus\\AppData\\Local\\Temp\\ipykernel_24176\\2826740799.py:31: FutureWarning: Pass y=[ 2.3346885e-05  3.1503787e-05  3.1684809e-05 ... -8.5568521e-05\n",
      " -1.6489432e-05 -1.3942256e-06], sr=22050 as keyword args. From version 0.10 passing these as positional arguments will result in an error\n",
      "  MFCCs = librosa.feature.mfcc(signal, sample_rate, n_mfcc=num_mfcc, n_fft=n_fft,\n"
     ]
    },
    {
     "name": "stdout",
     "output_type": "stream",
     "text": [
      "Dataset\\Joman\\Recording_1165.wav: 4\n"
     ]
    },
    {
     "name": "stderr",
     "output_type": "stream",
     "text": [
      "C:\\Users\\asus\\AppData\\Local\\Temp\\ipykernel_24176\\2826740799.py:31: FutureWarning: Pass y=[-1.6555679e-06  2.3011795e-05  2.7903443e-05 ...  2.0213414e-03\n",
      "  1.8345040e-03  1.5885001e-03], sr=22050 as keyword args. From version 0.10 passing these as positional arguments will result in an error\n",
      "  MFCCs = librosa.feature.mfcc(signal, sample_rate, n_mfcc=num_mfcc, n_fft=n_fft,\n",
      "C:\\Users\\asus\\AppData\\Local\\Temp\\ipykernel_24176\\2826740799.py:31: FutureWarning: Pass y=[-2.3797676e-05 -9.5734358e-06 -1.8204471e-05 ... -4.0002935e-05\n",
      "  4.6122528e-05  8.6703003e-05], sr=22050 as keyword args. From version 0.10 passing these as positional arguments will result in an error\n",
      "  MFCCs = librosa.feature.mfcc(signal, sample_rate, n_mfcc=num_mfcc, n_fft=n_fft,\n"
     ]
    },
    {
     "name": "stdout",
     "output_type": "stream",
     "text": [
      "Dataset\\Joman\\Recording_1167.wav: 4\n",
      "Dataset\\Joman\\Recording_1168.wav: 4\n"
     ]
    },
    {
     "name": "stderr",
     "output_type": "stream",
     "text": [
      "C:\\Users\\asus\\AppData\\Local\\Temp\\ipykernel_24176\\2826740799.py:31: FutureWarning: Pass y=[ 2.2318925e-05  3.2777843e-05  2.9730552e-05 ... -1.8311262e-03\n",
      " -1.7988846e-03 -1.7935957e-03], sr=22050 as keyword args. From version 0.10 passing these as positional arguments will result in an error\n",
      "  MFCCs = librosa.feature.mfcc(signal, sample_rate, n_mfcc=num_mfcc, n_fft=n_fft,\n",
      "C:\\Users\\asus\\AppData\\Local\\Temp\\ipykernel_24176\\2826740799.py:31: FutureWarning: Pass y=[-5.2265011e-07 -1.8804003e-05 -3.9687489e-05 ...  1.7446307e-06\n",
      " -4.1191728e-05 -8.2403050e-05], sr=22050 as keyword args. From version 0.10 passing these as positional arguments will result in an error\n",
      "  MFCCs = librosa.feature.mfcc(signal, sample_rate, n_mfcc=num_mfcc, n_fft=n_fft,\n",
      "C:\\Users\\asus\\AppData\\Local\\Temp\\ipykernel_24176\\2826740799.py:31: FutureWarning: Pass y=[2.2213399e-05 3.3295393e-05 2.8618169e-05 ... 4.3343424e-04 4.0248796e-04\n",
      " 3.0469274e-04], sr=22050 as keyword args. From version 0.10 passing these as positional arguments will result in an error\n",
      "  MFCCs = librosa.feature.mfcc(signal, sample_rate, n_mfcc=num_mfcc, n_fft=n_fft,\n"
     ]
    },
    {
     "name": "stdout",
     "output_type": "stream",
     "text": [
      "Dataset\\Joman\\Recording_1170.wav: 4\n",
      "Dataset\\Joman\\Recording_1171.wav: 4\n",
      "Dataset\\Joman\\Recording_1172.wav: 4\n"
     ]
    },
    {
     "name": "stderr",
     "output_type": "stream",
     "text": [
      "C:\\Users\\asus\\AppData\\Local\\Temp\\ipykernel_24176\\2826740799.py:31: FutureWarning: Pass y=[-9.9367662e-07  2.1574012e-06 -2.3256069e-05 ... -6.6361710e-05\n",
      " -3.0586019e-05  5.1233928e-06], sr=22050 as keyword args. From version 0.10 passing these as positional arguments will result in an error\n",
      "  MFCCs = librosa.feature.mfcc(signal, sample_rate, n_mfcc=num_mfcc, n_fft=n_fft,\n",
      "C:\\Users\\asus\\AppData\\Local\\Temp\\ipykernel_24176\\2826740799.py:31: FutureWarning: Pass y=[2.0586085e-05 3.5657893e-05 2.1145881e-05 ... 6.1080052e-04 5.8420683e-04\n",
      " 5.3128554e-04], sr=22050 as keyword args. From version 0.10 passing these as positional arguments will result in an error\n",
      "  MFCCs = librosa.feature.mfcc(signal, sample_rate, n_mfcc=num_mfcc, n_fft=n_fft,\n",
      "C:\\Users\\asus\\AppData\\Local\\Temp\\ipykernel_24176\\2826740799.py:31: FutureWarning: Pass y=[-2.2713617e-05 -1.1275067e-05 -1.5649870e-05 ...  1.2708413e-04\n",
      "  1.2182698e-04  1.2094477e-04], sr=22050 as keyword args. From version 0.10 passing these as positional arguments will result in an error\n",
      "  MFCCs = librosa.feature.mfcc(signal, sample_rate, n_mfcc=num_mfcc, n_fft=n_fft,\n"
     ]
    },
    {
     "name": "stdout",
     "output_type": "stream",
     "text": [
      "Dataset\\Joman\\Recording_1173.wav: 4\n",
      "Dataset\\Joman\\Recording_1174.wav: 4\n",
      "Dataset\\Joman\\Recording_1175.wav: 4\n"
     ]
    },
    {
     "name": "stderr",
     "output_type": "stream",
     "text": [
      "C:\\Users\\asus\\AppData\\Local\\Temp\\ipykernel_24176\\2826740799.py:31: FutureWarning: Pass y=[ 1.4427015e-06 -2.5102593e-06  8.1933695e-06 ... -4.1058400e-05\n",
      " -2.1254960e-05  2.5084632e-06], sr=22050 as keyword args. From version 0.10 passing these as positional arguments will result in an error\n",
      "  MFCCs = librosa.feature.mfcc(signal, sample_rate, n_mfcc=num_mfcc, n_fft=n_fft,\n",
      "C:\\Users\\asus\\AppData\\Local\\Temp\\ipykernel_24176\\2826740799.py:31: FutureWarning: Pass y=[-1.4747734e-06  2.2211678e-05  3.3414708e-05 ... -3.4324292e-04\n",
      " -3.3390516e-04 -3.3540739e-04], sr=22050 as keyword args. From version 0.10 passing these as positional arguments will result in an error\n",
      "  MFCCs = librosa.feature.mfcc(signal, sample_rate, n_mfcc=num_mfcc, n_fft=n_fft,\n",
      "C:\\Users\\asus\\AppData\\Local\\Temp\\ipykernel_24176\\2826740799.py:31: FutureWarning: Pass y=[ 4.3907087e-07 -2.0797701e-05 -3.5708301e-05 ...  3.3283013e-05\n",
      " -2.5322326e-04 -3.0873925e-04], sr=22050 as keyword args. From version 0.10 passing these as positional arguments will result in an error\n",
      "  MFCCs = librosa.feature.mfcc(signal, sample_rate, n_mfcc=num_mfcc, n_fft=n_fft,\n"
     ]
    },
    {
     "name": "stdout",
     "output_type": "stream",
     "text": [
      "Dataset\\Joman\\Recording_1176.wav: 4\n",
      "Dataset\\Joman\\Recording_1177.wav: 4\n",
      "Dataset\\Joman\\Recording_1178.wav: 4\n"
     ]
    },
    {
     "name": "stderr",
     "output_type": "stream",
     "text": [
      "C:\\Users\\asus\\AppData\\Local\\Temp\\ipykernel_24176\\2826740799.py:31: FutureWarning: Pass y=[-1.0652406e-06  1.5535135e-06 -2.6041184e-06 ...  4.5511685e-04\n",
      "  4.3113384e-04  3.6721511e-04], sr=22050 as keyword args. From version 0.10 passing these as positional arguments will result in an error\n",
      "  MFCCs = librosa.feature.mfcc(signal, sample_rate, n_mfcc=num_mfcc, n_fft=n_fft,\n",
      "C:\\Users\\asus\\AppData\\Local\\Temp\\ipykernel_24176\\2826740799.py:31: FutureWarning: Pass y=[-4.5722965e-05 -6.4310581e-05 -6.5081600e-05 ... -2.9098814e-05\n",
      " -5.4129097e-05 -6.0110549e-05], sr=22050 as keyword args. From version 0.10 passing these as positional arguments will result in an error\n",
      "  MFCCs = librosa.feature.mfcc(signal, sample_rate, n_mfcc=num_mfcc, n_fft=n_fft,\n",
      "C:\\Users\\asus\\AppData\\Local\\Temp\\ipykernel_24176\\2826740799.py:31: FutureWarning: Pass y=[-1.4769500e-06  2.4656679e-06 -8.0500085e-06 ...  8.2967440e-03\n",
      "  7.9960199e-03  7.4739922e-03], sr=22050 as keyword args. From version 0.10 passing these as positional arguments will result in an error\n",
      "  MFCCs = librosa.feature.mfcc(signal, sample_rate, n_mfcc=num_mfcc, n_fft=n_fft,\n"
     ]
    },
    {
     "name": "stdout",
     "output_type": "stream",
     "text": [
      "Dataset\\Joman\\Recording_1179.wav: 4\n",
      "Dataset\\Joman\\Recording_1180.wav: 4\n",
      "Dataset\\Joman\\Recording_1181.wav: 4\n"
     ]
    },
    {
     "name": "stderr",
     "output_type": "stream",
     "text": [
      "C:\\Users\\asus\\AppData\\Local\\Temp\\ipykernel_24176\\2826740799.py:31: FutureWarning: Pass y=[ 6.5249759e-07 -6.3062157e-07  5.0641165e-07 ...  4.2202906e-03\n",
      "  6.2524737e-03  8.9539094e-03], sr=22050 as keyword args. From version 0.10 passing these as positional arguments will result in an error\n",
      "  MFCCs = librosa.feature.mfcc(signal, sample_rate, n_mfcc=num_mfcc, n_fft=n_fft,\n",
      "C:\\Users\\asus\\AppData\\Local\\Temp\\ipykernel_24176\\2826740799.py:31: FutureWarning: Pass y=[-2.22354611e-05 -3.31280535e-05 -2.89846757e-05 ...  8.96079946e-05\n",
      "  1.14865485e-04  6.16993748e-06], sr=22050 as keyword args. From version 0.10 passing these as positional arguments will result in an error\n",
      "  MFCCs = librosa.feature.mfcc(signal, sample_rate, n_mfcc=num_mfcc, n_fft=n_fft,\n",
      "C:\\Users\\asus\\AppData\\Local\\Temp\\ipykernel_24176\\2826740799.py:31: FutureWarning: Pass y=[ 2.2260052e-05  3.3141208e-05  2.8922212e-05 ...  3.3395565e-05\n",
      "  2.2498683e-05 -2.1298569e-05], sr=22050 as keyword args. From version 0.10 passing these as positional arguments will result in an error\n",
      "  MFCCs = librosa.feature.mfcc(signal, sample_rate, n_mfcc=num_mfcc, n_fft=n_fft,\n",
      "C:\\Users\\asus\\AppData\\Local\\Temp\\ipykernel_24176\\2826740799.py:31: FutureWarning: Pass y=[-2.0794554e-05 -5.5440523e-05 -6.2123632e-05 ... -6.1975858e-05\n",
      " -4.1576986e-05 -2.6605237e-06], sr=22050 as keyword args. From version 0.10 passing these as positional arguments will result in an error\n",
      "  MFCCs = librosa.feature.mfcc(signal, sample_rate, n_mfcc=num_mfcc, n_fft=n_fft,\n"
     ]
    },
    {
     "name": "stdout",
     "output_type": "stream",
     "text": [
      "Dataset\\Joman\\Recording_1182.wav: 4\n",
      "Dataset\\Joman\\Recording_1183.wav: 4\n",
      "Dataset\\Joman\\Recording_1184.wav: 4\n",
      "Dataset\\Joman\\Recording_1185.wav: 4\n",
      "Dataset\\Joman\\Recording_1186.wav: 4\n",
      "Dataset\\Joman\\Recording_1187.wav: 4\n"
     ]
    },
    {
     "name": "stderr",
     "output_type": "stream",
     "text": [
      "C:\\Users\\asus\\AppData\\Local\\Temp\\ipykernel_24176\\2826740799.py:31: FutureWarning: Pass y=[-4.5651472e-05 -4.4200733e-05 -2.4637395e-05 ... -1.2746052e-04\n",
      " -1.5685623e-04 -2.4362345e-04], sr=22050 as keyword args. From version 0.10 passing these as positional arguments will result in an error\n",
      "  MFCCs = librosa.feature.mfcc(signal, sample_rate, n_mfcc=num_mfcc, n_fft=n_fft,\n",
      "C:\\Users\\asus\\AppData\\Local\\Temp\\ipykernel_24176\\2826740799.py:31: FutureWarning: Pass y=[-8.6978398e-05 -1.3682006e-04 -8.4671228e-05 ...  6.6424313e-05\n",
      "  1.5897602e-04  1.7451881e-04], sr=22050 as keyword args. From version 0.10 passing these as positional arguments will result in an error\n",
      "  MFCCs = librosa.feature.mfcc(signal, sample_rate, n_mfcc=num_mfcc, n_fft=n_fft,\n",
      "C:\\Users\\asus\\AppData\\Local\\Temp\\ipykernel_24176\\2826740799.py:31: FutureWarning: Pass y=[-5.9110124e-07  1.3755813e-06 -6.6421003e-06 ...  2.2632328e-03\n",
      "  2.0062816e-03  1.3704513e-03], sr=22050 as keyword args. From version 0.10 passing these as positional arguments will result in an error\n",
      "  MFCCs = librosa.feature.mfcc(signal, sample_rate, n_mfcc=num_mfcc, n_fft=n_fft,\n",
      "C:\\Users\\asus\\AppData\\Local\\Temp\\ipykernel_24176\\2826740799.py:31: FutureWarning: Pass y=[ 2.3368644e-05  1.1224569e-05 -4.6283521e-06 ... -1.9237128e-04\n",
      " -1.2910104e-04 -6.5206892e-05], sr=22050 as keyword args. From version 0.10 passing these as positional arguments will result in an error\n",
      "  MFCCs = librosa.feature.mfcc(signal, sample_rate, n_mfcc=num_mfcc, n_fft=n_fft,\n",
      "C:\\Users\\asus\\AppData\\Local\\Temp\\ipykernel_24176\\2826740799.py:31: FutureWarning: Pass y=[-2.4495115e-05 -9.0741414e-06 -3.1891159e-06 ... -2.5718944e-04\n",
      " -2.4527381e-04 -3.0668915e-04], sr=22050 as keyword args. From version 0.10 passing these as positional arguments will result in an error\n",
      "  MFCCs = librosa.feature.mfcc(signal, sample_rate, n_mfcc=num_mfcc, n_fft=n_fft,\n"
     ]
    },
    {
     "name": "stdout",
     "output_type": "stream",
     "text": [
      "Dataset\\Joman\\Recording_1188.wav: 4\n",
      "Dataset\\Joman\\Recording_1189.wav: 4\n",
      "Dataset\\Joman\\Recording_1190.wav: 4\n"
     ]
    },
    {
     "name": "stderr",
     "output_type": "stream",
     "text": [
      "C:\\Users\\asus\\AppData\\Local\\Temp\\ipykernel_24176\\2826740799.py:31: FutureWarning: Pass y=[ 1.1126892e-06 -2.2357357e-05 -3.2400996e-05 ... -5.8846129e-04\n",
      " -6.7356188e-04 -7.1000453e-04], sr=22050 as keyword args. From version 0.10 passing these as positional arguments will result in an error\n",
      "  MFCCs = librosa.feature.mfcc(signal, sample_rate, n_mfcc=num_mfcc, n_fft=n_fft,\n",
      "C:\\Users\\asus\\AppData\\Local\\Temp\\ipykernel_24176\\2826740799.py:31: FutureWarning: Pass y=[-2.2585567e-05 -3.2808999e-05 -2.9225477e-05 ...  1.7685634e-04\n",
      "  3.9868581e-04  9.5412321e-04], sr=22050 as keyword args. From version 0.10 passing these as positional arguments will result in an error\n",
      "  MFCCs = librosa.feature.mfcc(signal, sample_rate, n_mfcc=num_mfcc, n_fft=n_fft,\n",
      "C:\\Users\\asus\\AppData\\Local\\Temp\\ipykernel_24176\\2826740799.py:31: FutureWarning: Pass y=[6.6596083e-05 9.9616118e-05 8.6563698e-05 ... 2.4801122e-03 3.0465613e-03\n",
      " 3.4196791e-03], sr=22050 as keyword args. From version 0.10 passing these as positional arguments will result in an error\n",
      "  MFCCs = librosa.feature.mfcc(signal, sample_rate, n_mfcc=num_mfcc, n_fft=n_fft,\n"
     ]
    },
    {
     "name": "stdout",
     "output_type": "stream",
     "text": [
      "Dataset\\Joman\\Recording_1191.wav: 4\n",
      "Dataset\\Joman\\Recording_1192.wav: 4\n",
      "Dataset\\Joman\\Recording_1194.wav: 4\n"
     ]
    },
    {
     "name": "stderr",
     "output_type": "stream",
     "text": [
      "C:\\Users\\asus\\AppData\\Local\\Temp\\ipykernel_24176\\2826740799.py:31: FutureWarning: Pass y=[2.2914672e-05 3.2538195e-05 2.9312112e-05 ... 2.4631203e-04 2.4143583e-04\n",
      " 2.4775491e-04], sr=22050 as keyword args. From version 0.10 passing these as positional arguments will result in an error\n",
      "  MFCCs = librosa.feature.mfcc(signal, sample_rate, n_mfcc=num_mfcc, n_fft=n_fft,\n"
     ]
    },
    {
     "name": "stdout",
     "output_type": "stream",
     "text": [
      "Dataset\\Joman\\Recording_1195.wav: 4\n"
     ]
    },
    {
     "name": "stderr",
     "output_type": "stream",
     "text": [
      "C:\\Users\\asus\\AppData\\Local\\Temp\\ipykernel_24176\\2826740799.py:31: FutureWarning: Pass y=[ 0.0006897   0.00102748  0.00089676 ... -0.00472437 -0.00464151\n",
      " -0.00452915], sr=22050 as keyword args. From version 0.10 passing these as positional arguments will result in an error\n",
      "  MFCCs = librosa.feature.mfcc(signal, sample_rate, n_mfcc=num_mfcc, n_fft=n_fft,\n"
     ]
    },
    {
     "name": "stdout",
     "output_type": "stream",
     "text": [
      "Dataset\\Joman\\Recording_1196.wav: 4\n"
     ]
    },
    {
     "name": "stderr",
     "output_type": "stream",
     "text": [
      "C:\\Users\\asus\\AppData\\Local\\Temp\\ipykernel_24176\\2826740799.py:31: FutureWarning: Pass y=[ 2.0840673e-05  3.6021749e-05  4.1298636e-06 ... -1.3346176e-04\n",
      " -1.9071392e-04 -1.6930989e-04], sr=22050 as keyword args. From version 0.10 passing these as positional arguments will result in an error\n",
      "  MFCCs = librosa.feature.mfcc(signal, sample_rate, n_mfcc=num_mfcc, n_fft=n_fft,\n"
     ]
    },
    {
     "name": "stdout",
     "output_type": "stream",
     "text": [
      "Dataset\\Joman\\Recording_1197.wav: 4\n"
     ]
    },
    {
     "name": "stderr",
     "output_type": "stream",
     "text": [
      "C:\\Users\\asus\\AppData\\Local\\Temp\\ipykernel_24176\\2826740799.py:31: FutureWarning: Pass y=[-2.0751468e-05 -3.5668425e-05 -2.0774331e-05 ... -1.5810595e-03\n",
      " -1.5877829e-03 -1.5870929e-03], sr=22050 as keyword args. From version 0.10 passing these as positional arguments will result in an error\n",
      "  MFCCs = librosa.feature.mfcc(signal, sample_rate, n_mfcc=num_mfcc, n_fft=n_fft,\n",
      "C:\\Users\\asus\\AppData\\Local\\Temp\\ipykernel_24176\\2826740799.py:31: FutureWarning: Pass y=[ 2.3683564e-05  1.1693462e-05 -2.5671485e-05 ...  3.2105730e-05\n",
      "  2.9682282e-05  3.1002735e-05], sr=22050 as keyword args. From version 0.10 passing these as positional arguments will result in an error\n",
      "  MFCCs = librosa.feature.mfcc(signal, sample_rate, n_mfcc=num_mfcc, n_fft=n_fft,\n",
      "C:\\Users\\asus\\AppData\\Local\\Temp\\ipykernel_24176\\2826740799.py:31: FutureWarning: Pass y=[-4.7854086e-05 -4.0777490e-05 -3.3919390e-05 ... -1.3041508e-04\n",
      " -8.9160436e-05 -5.8580619e-05], sr=22050 as keyword args. From version 0.10 passing these as positional arguments will result in an error\n",
      "  MFCCs = librosa.feature.mfcc(signal, sample_rate, n_mfcc=num_mfcc, n_fft=n_fft,\n"
     ]
    },
    {
     "name": "stdout",
     "output_type": "stream",
     "text": [
      "Dataset\\Joman\\Recording_1198.wav: 4\n",
      "Dataset\\Joman\\Recording_1199.wav: 4\n",
      "Dataset\\Joman\\Recording_1200.wav: 4\n",
      "\n",
      "Processing: 'Dataset\\Manuk'\n"
     ]
    },
    {
     "name": "stderr",
     "output_type": "stream",
     "text": [
      "C:\\Users\\asus\\AppData\\Local\\Temp\\ipykernel_24176\\2826740799.py:31: FutureWarning: Pass y=[ 0.          0.          0.         ... -0.01225056 -0.01208323\n",
      " -0.01257245], sr=22050 as keyword args. From version 0.10 passing these as positional arguments will result in an error\n",
      "  MFCCs = librosa.feature.mfcc(signal, sample_rate, n_mfcc=num_mfcc, n_fft=n_fft,\n",
      "C:\\Users\\asus\\AppData\\Local\\Temp\\ipykernel_24176\\2826740799.py:31: FutureWarning: Pass y=[ 0.          0.          0.         ... -0.00403782 -0.00378883\n",
      " -0.00274122], sr=22050 as keyword args. From version 0.10 passing these as positional arguments will result in an error\n",
      "  MFCCs = librosa.feature.mfcc(signal, sample_rate, n_mfcc=num_mfcc, n_fft=n_fft,\n",
      "C:\\Users\\asus\\AppData\\Local\\Temp\\ipykernel_24176\\2826740799.py:31: FutureWarning: Pass y=[ 0.          0.          0.         ... -0.0020325   0.0037946\n",
      "  0.00229073], sr=22050 as keyword args. From version 0.10 passing these as positional arguments will result in an error\n",
      "  MFCCs = librosa.feature.mfcc(signal, sample_rate, n_mfcc=num_mfcc, n_fft=n_fft,\n",
      "C:\\Users\\asus\\AppData\\Local\\Temp\\ipykernel_24176\\2826740799.py:31: FutureWarning: Pass y=[ 0.          0.          0.         ... -0.00313583 -0.00282167\n",
      " -0.00381616], sr=22050 as keyword args. From version 0.10 passing these as positional arguments will result in an error\n",
      "  MFCCs = librosa.feature.mfcc(signal, sample_rate, n_mfcc=num_mfcc, n_fft=n_fft,\n"
     ]
    },
    {
     "name": "stdout",
     "output_type": "stream",
     "text": [
      "Dataset\\Manuk\\Recording_293.wav: 5\n",
      "Dataset\\Manuk\\Recording_294.wav: 5\n",
      "Dataset\\Manuk\\Recording_296.wav: 5\n",
      "Dataset\\Manuk\\Recording_297.wav: 5\n"
     ]
    },
    {
     "name": "stderr",
     "output_type": "stream",
     "text": [
      "C:\\Users\\asus\\AppData\\Local\\Temp\\ipykernel_24176\\2826740799.py:31: FutureWarning: Pass y=[0.         0.         0.         ... 0.00453954 0.00459648 0.00539834], sr=22050 as keyword args. From version 0.10 passing these as positional arguments will result in an error\n",
      "  MFCCs = librosa.feature.mfcc(signal, sample_rate, n_mfcc=num_mfcc, n_fft=n_fft,\n",
      "C:\\Users\\asus\\AppData\\Local\\Temp\\ipykernel_24176\\2826740799.py:31: FutureWarning: Pass y=[0.         0.         0.         ... 0.00450468 0.00430641 0.00359969], sr=22050 as keyword args. From version 0.10 passing these as positional arguments will result in an error\n",
      "  MFCCs = librosa.feature.mfcc(signal, sample_rate, n_mfcc=num_mfcc, n_fft=n_fft,\n",
      "C:\\Users\\asus\\AppData\\Local\\Temp\\ipykernel_24176\\2826740799.py:31: FutureWarning: Pass y=[ 0.          0.          0.         ...  0.00205432  0.00051871\n",
      " -0.00046259], sr=22050 as keyword args. From version 0.10 passing these as positional arguments will result in an error\n",
      "  MFCCs = librosa.feature.mfcc(signal, sample_rate, n_mfcc=num_mfcc, n_fft=n_fft,\n"
     ]
    },
    {
     "name": "stdout",
     "output_type": "stream",
     "text": [
      "Dataset\\Manuk\\Recording_298.wav: 5\n",
      "Dataset\\Manuk\\Recording_300.wav: 5\n",
      "Dataset\\Manuk\\Recording_301.wav: 5\n"
     ]
    },
    {
     "name": "stderr",
     "output_type": "stream",
     "text": [
      "C:\\Users\\asus\\AppData\\Local\\Temp\\ipykernel_24176\\2826740799.py:31: FutureWarning: Pass y=[ 0.          0.          0.         ... -0.00592233 -0.00652349\n",
      " -0.00805671], sr=22050 as keyword args. From version 0.10 passing these as positional arguments will result in an error\n",
      "  MFCCs = librosa.feature.mfcc(signal, sample_rate, n_mfcc=num_mfcc, n_fft=n_fft,\n",
      "C:\\Users\\asus\\AppData\\Local\\Temp\\ipykernel_24176\\2826740799.py:31: FutureWarning: Pass y=[ 0.          0.          0.         ... -0.00557707 -0.00485868\n",
      " -0.00411694], sr=22050 as keyword args. From version 0.10 passing these as positional arguments will result in an error\n",
      "  MFCCs = librosa.feature.mfcc(signal, sample_rate, n_mfcc=num_mfcc, n_fft=n_fft,\n"
     ]
    },
    {
     "name": "stdout",
     "output_type": "stream",
     "text": [
      "Dataset\\Manuk\\Recording_303.wav: 5\n",
      "Dataset\\Manuk\\Recording_304.wav: 5\n"
     ]
    },
    {
     "name": "stderr",
     "output_type": "stream",
     "text": [
      "C:\\Users\\asus\\AppData\\Local\\Temp\\ipykernel_24176\\2826740799.py:31: FutureWarning: Pass y=[0.         0.         0.         ... 0.00427193 0.00324569 0.00327675], sr=22050 as keyword args. From version 0.10 passing these as positional arguments will result in an error\n",
      "  MFCCs = librosa.feature.mfcc(signal, sample_rate, n_mfcc=num_mfcc, n_fft=n_fft,\n",
      "C:\\Users\\asus\\AppData\\Local\\Temp\\ipykernel_24176\\2826740799.py:31: FutureWarning: Pass y=[0.         0.         0.         ... 0.0048153  0.00482462 0.00475496], sr=22050 as keyword args. From version 0.10 passing these as positional arguments will result in an error\n",
      "  MFCCs = librosa.feature.mfcc(signal, sample_rate, n_mfcc=num_mfcc, n_fft=n_fft,\n",
      "C:\\Users\\asus\\AppData\\Local\\Temp\\ipykernel_24176\\2826740799.py:31: FutureWarning: Pass y=[ 0.          0.          0.         ... -0.00097046 -0.00092174\n",
      " -0.00076183], sr=22050 as keyword args. From version 0.10 passing these as positional arguments will result in an error\n",
      "  MFCCs = librosa.feature.mfcc(signal, sample_rate, n_mfcc=num_mfcc, n_fft=n_fft,\n"
     ]
    },
    {
     "name": "stdout",
     "output_type": "stream",
     "text": [
      "Dataset\\Manuk\\Recording_305.wav: 5\n",
      "Dataset\\Manuk\\Recording_306.wav: 5\n",
      "Dataset\\Manuk\\Recording_307.wav: 5\n"
     ]
    },
    {
     "name": "stderr",
     "output_type": "stream",
     "text": [
      "C:\\Users\\asus\\AppData\\Local\\Temp\\ipykernel_24176\\2826740799.py:31: FutureWarning: Pass y=[ 0.          0.          0.         ... -0.00278333 -0.00185797\n",
      " -0.00217542], sr=22050 as keyword args. From version 0.10 passing these as positional arguments will result in an error\n",
      "  MFCCs = librosa.feature.mfcc(signal, sample_rate, n_mfcc=num_mfcc, n_fft=n_fft,\n",
      "C:\\Users\\asus\\AppData\\Local\\Temp\\ipykernel_24176\\2826740799.py:31: FutureWarning: Pass y=[ 0.          0.          0.         ... -0.0013134  -0.00079101\n",
      " -0.00161778], sr=22050 as keyword args. From version 0.10 passing these as positional arguments will result in an error\n",
      "  MFCCs = librosa.feature.mfcc(signal, sample_rate, n_mfcc=num_mfcc, n_fft=n_fft,\n",
      "C:\\Users\\asus\\AppData\\Local\\Temp\\ipykernel_24176\\2826740799.py:31: FutureWarning: Pass y=[0.         0.         0.         ... 0.00049234 0.00057871 0.00103615], sr=22050 as keyword args. From version 0.10 passing these as positional arguments will result in an error\n",
      "  MFCCs = librosa.feature.mfcc(signal, sample_rate, n_mfcc=num_mfcc, n_fft=n_fft,\n"
     ]
    },
    {
     "name": "stdout",
     "output_type": "stream",
     "text": [
      "Dataset\\Manuk\\Recording_308.wav: 5\n",
      "Dataset\\Manuk\\Recording_309.wav: 5\n",
      "Dataset\\Manuk\\Recording_310.wav: 5\n"
     ]
    },
    {
     "name": "stderr",
     "output_type": "stream",
     "text": [
      "C:\\Users\\asus\\AppData\\Local\\Temp\\ipykernel_24176\\2826740799.py:31: FutureWarning: Pass y=[ 0.          0.          0.         ... -0.00979226 -0.00955099\n",
      " -0.01003793], sr=22050 as keyword args. From version 0.10 passing these as positional arguments will result in an error\n",
      "  MFCCs = librosa.feature.mfcc(signal, sample_rate, n_mfcc=num_mfcc, n_fft=n_fft,\n",
      "C:\\Users\\asus\\AppData\\Local\\Temp\\ipykernel_24176\\2826740799.py:31: FutureWarning: Pass y=[0.         0.         0.         ... 0.0016377  0.00161997 0.00122665], sr=22050 as keyword args. From version 0.10 passing these as positional arguments will result in an error\n",
      "  MFCCs = librosa.feature.mfcc(signal, sample_rate, n_mfcc=num_mfcc, n_fft=n_fft,\n",
      "C:\\Users\\asus\\AppData\\Local\\Temp\\ipykernel_24176\\2826740799.py:31: FutureWarning: Pass y=[0.         0.         0.         ... 0.0045187  0.00570452 0.0043101 ], sr=22050 as keyword args. From version 0.10 passing these as positional arguments will result in an error\n",
      "  MFCCs = librosa.feature.mfcc(signal, sample_rate, n_mfcc=num_mfcc, n_fft=n_fft,\n"
     ]
    },
    {
     "name": "stdout",
     "output_type": "stream",
     "text": [
      "Dataset\\Manuk\\Recording_312.wav: 5\n",
      "Dataset\\Manuk\\Recording_313.wav: 5\n",
      "Dataset\\Manuk\\Recording_314.wav: 5\n"
     ]
    },
    {
     "name": "stderr",
     "output_type": "stream",
     "text": [
      "C:\\Users\\asus\\AppData\\Local\\Temp\\ipykernel_24176\\2826740799.py:31: FutureWarning: Pass y=[0.         0.         0.         ... 0.0097957  0.01113828 0.01229903], sr=22050 as keyword args. From version 0.10 passing these as positional arguments will result in an error\n",
      "  MFCCs = librosa.feature.mfcc(signal, sample_rate, n_mfcc=num_mfcc, n_fft=n_fft,\n",
      "C:\\Users\\asus\\AppData\\Local\\Temp\\ipykernel_24176\\2826740799.py:31: FutureWarning: Pass y=[ 0.          0.          0.         ... -0.00658938 -0.00728855\n",
      " -0.00813739], sr=22050 as keyword args. From version 0.10 passing these as positional arguments will result in an error\n",
      "  MFCCs = librosa.feature.mfcc(signal, sample_rate, n_mfcc=num_mfcc, n_fft=n_fft,\n",
      "C:\\Users\\asus\\AppData\\Local\\Temp\\ipykernel_24176\\2826740799.py:31: FutureWarning: Pass y=[ 0.          0.          0.         ...  0.0011229  -0.00112304\n",
      " -0.0010164 ], sr=22050 as keyword args. From version 0.10 passing these as positional arguments will result in an error\n",
      "  MFCCs = librosa.feature.mfcc(signal, sample_rate, n_mfcc=num_mfcc, n_fft=n_fft,\n"
     ]
    },
    {
     "name": "stdout",
     "output_type": "stream",
     "text": [
      "Dataset\\Manuk\\Recording_315.wav: 5\n",
      "Dataset\\Manuk\\Recording_316.wav: 5\n",
      "Dataset\\Manuk\\Recording_317.wav: 5\n"
     ]
    },
    {
     "name": "stderr",
     "output_type": "stream",
     "text": [
      "C:\\Users\\asus\\AppData\\Local\\Temp\\ipykernel_24176\\2826740799.py:31: FutureWarning: Pass y=[0.         0.         0.         ... 0.00646802 0.00688628 0.00673027], sr=22050 as keyword args. From version 0.10 passing these as positional arguments will result in an error\n",
      "  MFCCs = librosa.feature.mfcc(signal, sample_rate, n_mfcc=num_mfcc, n_fft=n_fft,\n",
      "C:\\Users\\asus\\AppData\\Local\\Temp\\ipykernel_24176\\2826740799.py:31: FutureWarning: Pass y=[ 0.          0.          0.         ... -0.00798477 -0.00833166\n",
      " -0.00869875], sr=22050 as keyword args. From version 0.10 passing these as positional arguments will result in an error\n",
      "  MFCCs = librosa.feature.mfcc(signal, sample_rate, n_mfcc=num_mfcc, n_fft=n_fft,\n",
      "C:\\Users\\asus\\AppData\\Local\\Temp\\ipykernel_24176\\2826740799.py:31: FutureWarning: Pass y=[0.         0.         0.         ... 0.0013783  0.00274805 0.00335589], sr=22050 as keyword args. From version 0.10 passing these as positional arguments will result in an error\n",
      "  MFCCs = librosa.feature.mfcc(signal, sample_rate, n_mfcc=num_mfcc, n_fft=n_fft,\n"
     ]
    },
    {
     "name": "stdout",
     "output_type": "stream",
     "text": [
      "Dataset\\Manuk\\Recording_318.wav: 5\n",
      "Dataset\\Manuk\\Recording_319.wav: 5\n",
      "Dataset\\Manuk\\Recording_320.wav: 5\n"
     ]
    },
    {
     "name": "stderr",
     "output_type": "stream",
     "text": [
      "C:\\Users\\asus\\AppData\\Local\\Temp\\ipykernel_24176\\2826740799.py:31: FutureWarning: Pass y=[ 0.          0.          0.         ... -0.00311023 -0.00218094\n",
      " -0.00069853], sr=22050 as keyword args. From version 0.10 passing these as positional arguments will result in an error\n",
      "  MFCCs = librosa.feature.mfcc(signal, sample_rate, n_mfcc=num_mfcc, n_fft=n_fft,\n",
      "C:\\Users\\asus\\AppData\\Local\\Temp\\ipykernel_24176\\2826740799.py:31: FutureWarning: Pass y=[0.         0.         0.         ... 0.0080683  0.00882713 0.0077426 ], sr=22050 as keyword args. From version 0.10 passing these as positional arguments will result in an error\n",
      "  MFCCs = librosa.feature.mfcc(signal, sample_rate, n_mfcc=num_mfcc, n_fft=n_fft,\n"
     ]
    },
    {
     "name": "stdout",
     "output_type": "stream",
     "text": [
      "Dataset\\Manuk\\Recording_321.wav: 5\n",
      "Dataset\\Manuk\\Recording_322.wav: 5\n"
     ]
    },
    {
     "name": "stderr",
     "output_type": "stream",
     "text": [
      "C:\\Users\\asus\\AppData\\Local\\Temp\\ipykernel_24176\\2826740799.py:31: FutureWarning: Pass y=[0.         0.         0.         ... 0.00940843 0.01118332 0.01089692], sr=22050 as keyword args. From version 0.10 passing these as positional arguments will result in an error\n",
      "  MFCCs = librosa.feature.mfcc(signal, sample_rate, n_mfcc=num_mfcc, n_fft=n_fft,\n",
      "C:\\Users\\asus\\AppData\\Local\\Temp\\ipykernel_24176\\2826740799.py:31: FutureWarning: Pass y=[ 0.          0.          0.         ... -0.01376951 -0.01419516\n",
      " -0.01303745], sr=22050 as keyword args. From version 0.10 passing these as positional arguments will result in an error\n",
      "  MFCCs = librosa.feature.mfcc(signal, sample_rate, n_mfcc=num_mfcc, n_fft=n_fft,\n",
      "C:\\Users\\asus\\AppData\\Local\\Temp\\ipykernel_24176\\2826740799.py:31: FutureWarning: Pass y=[0.         0.         0.         ... 0.00145853 0.00108026 0.00030734], sr=22050 as keyword args. From version 0.10 passing these as positional arguments will result in an error\n",
      "  MFCCs = librosa.feature.mfcc(signal, sample_rate, n_mfcc=num_mfcc, n_fft=n_fft,\n"
     ]
    },
    {
     "name": "stdout",
     "output_type": "stream",
     "text": [
      "Dataset\\Manuk\\Recording_325.wav: 5\n",
      "Dataset\\Manuk\\Recording_326.wav: 5\n",
      "Dataset\\Manuk\\Recording_327.wav: 5\n"
     ]
    },
    {
     "name": "stderr",
     "output_type": "stream",
     "text": [
      "C:\\Users\\asus\\AppData\\Local\\Temp\\ipykernel_24176\\2826740799.py:31: FutureWarning: Pass y=[ 0.          0.          0.         ... -0.00742506 -0.00909696\n",
      " -0.01056936], sr=22050 as keyword args. From version 0.10 passing these as positional arguments will result in an error\n",
      "  MFCCs = librosa.feature.mfcc(signal, sample_rate, n_mfcc=num_mfcc, n_fft=n_fft,\n",
      "C:\\Users\\asus\\AppData\\Local\\Temp\\ipykernel_24176\\2826740799.py:31: FutureWarning: Pass y=[ 0.          0.          0.         ... -0.00439601 -0.00464515\n",
      " -0.00445797], sr=22050 as keyword args. From version 0.10 passing these as positional arguments will result in an error\n",
      "  MFCCs = librosa.feature.mfcc(signal, sample_rate, n_mfcc=num_mfcc, n_fft=n_fft,\n",
      "C:\\Users\\asus\\AppData\\Local\\Temp\\ipykernel_24176\\2826740799.py:31: FutureWarning: Pass y=[0.         0.         0.         ... 0.00150605 0.00296043 0.0016513 ], sr=22050 as keyword args. From version 0.10 passing these as positional arguments will result in an error\n",
      "  MFCCs = librosa.feature.mfcc(signal, sample_rate, n_mfcc=num_mfcc, n_fft=n_fft,\n",
      "C:\\Users\\asus\\AppData\\Local\\Temp\\ipykernel_24176\\2826740799.py:31: FutureWarning: Pass y=[ 0.          0.          0.         ... -0.00054613 -0.00253657\n",
      " -0.00235838], sr=22050 as keyword args. From version 0.10 passing these as positional arguments will result in an error\n",
      "  MFCCs = librosa.feature.mfcc(signal, sample_rate, n_mfcc=num_mfcc, n_fft=n_fft,\n"
     ]
    },
    {
     "name": "stdout",
     "output_type": "stream",
     "text": [
      "Dataset\\Manuk\\Recording_328.wav: 5\n",
      "Dataset\\Manuk\\Recording_331.wav: 5\n",
      "Dataset\\Manuk\\Recording_332.wav: 5\n",
      "Dataset\\Manuk\\Recording_334.wav: 5\n"
     ]
    },
    {
     "name": "stderr",
     "output_type": "stream",
     "text": [
      "C:\\Users\\asus\\AppData\\Local\\Temp\\ipykernel_24176\\2826740799.py:31: FutureWarning: Pass y=[ 0.          0.          0.         ... -0.00218079 -0.00304814\n",
      " -0.00392731], sr=22050 as keyword args. From version 0.10 passing these as positional arguments will result in an error\n",
      "  MFCCs = librosa.feature.mfcc(signal, sample_rate, n_mfcc=num_mfcc, n_fft=n_fft,\n",
      "C:\\Users\\asus\\AppData\\Local\\Temp\\ipykernel_24176\\2826740799.py:31: FutureWarning: Pass y=[0.         0.         0.         ... 0.00553192 0.00476128 0.00435951], sr=22050 as keyword args. From version 0.10 passing these as positional arguments will result in an error\n",
      "  MFCCs = librosa.feature.mfcc(signal, sample_rate, n_mfcc=num_mfcc, n_fft=n_fft,\n"
     ]
    },
    {
     "name": "stdout",
     "output_type": "stream",
     "text": [
      "Dataset\\Manuk\\Recording_335.wav: 5\n",
      "Dataset\\Manuk\\Recording_336.wav: 5\n"
     ]
    },
    {
     "name": "stderr",
     "output_type": "stream",
     "text": [
      "C:\\Users\\asus\\AppData\\Local\\Temp\\ipykernel_24176\\2826740799.py:31: FutureWarning: Pass y=[0.         0.         0.         ... 0.00180348 0.00283189 0.00435322], sr=22050 as keyword args. From version 0.10 passing these as positional arguments will result in an error\n",
      "  MFCCs = librosa.feature.mfcc(signal, sample_rate, n_mfcc=num_mfcc, n_fft=n_fft,\n",
      "C:\\Users\\asus\\AppData\\Local\\Temp\\ipykernel_24176\\2826740799.py:31: FutureWarning: Pass y=[0.         0.         0.         ... 0.00122727 0.00140409 0.00127   ], sr=22050 as keyword args. From version 0.10 passing these as positional arguments will result in an error\n",
      "  MFCCs = librosa.feature.mfcc(signal, sample_rate, n_mfcc=num_mfcc, n_fft=n_fft,\n",
      "C:\\Users\\asus\\AppData\\Local\\Temp\\ipykernel_24176\\2826740799.py:31: FutureWarning: Pass y=[ 0.          0.          0.         ... -0.00355749 -0.0030425\n",
      " -0.00293848], sr=22050 as keyword args. From version 0.10 passing these as positional arguments will result in an error\n",
      "  MFCCs = librosa.feature.mfcc(signal, sample_rate, n_mfcc=num_mfcc, n_fft=n_fft,\n"
     ]
    },
    {
     "name": "stdout",
     "output_type": "stream",
     "text": [
      "Dataset\\Manuk\\Recording_338.wav: 5\n",
      "Dataset\\Manuk\\Recording_340.wav: 5\n",
      "Dataset\\Manuk\\Recording_341.wav: 5\n"
     ]
    },
    {
     "name": "stderr",
     "output_type": "stream",
     "text": [
      "C:\\Users\\asus\\AppData\\Local\\Temp\\ipykernel_24176\\2826740799.py:31: FutureWarning: Pass y=[ 0.          0.          0.         ... -0.00141411 -0.00156039\n",
      " -0.00158363], sr=22050 as keyword args. From version 0.10 passing these as positional arguments will result in an error\n",
      "  MFCCs = librosa.feature.mfcc(signal, sample_rate, n_mfcc=num_mfcc, n_fft=n_fft,\n",
      "C:\\Users\\asus\\AppData\\Local\\Temp\\ipykernel_24176\\2826740799.py:31: FutureWarning: Pass y=[ 0.          0.          0.         ... -0.00261195 -0.00241271\n",
      " -0.00247591], sr=22050 as keyword args. From version 0.10 passing these as positional arguments will result in an error\n",
      "  MFCCs = librosa.feature.mfcc(signal, sample_rate, n_mfcc=num_mfcc, n_fft=n_fft,\n",
      "C:\\Users\\asus\\AppData\\Local\\Temp\\ipykernel_24176\\2826740799.py:31: FutureWarning: Pass y=[ 0.          0.          0.         ... -0.00631229 -0.00671171\n",
      " -0.0067683 ], sr=22050 as keyword args. From version 0.10 passing these as positional arguments will result in an error\n",
      "  MFCCs = librosa.feature.mfcc(signal, sample_rate, n_mfcc=num_mfcc, n_fft=n_fft,\n"
     ]
    },
    {
     "name": "stdout",
     "output_type": "stream",
     "text": [
      "Dataset\\Manuk\\Recording_342.wav: 5\n",
      "Dataset\\Manuk\\Recording_343.wav: 5\n",
      "Dataset\\Manuk\\Recording_344.wav: 5\n"
     ]
    },
    {
     "name": "stderr",
     "output_type": "stream",
     "text": [
      "C:\\Users\\asus\\AppData\\Local\\Temp\\ipykernel_24176\\2826740799.py:31: FutureWarning: Pass y=[ 0.          0.          0.         ... -0.00299233 -0.00293563\n",
      " -0.00278667], sr=22050 as keyword args. From version 0.10 passing these as positional arguments will result in an error\n",
      "  MFCCs = librosa.feature.mfcc(signal, sample_rate, n_mfcc=num_mfcc, n_fft=n_fft,\n",
      "C:\\Users\\asus\\AppData\\Local\\Temp\\ipykernel_24176\\2826740799.py:31: FutureWarning: Pass y=[ 0.          0.          0.         ... -0.00163691 -0.00209769\n",
      " -0.00172053], sr=22050 as keyword args. From version 0.10 passing these as positional arguments will result in an error\n",
      "  MFCCs = librosa.feature.mfcc(signal, sample_rate, n_mfcc=num_mfcc, n_fft=n_fft,\n",
      "C:\\Users\\asus\\AppData\\Local\\Temp\\ipykernel_24176\\2826740799.py:31: FutureWarning: Pass y=[0.         0.         0.         ... 0.00125943 0.00124123 0.00148903], sr=22050 as keyword args. From version 0.10 passing these as positional arguments will result in an error\n",
      "  MFCCs = librosa.feature.mfcc(signal, sample_rate, n_mfcc=num_mfcc, n_fft=n_fft,\n"
     ]
    },
    {
     "name": "stdout",
     "output_type": "stream",
     "text": [
      "Dataset\\Manuk\\Recording_345.wav: 5\n",
      "Dataset\\Manuk\\Recording_346.wav: 5\n",
      "Dataset\\Manuk\\Recording_347.wav: 5\n"
     ]
    },
    {
     "name": "stderr",
     "output_type": "stream",
     "text": [
      "C:\\Users\\asus\\AppData\\Local\\Temp\\ipykernel_24176\\2826740799.py:31: FutureWarning: Pass y=[ 0.          0.          0.         ... -0.00551685 -0.00452498\n",
      " -0.00424679], sr=22050 as keyword args. From version 0.10 passing these as positional arguments will result in an error\n",
      "  MFCCs = librosa.feature.mfcc(signal, sample_rate, n_mfcc=num_mfcc, n_fft=n_fft,\n",
      "C:\\Users\\asus\\AppData\\Local\\Temp\\ipykernel_24176\\2826740799.py:31: FutureWarning: Pass y=[ 0.          0.          0.         ... -0.00344527 -0.00310826\n",
      " -0.00353139], sr=22050 as keyword args. From version 0.10 passing these as positional arguments will result in an error\n",
      "  MFCCs = librosa.feature.mfcc(signal, sample_rate, n_mfcc=num_mfcc, n_fft=n_fft,\n"
     ]
    },
    {
     "name": "stdout",
     "output_type": "stream",
     "text": [
      "Dataset\\Manuk\\Recording_348.wav: 5\n",
      "Dataset\\Manuk\\Recording_350.wav: 5\n"
     ]
    },
    {
     "name": "stderr",
     "output_type": "stream",
     "text": [
      "C:\\Users\\asus\\AppData\\Local\\Temp\\ipykernel_24176\\2826740799.py:31: FutureWarning: Pass y=[0.         0.         0.         ... 0.01229647 0.01157049 0.01116639], sr=22050 as keyword args. From version 0.10 passing these as positional arguments will result in an error\n",
      "  MFCCs = librosa.feature.mfcc(signal, sample_rate, n_mfcc=num_mfcc, n_fft=n_fft,\n",
      "C:\\Users\\asus\\AppData\\Local\\Temp\\ipykernel_24176\\2826740799.py:31: FutureWarning: Pass y=[0.         0.         0.         ... 0.00085929 0.00115718 0.0014664 ], sr=22050 as keyword args. From version 0.10 passing these as positional arguments will result in an error\n",
      "  MFCCs = librosa.feature.mfcc(signal, sample_rate, n_mfcc=num_mfcc, n_fft=n_fft,\n",
      "C:\\Users\\asus\\AppData\\Local\\Temp\\ipykernel_24176\\2826740799.py:31: FutureWarning: Pass y=[ 0.          0.          0.         ... -0.00298589 -0.00214193\n",
      " -0.00165322], sr=22050 as keyword args. From version 0.10 passing these as positional arguments will result in an error\n",
      "  MFCCs = librosa.feature.mfcc(signal, sample_rate, n_mfcc=num_mfcc, n_fft=n_fft,\n"
     ]
    },
    {
     "name": "stdout",
     "output_type": "stream",
     "text": [
      "Dataset\\Manuk\\Recording_351.wav: 5\n",
      "Dataset\\Manuk\\Recording_352.wav: 5\n",
      "Dataset\\Manuk\\Recording_353.wav: 5\n"
     ]
    },
    {
     "name": "stderr",
     "output_type": "stream",
     "text": [
      "C:\\Users\\asus\\AppData\\Local\\Temp\\ipykernel_24176\\2826740799.py:31: FutureWarning: Pass y=[0.         0.         0.         ... 0.00837068 0.00834443 0.0087879 ], sr=22050 as keyword args. From version 0.10 passing these as positional arguments will result in an error\n",
      "  MFCCs = librosa.feature.mfcc(signal, sample_rate, n_mfcc=num_mfcc, n_fft=n_fft,\n",
      "C:\\Users\\asus\\AppData\\Local\\Temp\\ipykernel_24176\\2826740799.py:31: FutureWarning: Pass y=[ 0.          0.          0.         ...  0.00052505  0.00043844\n",
      " -0.00025624], sr=22050 as keyword args. From version 0.10 passing these as positional arguments will result in an error\n",
      "  MFCCs = librosa.feature.mfcc(signal, sample_rate, n_mfcc=num_mfcc, n_fft=n_fft,\n",
      "C:\\Users\\asus\\AppData\\Local\\Temp\\ipykernel_24176\\2826740799.py:31: FutureWarning: Pass y=[ 0.          0.          0.         ... -0.0042717  -0.00119365\n",
      " -0.00125345], sr=22050 as keyword args. From version 0.10 passing these as positional arguments will result in an error\n",
      "  MFCCs = librosa.feature.mfcc(signal, sample_rate, n_mfcc=num_mfcc, n_fft=n_fft,\n"
     ]
    },
    {
     "name": "stdout",
     "output_type": "stream",
     "text": [
      "Dataset\\Manuk\\Recording_354.wav: 5\n",
      "Dataset\\Manuk\\Recording_355.wav: 5\n",
      "Dataset\\Manuk\\Recording_356.wav: 5\n"
     ]
    },
    {
     "name": "stderr",
     "output_type": "stream",
     "text": [
      "C:\\Users\\asus\\AppData\\Local\\Temp\\ipykernel_24176\\2826740799.py:31: FutureWarning: Pass y=[ 0.          0.          0.         ... -0.00335528 -0.00548123\n",
      " -0.00646955], sr=22050 as keyword args. From version 0.10 passing these as positional arguments will result in an error\n",
      "  MFCCs = librosa.feature.mfcc(signal, sample_rate, n_mfcc=num_mfcc, n_fft=n_fft,\n",
      "C:\\Users\\asus\\AppData\\Local\\Temp\\ipykernel_24176\\2826740799.py:31: FutureWarning: Pass y=[-8.8391418e-05 -1.5452103e-04 -1.2906910e-04 ... -7.0072885e-04\n",
      " -6.3145481e-04 -8.9983681e-05], sr=22050 as keyword args. From version 0.10 passing these as positional arguments will result in an error\n",
      "  MFCCs = librosa.feature.mfcc(signal, sample_rate, n_mfcc=num_mfcc, n_fft=n_fft,\n",
      "C:\\Users\\asus\\AppData\\Local\\Temp\\ipykernel_24176\\2826740799.py:31: FutureWarning: Pass y=[ 1.5448430e-06 -2.8895959e-06  8.9528767e-06 ... -2.7167799e-03\n",
      " -3.1063554e-03 -3.5028677e-03], sr=22050 as keyword args. From version 0.10 passing these as positional arguments will result in an error\n",
      "  MFCCs = librosa.feature.mfcc(signal, sample_rate, n_mfcc=num_mfcc, n_fft=n_fft,\n",
      "C:\\Users\\asus\\AppData\\Local\\Temp\\ipykernel_24176\\2826740799.py:31: FutureWarning: Pass y=[-9.0401569e-05 -1.2972587e-04 -1.2527936e-04 ...  1.1487269e-04\n",
      "  1.2923763e-03  1.9039097e-03], sr=22050 as keyword args. From version 0.10 passing these as positional arguments will result in an error\n",
      "  MFCCs = librosa.feature.mfcc(signal, sample_rate, n_mfcc=num_mfcc, n_fft=n_fft,\n"
     ]
    },
    {
     "name": "stdout",
     "output_type": "stream",
     "text": [
      "Dataset\\Manuk\\Recording_357.wav: 5\n",
      "\n",
      "Processing: 'Dataset\\Oat'\n",
      "Dataset\\Oat\\Recording_1304.wav: 6\n",
      "Dataset\\Oat\\Recording_1306.wav: 6\n",
      "Dataset\\Oat\\Recording_1307.wav: 6\n"
     ]
    },
    {
     "name": "stderr",
     "output_type": "stream",
     "text": [
      "C:\\Users\\asus\\AppData\\Local\\Temp\\ipykernel_24176\\2826740799.py:31: FutureWarning: Pass y=[-7.2913856e-05 -1.3802122e-04 -1.7467313e-04 ... -2.1466864e-03\n",
      " -2.7837246e-03 -4.0238150e-03], sr=22050 as keyword args. From version 0.10 passing these as positional arguments will result in an error\n",
      "  MFCCs = librosa.feature.mfcc(signal, sample_rate, n_mfcc=num_mfcc, n_fft=n_fft,\n",
      "C:\\Users\\asus\\AppData\\Local\\Temp\\ipykernel_24176\\2826740799.py:31: FutureWarning: Pass y=[-2.3579976e-05 -1.2286257e-05  2.7018461e-05 ... -1.4704193e-03\n",
      " -1.9939549e-03 -2.2906915e-03], sr=22050 as keyword args. From version 0.10 passing these as positional arguments will result in an error\n",
      "  MFCCs = librosa.feature.mfcc(signal, sample_rate, n_mfcc=num_mfcc, n_fft=n_fft,\n",
      "C:\\Users\\asus\\AppData\\Local\\Temp\\ipykernel_24176\\2826740799.py:31: FutureWarning: Pass y=[-3.8850299e-05 -2.5508960e-05 -1.5688792e-06 ...  9.9753961e-05\n",
      "  3.7738989e-04  8.4800058e-04], sr=22050 as keyword args. From version 0.10 passing these as positional arguments will result in an error\n",
      "  MFCCs = librosa.feature.mfcc(signal, sample_rate, n_mfcc=num_mfcc, n_fft=n_fft,\n"
     ]
    },
    {
     "name": "stdout",
     "output_type": "stream",
     "text": [
      "Dataset\\Oat\\Recording_1308.wav: 6\n",
      "Dataset\\Oat\\Recording_1309.wav: 6\n",
      "Dataset\\Oat\\Recording_1310.wav: 6\n"
     ]
    },
    {
     "name": "stderr",
     "output_type": "stream",
     "text": [
      "C:\\Users\\asus\\AppData\\Local\\Temp\\ipykernel_24176\\2826740799.py:31: FutureWarning: Pass y=[ 9.4650168e-05  9.9147466e-05  6.2859413e-05 ... -3.8244308e-03\n",
      " -4.0020258e-03 -3.8500112e-03], sr=22050 as keyword args. From version 0.10 passing these as positional arguments will result in an error\n",
      "  MFCCs = librosa.feature.mfcc(signal, sample_rate, n_mfcc=num_mfcc, n_fft=n_fft,\n",
      "C:\\Users\\asus\\AppData\\Local\\Temp\\ipykernel_24176\\2826740799.py:31: FutureWarning: Pass y=[0.01717062 0.03099011 0.03287362 ... 0.00016232 0.00072026 0.0015731 ], sr=22050 as keyword args. From version 0.10 passing these as positional arguments will result in an error\n",
      "  MFCCs = librosa.feature.mfcc(signal, sample_rate, n_mfcc=num_mfcc, n_fft=n_fft,\n",
      "C:\\Users\\asus\\AppData\\Local\\Temp\\ipykernel_24176\\2826740799.py:31: FutureWarning: Pass y=[ 2.2268834e-05  3.3817963e-05  7.7955137e-06 ... -1.0128703e-03\n",
      "  4.9797940e-04  2.1100608e-03], sr=22050 as keyword args. From version 0.10 passing these as positional arguments will result in an error\n",
      "  MFCCs = librosa.feature.mfcc(signal, sample_rate, n_mfcc=num_mfcc, n_fft=n_fft,\n",
      "C:\\Users\\asus\\AppData\\Local\\Temp\\ipykernel_24176\\2826740799.py:31: FutureWarning: Pass y=[ 6.4322448e-05  1.2268465e-04  1.3430981e-04 ... -1.7926121e-05\n",
      " -7.4293389e-04 -1.3492601e-03], sr=22050 as keyword args. From version 0.10 passing these as positional arguments will result in an error\n",
      "  MFCCs = librosa.feature.mfcc(signal, sample_rate, n_mfcc=num_mfcc, n_fft=n_fft,\n"
     ]
    },
    {
     "name": "stdout",
     "output_type": "stream",
     "text": [
      "Dataset\\Oat\\Recording_1311.wav: 6\n",
      "Dataset\\Oat\\Recording_1312.wav: 6\n",
      "Dataset\\Oat\\Recording_1313.wav: 6\n",
      "Dataset\\Oat\\Recording_1314.wav: 6\n"
     ]
    },
    {
     "name": "stderr",
     "output_type": "stream",
     "text": [
      "C:\\Users\\asus\\AppData\\Local\\Temp\\ipykernel_24176\\2826740799.py:31: FutureWarning: Pass y=[-1.8883045e-05 -8.2254839e-05 -1.3422918e-04 ...  3.8569799e-04\n",
      "  9.5040584e-04  1.8012556e-03], sr=22050 as keyword args. From version 0.10 passing these as positional arguments will result in an error\n",
      "  MFCCs = librosa.feature.mfcc(signal, sample_rate, n_mfcc=num_mfcc, n_fft=n_fft,\n",
      "C:\\Users\\asus\\AppData\\Local\\Temp\\ipykernel_24176\\2826740799.py:31: FutureWarning: Pass y=[ 4.2533808e-05  4.9756316e-05 -8.2674060e-06 ...  6.9808844e-04\n",
      "  8.5059740e-04  8.3129283e-04], sr=22050 as keyword args. From version 0.10 passing these as positional arguments will result in an error\n",
      "  MFCCs = librosa.feature.mfcc(signal, sample_rate, n_mfcc=num_mfcc, n_fft=n_fft,\n",
      "C:\\Users\\asus\\AppData\\Local\\Temp\\ipykernel_24176\\2826740799.py:31: FutureWarning: Pass y=[ 4.3870503e-05  4.8150701e-05 -6.0520747e-06 ...  4.3236051e-04\n",
      "  9.4298145e-04  1.4926371e-03], sr=22050 as keyword args. From version 0.10 passing these as positional arguments will result in an error\n",
      "  MFCCs = librosa.feature.mfcc(signal, sample_rate, n_mfcc=num_mfcc, n_fft=n_fft,\n",
      "C:\\Users\\asus\\AppData\\Local\\Temp\\ipykernel_24176\\2826740799.py:31: FutureWarning: Pass y=[-9.30340975e-05 -1.02096055e-04 -3.49952788e-05 ...  6.19926164e-03\n",
      "  6.01467025e-03  5.71613759e-03], sr=22050 as keyword args. From version 0.10 passing these as positional arguments will result in an error\n",
      "  MFCCs = librosa.feature.mfcc(signal, sample_rate, n_mfcc=num_mfcc, n_fft=n_fft,\n"
     ]
    },
    {
     "name": "stdout",
     "output_type": "stream",
     "text": [
      "Dataset\\Oat\\Recording_1315.wav: 6\n",
      "Dataset\\Oat\\Recording_1316.wav: 6\n",
      "Dataset\\Oat\\Recording_1317.wav: 6\n",
      "Dataset\\Oat\\Recording_1318.wav: 6\n"
     ]
    },
    {
     "name": "stderr",
     "output_type": "stream",
     "text": [
      "C:\\Users\\asus\\AppData\\Local\\Temp\\ipykernel_24176\\2826740799.py:31: FutureWarning: Pass y=[-9.1269789e-07  6.2999939e-06  3.4645542e-05 ... -6.0545380e-04\n",
      " -4.0168379e-04  2.7109263e-03], sr=22050 as keyword args. From version 0.10 passing these as positional arguments will result in an error\n",
      "  MFCCs = librosa.feature.mfcc(signal, sample_rate, n_mfcc=num_mfcc, n_fft=n_fft,\n",
      "C:\\Users\\asus\\AppData\\Local\\Temp\\ipykernel_24176\\2826740799.py:31: FutureWarning: Pass y=[2.2940903e-05 3.1722491e-05 3.5364112e-05 ... 3.4973288e-03 3.2476340e-03\n",
      " 2.7604646e-03], sr=22050 as keyword args. From version 0.10 passing these as positional arguments will result in an error\n",
      "  MFCCs = librosa.feature.mfcc(signal, sample_rate, n_mfcc=num_mfcc, n_fft=n_fft,\n",
      "C:\\Users\\asus\\AppData\\Local\\Temp\\ipykernel_24176\\2826740799.py:31: FutureWarning: Pass y=[4.2186937e-05 9.1103473e-05 6.2908934e-05 ... 4.1142438e-02 1.9489927e-02\n",
      " 3.0597188e-03], sr=22050 as keyword args. From version 0.10 passing these as positional arguments will result in an error\n",
      "  MFCCs = librosa.feature.mfcc(signal, sample_rate, n_mfcc=num_mfcc, n_fft=n_fft,\n"
     ]
    },
    {
     "name": "stdout",
     "output_type": "stream",
     "text": [
      "Dataset\\Oat\\Recording_1320.wav: 6\n",
      "Dataset\\Oat\\Recording_1322.wav: 6\n",
      "Dataset\\Oat\\Recording_1323.wav: 6\n"
     ]
    },
    {
     "name": "stderr",
     "output_type": "stream",
     "text": [
      "C:\\Users\\asus\\AppData\\Local\\Temp\\ipykernel_24176\\2826740799.py:31: FutureWarning: Pass y=[-1.7792110e-05 -8.0838297e-05 -6.6801680e-05 ...  3.3505806e-03\n",
      "  3.3559406e-03  2.7937628e-03], sr=22050 as keyword args. From version 0.10 passing these as positional arguments will result in an error\n",
      "  MFCCs = librosa.feature.mfcc(signal, sample_rate, n_mfcc=num_mfcc, n_fft=n_fft,\n",
      "C:\\Users\\asus\\AppData\\Local\\Temp\\ipykernel_24176\\2826740799.py:31: FutureWarning: Pass y=[1.5487101e-05 6.8207526e-05 7.8933801e-05 ... 1.6471720e-03 3.0566475e-03\n",
      " 3.7295970e-03], sr=22050 as keyword args. From version 0.10 passing these as positional arguments will result in an error\n",
      "  MFCCs = librosa.feature.mfcc(signal, sample_rate, n_mfcc=num_mfcc, n_fft=n_fft,\n",
      "C:\\Users\\asus\\AppData\\Local\\Temp\\ipykernel_24176\\2826740799.py:31: FutureWarning: Pass y=[0.00013179 0.00020591 0.00020744 ... 0.00128103 0.0010353  0.00079919], sr=22050 as keyword args. From version 0.10 passing these as positional arguments will result in an error\n",
      "  MFCCs = librosa.feature.mfcc(signal, sample_rate, n_mfcc=num_mfcc, n_fft=n_fft,\n",
      "C:\\Users\\asus\\AppData\\Local\\Temp\\ipykernel_24176\\2826740799.py:31: FutureWarning: Pass y=[2.2255768e-05 3.3023782e-05 2.9366969e-05 ... 6.0403082e-03 6.6083344e-03\n",
      " 7.5094015e-03], sr=22050 as keyword args. From version 0.10 passing these as positional arguments will result in an error\n",
      "  MFCCs = librosa.feature.mfcc(signal, sample_rate, n_mfcc=num_mfcc, n_fft=n_fft,\n"
     ]
    },
    {
     "name": "stdout",
     "output_type": "stream",
     "text": [
      "Dataset\\Oat\\Recording_1324.wav: 6\n",
      "Dataset\\Oat\\Recording_1325.wav: 6\n",
      "Dataset\\Oat\\Recording_1326.wav: 6\n",
      "Dataset\\Oat\\Recording_1327.wav: 6\n"
     ]
    },
    {
     "name": "stderr",
     "output_type": "stream",
     "text": [
      "C:\\Users\\asus\\AppData\\Local\\Temp\\ipykernel_24176\\2826740799.py:31: FutureWarning: Pass y=[1.0976847e-04 9.5370953e-05 1.6011811e-05 ... 3.0535085e-03 2.6345493e-03\n",
      " 2.5220991e-03], sr=22050 as keyword args. From version 0.10 passing these as positional arguments will result in an error\n",
      "  MFCCs = librosa.feature.mfcc(signal, sample_rate, n_mfcc=num_mfcc, n_fft=n_fft,\n",
      "C:\\Users\\asus\\AppData\\Local\\Temp\\ipykernel_24176\\2826740799.py:31: FutureWarning: Pass y=[-1.7974045e-04 -2.4193080e-04 -2.0394794e-04 ... -2.3608971e-05\n",
      " -1.7023344e-04 -6.1191502e-04], sr=22050 as keyword args. From version 0.10 passing these as positional arguments will result in an error\n",
      "  MFCCs = librosa.feature.mfcc(signal, sample_rate, n_mfcc=num_mfcc, n_fft=n_fft,\n",
      "C:\\Users\\asus\\AppData\\Local\\Temp\\ipykernel_24176\\2826740799.py:31: FutureWarning: Pass y=[ 2.3051565e-05  1.1978340e-05 -2.5353671e-05 ... -5.8050849e-03\n",
      " -6.6442271e-03 -6.0843774e-03], sr=22050 as keyword args. From version 0.10 passing these as positional arguments will result in an error\n",
      "  MFCCs = librosa.feature.mfcc(signal, sample_rate, n_mfcc=num_mfcc, n_fft=n_fft,\n",
      "C:\\Users\\asus\\AppData\\Local\\Temp\\ipykernel_24176\\2826740799.py:31: FutureWarning: Pass y=[-2.3024011e-05 -3.2341439e-05 -2.9736801e-05 ...  5.2269427e-03\n",
      "  2.2553264e-03 -3.6772827e-04], sr=22050 as keyword args. From version 0.10 passing these as positional arguments will result in an error\n",
      "  MFCCs = librosa.feature.mfcc(signal, sample_rate, n_mfcc=num_mfcc, n_fft=n_fft,\n"
     ]
    },
    {
     "name": "stdout",
     "output_type": "stream",
     "text": [
      "Dataset\\Oat\\Recording_1328.wav: 6\n",
      "Dataset\\Oat\\Recording_1329.wav: 6\n",
      "Dataset\\Oat\\Recording_1331.wav: 6\n",
      "Dataset\\Oat\\Recording_1332.wav: 6\n",
      "Dataset\\Oat\\Recording_1333.wav: 6\n",
      "Dataset\\Oat\\Recording_1334.wav: 6\n"
     ]
    },
    {
     "name": "stderr",
     "output_type": "stream",
     "text": [
      "C:\\Users\\asus\\AppData\\Local\\Temp\\ipykernel_24176\\2826740799.py:31: FutureWarning: Pass y=[-3.9317023e-05 -9.8048862e-05 -1.1834204e-04 ... -9.5002295e-05\n",
      "  2.2222307e-04  5.6052214e-04], sr=22050 as keyword args. From version 0.10 passing these as positional arguments will result in an error\n",
      "  MFCCs = librosa.feature.mfcc(signal, sample_rate, n_mfcc=num_mfcc, n_fft=n_fft,\n",
      "C:\\Users\\asus\\AppData\\Local\\Temp\\ipykernel_24176\\2826740799.py:31: FutureWarning: Pass y=[-4.3403135e-05 -8.7902343e-05 -9.2142429e-05 ...  4.3033217e-03\n",
      "  5.1806271e-03  5.4831263e-03], sr=22050 as keyword args. From version 0.10 passing these as positional arguments will result in an error\n",
      "  MFCCs = librosa.feature.mfcc(signal, sample_rate, n_mfcc=num_mfcc, n_fft=n_fft,\n",
      "C:\\Users\\asus\\AppData\\Local\\Temp\\ipykernel_24176\\2826740799.py:31: FutureWarning: Pass y=[-2.1133230e-05 -3.4603010e-05 -2.6786094e-05 ... -3.9229135e-04\n",
      " -2.1356580e-04  5.5840419e-04], sr=22050 as keyword args. From version 0.10 passing these as positional arguments will result in an error\n",
      "  MFCCs = librosa.feature.mfcc(signal, sample_rate, n_mfcc=num_mfcc, n_fft=n_fft,\n"
     ]
    },
    {
     "name": "stdout",
     "output_type": "stream",
     "text": [
      "Dataset\\Oat\\Recording_1335.wav: 6\n"
     ]
    },
    {
     "name": "stderr",
     "output_type": "stream",
     "text": [
      "C:\\Users\\asus\\AppData\\Local\\Temp\\ipykernel_24176\\2826740799.py:31: FutureWarning: Pass y=[-6.3869440e-05 -1.0428130e-04 -5.5267454e-05 ... -1.2189368e-03\n",
      " -1.2172330e-03 -1.2277327e-03], sr=22050 as keyword args. From version 0.10 passing these as positional arguments will result in an error\n",
      "  MFCCs = librosa.feature.mfcc(signal, sample_rate, n_mfcc=num_mfcc, n_fft=n_fft,\n",
      "C:\\Users\\asus\\AppData\\Local\\Temp\\ipykernel_24176\\2826740799.py:31: FutureWarning: Pass y=[-6.4693078e-05 -1.0349620e-04 -5.6271147e-05 ... -2.9956817e-03\n",
      " -3.3913048e-03 -3.1675289e-03], sr=22050 as keyword args. From version 0.10 passing these as positional arguments will result in an error\n",
      "  MFCCs = librosa.feature.mfcc(signal, sample_rate, n_mfcc=num_mfcc, n_fft=n_fft,\n",
      "C:\\Users\\asus\\AppData\\Local\\Temp\\ipykernel_24176\\2826740799.py:31: FutureWarning: Pass y=[-6.0423728e-05 -4.4471970e-05 -2.8008842e-05 ... -9.1990578e-04\n",
      "  3.7336349e-04  1.7989358e-03], sr=22050 as keyword args. From version 0.10 passing these as positional arguments will result in an error\n",
      "  MFCCs = librosa.feature.mfcc(signal, sample_rate, n_mfcc=num_mfcc, n_fft=n_fft,\n"
     ]
    },
    {
     "name": "stdout",
     "output_type": "stream",
     "text": [
      "Dataset\\Oat\\Recording_1336.wav: 6\n",
      "Dataset\\Oat\\Recording_1337.wav: 6\n",
      "Dataset\\Oat\\Recording_1338.wav: 6\n"
     ]
    },
    {
     "name": "stderr",
     "output_type": "stream",
     "text": [
      "C:\\Users\\asus\\AppData\\Local\\Temp\\ipykernel_24176\\2826740799.py:31: FutureWarning: Pass y=[-5.1632454e-05 -1.1957345e-04 -1.2337098e-04 ... -2.4114947e-03\n",
      " -8.0768729e-04  8.6212982e-05], sr=22050 as keyword args. From version 0.10 passing these as positional arguments will result in an error\n",
      "  MFCCs = librosa.feature.mfcc(signal, sample_rate, n_mfcc=num_mfcc, n_fft=n_fft,\n",
      "C:\\Users\\asus\\AppData\\Local\\Temp\\ipykernel_24176\\2826740799.py:31: FutureWarning: Pass y=[ 0.0001351   0.00019181  0.00014365 ... -0.00637237 -0.00536013\n",
      " -0.00378093], sr=22050 as keyword args. From version 0.10 passing these as positional arguments will result in an error\n",
      "  MFCCs = librosa.feature.mfcc(signal, sample_rate, n_mfcc=num_mfcc, n_fft=n_fft,\n",
      "C:\\Users\\asus\\AppData\\Local\\Temp\\ipykernel_24176\\2826740799.py:31: FutureWarning: Pass y=[-1.8017572e-05 -4.4141285e-05 -5.2348863e-05 ... -1.1492015e-01\n",
      " -9.2551477e-02 -5.9903555e-02], sr=22050 as keyword args. From version 0.10 passing these as positional arguments will result in an error\n",
      "  MFCCs = librosa.feature.mfcc(signal, sample_rate, n_mfcc=num_mfcc, n_fft=n_fft,\n"
     ]
    },
    {
     "name": "stdout",
     "output_type": "stream",
     "text": [
      "Dataset\\Oat\\Recording_1339.wav: 6\n",
      "Dataset\\Oat\\Recording_1340.wav: 6\n",
      "Dataset\\Oat\\Recording_1341.wav: 6\n"
     ]
    },
    {
     "name": "stderr",
     "output_type": "stream",
     "text": [
      "C:\\Users\\asus\\AppData\\Local\\Temp\\ipykernel_24176\\2826740799.py:31: FutureWarning: Pass y=[ 8.6504566e-05  1.6155570e-04  1.5993952e-04 ... -1.2481126e-03\n",
      " -1.2803946e-03 -1.1236126e-03], sr=22050 as keyword args. From version 0.10 passing these as positional arguments will result in an error\n",
      "  MFCCs = librosa.feature.mfcc(signal, sample_rate, n_mfcc=num_mfcc, n_fft=n_fft,\n",
      "C:\\Users\\asus\\AppData\\Local\\Temp\\ipykernel_24176\\2826740799.py:31: FutureWarning: Pass y=[0.00013905 0.00016564 0.00011701 ... 0.00021828 0.00021261 0.00076291], sr=22050 as keyword args. From version 0.10 passing these as positional arguments will result in an error\n",
      "  MFCCs = librosa.feature.mfcc(signal, sample_rate, n_mfcc=num_mfcc, n_fft=n_fft,\n",
      "C:\\Users\\asus\\AppData\\Local\\Temp\\ipykernel_24176\\2826740799.py:31: FutureWarning: Pass y=[-2.5016583e-05 -3.9728193e-06  3.7823393e-05 ... -1.0732316e-03\n",
      " -1.2269432e-03 -1.3043550e-03], sr=22050 as keyword args. From version 0.10 passing these as positional arguments will result in an error\n",
      "  MFCCs = librosa.feature.mfcc(signal, sample_rate, n_mfcc=num_mfcc, n_fft=n_fft,\n"
     ]
    },
    {
     "name": "stdout",
     "output_type": "stream",
     "text": [
      "Dataset\\Oat\\Recording_1342.wav: 6\n",
      "Dataset\\Oat\\Recording_1343.wav: 6\n",
      "Dataset\\Oat\\Recording_1344.wav: 6\n"
     ]
    },
    {
     "name": "stderr",
     "output_type": "stream",
     "text": [
      "C:\\Users\\asus\\AppData\\Local\\Temp\\ipykernel_24176\\2826740799.py:31: FutureWarning: Pass y=[-0.00013315 -0.00019921 -0.00017328 ... -0.00370887 -0.00369015\n",
      " -0.0038952 ], sr=22050 as keyword args. From version 0.10 passing these as positional arguments will result in an error\n",
      "  MFCCs = librosa.feature.mfcc(signal, sample_rate, n_mfcc=num_mfcc, n_fft=n_fft,\n",
      "C:\\Users\\asus\\AppData\\Local\\Temp\\ipykernel_24176\\2826740799.py:31: FutureWarning: Pass y=[ 2.33206156e-05  1.01684445e-05  1.74979505e-05 ... -2.82391684e-05\n",
      " -2.09232094e-04 -2.37238171e-04], sr=22050 as keyword args. From version 0.10 passing these as positional arguments will result in an error\n",
      "  MFCCs = librosa.feature.mfcc(signal, sample_rate, n_mfcc=num_mfcc, n_fft=n_fft,\n",
      "C:\\Users\\asus\\AppData\\Local\\Temp\\ipykernel_24176\\2826740799.py:31: FutureWarning: Pass y=[-0.00013496 -0.00019737 -0.00017501 ... -0.00259172 -0.00423718\n",
      " -0.00512677], sr=22050 as keyword args. From version 0.10 passing these as positional arguments will result in an error\n",
      "  MFCCs = librosa.feature.mfcc(signal, sample_rate, n_mfcc=num_mfcc, n_fft=n_fft,\n",
      "C:\\Users\\asus\\AppData\\Local\\Temp\\ipykernel_24176\\2826740799.py:31: FutureWarning: Pass y=[-4.5183271e-05 -6.1688283e-05  3.2735215e-06 ...  3.6855428e-03\n",
      "  3.4190468e-03  2.9303636e-03], sr=22050 as keyword args. From version 0.10 passing these as positional arguments will result in an error\n",
      "  MFCCs = librosa.feature.mfcc(signal, sample_rate, n_mfcc=num_mfcc, n_fft=n_fft,\n"
     ]
    },
    {
     "name": "stdout",
     "output_type": "stream",
     "text": [
      "Dataset\\Oat\\Recording_1345.wav: 6\n",
      "Dataset\\Oat\\Recording_1346.wav: 6\n",
      "Dataset\\Oat\\Recording_1347.wav: 6\n",
      "Dataset\\Oat\\Recording_1348.wav: 6\n"
     ]
    },
    {
     "name": "stderr",
     "output_type": "stream",
     "text": [
      "C:\\Users\\asus\\AppData\\Local\\Temp\\ipykernel_24176\\2826740799.py:31: FutureWarning: Pass y=[-9.3230039e-05 -1.0212538e-04 -5.0103397e-05 ...  2.8210243e-03\n",
      "  3.3014372e-03  3.7570135e-03], sr=22050 as keyword args. From version 0.10 passing these as positional arguments will result in an error\n",
      "  MFCCs = librosa.feature.mfcc(signal, sample_rate, n_mfcc=num_mfcc, n_fft=n_fft,\n",
      "C:\\Users\\asus\\AppData\\Local\\Temp\\ipykernel_24176\\2826740799.py:31: FutureWarning: Pass y=[-1.4790842e-06  2.2530990e-05  3.2663953e-05 ... -9.3085814e-04\n",
      " -4.3129755e-04 -9.0125177e-05], sr=22050 as keyword args. From version 0.10 passing these as positional arguments will result in an error\n",
      "  MFCCs = librosa.feature.mfcc(signal, sample_rate, n_mfcc=num_mfcc, n_fft=n_fft,\n",
      "C:\\Users\\asus\\AppData\\Local\\Temp\\ipykernel_24176\\2826740799.py:31: FutureWarning: Pass y=[1.8645971e-05 5.8957110e-05 5.2201194e-05 ... 2.1611287e-03 1.7423464e-03\n",
      " 1.2880017e-03], sr=22050 as keyword args. From version 0.10 passing these as positional arguments will result in an error\n",
      "  MFCCs = librosa.feature.mfcc(signal, sample_rate, n_mfcc=num_mfcc, n_fft=n_fft,\n",
      "C:\\Users\\asus\\AppData\\Local\\Temp\\ipykernel_24176\\2826740799.py:31: FutureWarning: Pass y=[2.2721679e-05 3.1583491e-05 5.1825664e-05 ... 1.9197122e-03 1.2517669e-03\n",
      " 5.5610412e-04], sr=22050 as keyword args. From version 0.10 passing these as positional arguments will result in an error\n",
      "  MFCCs = librosa.feature.mfcc(signal, sample_rate, n_mfcc=num_mfcc, n_fft=n_fft,\n"
     ]
    },
    {
     "name": "stdout",
     "output_type": "stream",
     "text": [
      "Dataset\\Oat\\Recording_1349.wav: 6\n",
      "Dataset\\Oat\\Recording_1350.wav: 6\n",
      "Dataset\\Oat\\Recording_1352.wav: 6\n",
      "Dataset\\Oat\\Recording_1353.wav: 6\n"
     ]
    },
    {
     "name": "stderr",
     "output_type": "stream",
     "text": [
      "C:\\Users\\asus\\AppData\\Local\\Temp\\ipykernel_24176\\2826740799.py:31: FutureWarning: Pass y=[ 2.1624197e-05  3.3859749e-05  2.8169990e-05 ... -4.0186703e-04\n",
      " -5.1107572e-04 -9.1477099e-04], sr=22050 as keyword args. From version 0.10 passing these as positional arguments will result in an error\n",
      "  MFCCs = librosa.feature.mfcc(signal, sample_rate, n_mfcc=num_mfcc, n_fft=n_fft,\n",
      "C:\\Users\\asus\\AppData\\Local\\Temp\\ipykernel_24176\\2826740799.py:31: FutureWarning: Pass y=[-2.4129897e-05 -3.0395213e-05 -3.6598060e-05 ... -4.4793244e-03\n",
      " -2.9874381e-03 -1.8881389e-03], sr=22050 as keyword args. From version 0.10 passing these as positional arguments will result in an error\n",
      "  MFCCs = librosa.feature.mfcc(signal, sample_rate, n_mfcc=num_mfcc, n_fft=n_fft,\n",
      "C:\\Users\\asus\\AppData\\Local\\Temp\\ipykernel_24176\\2826740799.py:31: FutureWarning: Pass y=[8.8659872e-05 1.2960365e-04 5.1278821e-05 ... 7.2969582e-05 3.7351107e-05\n",
      " 1.5173997e-04], sr=22050 as keyword args. From version 0.10 passing these as positional arguments will result in an error\n",
      "  MFCCs = librosa.feature.mfcc(signal, sample_rate, n_mfcc=num_mfcc, n_fft=n_fft,\n",
      "C:\\Users\\asus\\AppData\\Local\\Temp\\ipykernel_24176\\2826740799.py:31: FutureWarning: Pass y=[-0.0001569  -0.00021064 -0.00014803 ...  0.00144065  0.00076167\n",
      "  0.00060911], sr=22050 as keyword args. From version 0.10 passing these as positional arguments will result in an error\n",
      "  MFCCs = librosa.feature.mfcc(signal, sample_rate, n_mfcc=num_mfcc, n_fft=n_fft,\n"
     ]
    },
    {
     "name": "stdout",
     "output_type": "stream",
     "text": [
      "Dataset\\Oat\\Recording_1354.wav: 6\n",
      "Dataset\\Oat\\Recording_1355.wav: 6\n",
      "Dataset\\Oat\\Recording_1356.wav: 6\n",
      "Dataset\\Oat\\Recording_1357.wav: 6\n"
     ]
    },
    {
     "name": "stderr",
     "output_type": "stream",
     "text": [
      "C:\\Users\\asus\\AppData\\Local\\Temp\\ipykernel_24176\\2826740799.py:31: FutureWarning: Pass y=[-3.0381545e-06  2.5146563e-05  2.4363559e-05 ... -5.9057027e-04\n",
      " -1.7321914e-03 -1.6802403e-03], sr=22050 as keyword args. From version 0.10 passing these as positional arguments will result in an error\n",
      "  MFCCs = librosa.feature.mfcc(signal, sample_rate, n_mfcc=num_mfcc, n_fft=n_fft,\n",
      "C:\\Users\\asus\\AppData\\Local\\Temp\\ipykernel_24176\\2826740799.py:31: FutureWarning: Pass y=[-6.4118809e-05 -1.2397613e-04 -9.6453667e-05 ...  5.2088161e-04\n",
      "  3.7623855e-04  9.5833151e-05], sr=22050 as keyword args. From version 0.10 passing these as positional arguments will result in an error\n",
      "  MFCCs = librosa.feature.mfcc(signal, sample_rate, n_mfcc=num_mfcc, n_fft=n_fft,\n",
      "C:\\Users\\asus\\AppData\\Local\\Temp\\ipykernel_24176\\2826740799.py:31: FutureWarning: Pass y=[6.3930973e-05 1.2513286e-04 7.0749869e-05 ... 1.4177680e-01 1.2609386e-01\n",
      " 7.5724423e-02], sr=22050 as keyword args. From version 0.10 passing these as positional arguments will result in an error\n",
      "  MFCCs = librosa.feature.mfcc(signal, sample_rate, n_mfcc=num_mfcc, n_fft=n_fft,\n"
     ]
    },
    {
     "name": "stdout",
     "output_type": "stream",
     "text": [
      "Dataset\\Oat\\Recording_1360.wav: 6\n",
      "Dataset\\Oat\\Recording_1362.wav: 6\n",
      "Dataset\\Oat\\Recording_1364.wav: 6\n",
      "\n",
      "Processing: 'Dataset\\Tangkong'\n"
     ]
    },
    {
     "name": "stderr",
     "output_type": "stream",
     "text": [
      "C:\\Users\\asus\\AppData\\Local\\Temp\\ipykernel_24176\\2826740799.py:31: FutureWarning: Pass y=[8.9029869e-05 1.5312211e-04 1.5128798e-04 ... 3.0581033e-02 4.4657778e-02\n",
      " 5.5791337e-02], sr=22050 as keyword args. From version 0.10 passing these as positional arguments will result in an error\n",
      "  MFCCs = librosa.feature.mfcc(signal, sample_rate, n_mfcc=num_mfcc, n_fft=n_fft,\n",
      "C:\\Users\\asus\\AppData\\Local\\Temp\\ipykernel_24176\\2826740799.py:31: FutureWarning: Pass y=[-5.9268365e-05 -4.6559064e-05 -2.0498561e-05 ... -3.6418022e-04\n",
      " -9.3380024e-04 -1.5204567e-03], sr=22050 as keyword args. From version 0.10 passing these as positional arguments will result in an error\n",
      "  MFCCs = librosa.feature.mfcc(signal, sample_rate, n_mfcc=num_mfcc, n_fft=n_fft,\n",
      "C:\\Users\\asus\\AppData\\Local\\Temp\\ipykernel_24176\\2826740799.py:31: FutureWarning: Pass y=[-9.4808001e-09  6.1302177e-07 -2.0454445e-05 ... -9.0498111e-04\n",
      " -9.1739628e-04 -8.3922152e-04], sr=22050 as keyword args. From version 0.10 passing these as positional arguments will result in an error\n",
      "  MFCCs = librosa.feature.mfcc(signal, sample_rate, n_mfcc=num_mfcc, n_fft=n_fft,\n",
      "C:\\Users\\asus\\AppData\\Local\\Temp\\ipykernel_24176\\2826740799.py:31: FutureWarning: Pass y=[-2.1827276e-05 -1.3460187e-04 -3.0951976e-04 ... -8.5576531e-04\n",
      " -9.2191732e-04 -7.4703386e-04], sr=22050 as keyword args. From version 0.10 passing these as positional arguments will result in an error\n",
      "  MFCCs = librosa.feature.mfcc(signal, sample_rate, n_mfcc=num_mfcc, n_fft=n_fft,\n"
     ]
    },
    {
     "name": "stdout",
     "output_type": "stream",
     "text": [
      "Dataset\\Tangkong\\Recording_1365.wav: 7\n",
      "Dataset\\Tangkong\\Recording_1366.wav: 7\n",
      "Dataset\\Tangkong\\Recording_1367.wav: 7\n",
      "Dataset\\Tangkong\\Recording_1368.wav: 7\n",
      "Dataset\\Tangkong\\Recording_1369.wav: 7\n",
      "Dataset\\Tangkong\\Recording_1370.wav: 7\n"
     ]
    },
    {
     "name": "stderr",
     "output_type": "stream",
     "text": [
      "C:\\Users\\asus\\AppData\\Local\\Temp\\ipykernel_24176\\2826740799.py:31: FutureWarning: Pass y=[ 2.2055996e-05  3.3429442e-05  2.8514874e-05 ... -1.5713205e-03\n",
      " -1.7999986e-03 -2.0262883e-03], sr=22050 as keyword args. From version 0.10 passing these as positional arguments will result in an error\n",
      "  MFCCs = librosa.feature.mfcc(signal, sample_rate, n_mfcc=num_mfcc, n_fft=n_fft,\n",
      "C:\\Users\\asus\\AppData\\Local\\Temp\\ipykernel_24176\\2826740799.py:31: FutureWarning: Pass y=[5.0434443e-05 1.2136649e-04 1.3547984e-04 ... 1.2964911e-03 1.2727623e-03\n",
      " 9.8443986e-04], sr=22050 as keyword args. From version 0.10 passing these as positional arguments will result in an error\n",
      "  MFCCs = librosa.feature.mfcc(signal, sample_rate, n_mfcc=num_mfcc, n_fft=n_fft,\n",
      "C:\\Users\\asus\\AppData\\Local\\Temp\\ipykernel_24176\\2826740799.py:31: FutureWarning: Pass y=[2.1891135e-05 3.3597433e-05 2.8357914e-05 ... 4.2478677e-02 3.6948804e-02\n",
      " 3.1654377e-02], sr=22050 as keyword args. From version 0.10 passing these as positional arguments will result in an error\n",
      "  MFCCs = librosa.feature.mfcc(signal, sample_rate, n_mfcc=num_mfcc, n_fft=n_fft,\n",
      "C:\\Users\\asus\\AppData\\Local\\Temp\\ipykernel_24176\\2826740799.py:31: FutureWarning: Pass y=[-4.2253454e-05 -9.0241258e-05 -6.4998865e-05 ...  2.7709082e-03\n",
      "  1.4674828e-03  5.8282743e-04], sr=22050 as keyword args. From version 0.10 passing these as positional arguments will result in an error\n",
      "  MFCCs = librosa.feature.mfcc(signal, sample_rate, n_mfcc=num_mfcc, n_fft=n_fft,\n",
      "C:\\Users\\asus\\AppData\\Local\\Temp\\ipykernel_24176\\2826740799.py:31: FutureWarning: Pass y=[-2.2192949e-05 -3.3358057e-05 -2.8395971e-05 ...  1.7162567e-04\n",
      "  4.8905145e-04  5.0345680e-04], sr=22050 as keyword args. From version 0.10 passing these as positional arguments will result in an error\n",
      "  MFCCs = librosa.feature.mfcc(signal, sample_rate, n_mfcc=num_mfcc, n_fft=n_fft,\n"
     ]
    },
    {
     "name": "stdout",
     "output_type": "stream",
     "text": [
      "Dataset\\Tangkong\\Recording_1371.wav: 7\n",
      "Dataset\\Tangkong\\Recording_1373.wav: 7\n",
      "Dataset\\Tangkong\\Recording_1375.wav: 7\n"
     ]
    },
    {
     "name": "stderr",
     "output_type": "stream",
     "text": [
      "C:\\Users\\asus\\AppData\\Local\\Temp\\ipykernel_24176\\2826740799.py:31: FutureWarning: Pass y=[0.00011178 0.00018503 0.00018632 ... 0.00363498 0.01017568 0.01542768], sr=22050 as keyword args. From version 0.10 passing these as positional arguments will result in an error\n",
      "  MFCCs = librosa.feature.mfcc(signal, sample_rate, n_mfcc=num_mfcc, n_fft=n_fft,\n",
      "C:\\Users\\asus\\AppData\\Local\\Temp\\ipykernel_24176\\2826740799.py:31: FutureWarning: Pass y=[-1.9949945e-05 -5.6214587e-05 -6.1521750e-05 ... -7.6683606e-03\n",
      " -7.2916499e-03 -9.5002884e-03], sr=22050 as keyword args. From version 0.10 passing these as positional arguments will result in an error\n",
      "  MFCCs = librosa.feature.mfcc(signal, sample_rate, n_mfcc=num_mfcc, n_fft=n_fft,\n",
      "C:\\Users\\asus\\AppData\\Local\\Temp\\ipykernel_24176\\2826740799.py:31: FutureWarning: Pass y=[1.8878427e-05 6.2225030e-05 1.1589282e-04 ... 2.5587574e-02 2.5896914e-02\n",
      " 2.4779188e-02], sr=22050 as keyword args. From version 0.10 passing these as positional arguments will result in an error\n",
      "  MFCCs = librosa.feature.mfcc(signal, sample_rate, n_mfcc=num_mfcc, n_fft=n_fft,\n"
     ]
    },
    {
     "name": "stdout",
     "output_type": "stream",
     "text": [
      "Dataset\\Tangkong\\Recording_1376.wav: 7\n",
      "Dataset\\Tangkong\\Recording_1377.wav: 7\n",
      "Dataset\\Tangkong\\Recording_1378.wav: 7\n"
     ]
    },
    {
     "name": "stderr",
     "output_type": "stream",
     "text": [
      "C:\\Users\\asus\\AppData\\Local\\Temp\\ipykernel_24176\\2826740799.py:31: FutureWarning: Pass y=[-6.3779727e-05 -1.2368138e-04 -1.3269061e-04 ...  9.3138451e-03\n",
      "  1.0128877e-02  9.9348295e-03], sr=22050 as keyword args. From version 0.10 passing these as positional arguments will result in an error\n",
      "  MFCCs = librosa.feature.mfcc(signal, sample_rate, n_mfcc=num_mfcc, n_fft=n_fft,\n",
      "C:\\Users\\asus\\AppData\\Local\\Temp\\ipykernel_24176\\2826740799.py:31: FutureWarning: Pass y=[-4.60543561e-05 -6.38855199e-05 -6.55401454e-05 ... -1.37933595e-02\n",
      " -1.43664964e-02 -1.51346698e-02], sr=22050 as keyword args. From version 0.10 passing these as positional arguments will result in an error\n",
      "  MFCCs = librosa.feature.mfcc(signal, sample_rate, n_mfcc=num_mfcc, n_fft=n_fft,\n",
      "C:\\Users\\asus\\AppData\\Local\\Temp\\ipykernel_24176\\2826740799.py:31: FutureWarning: Pass y=[-2.1948335e-05 -3.4335961e-05 -6.7094388e-06 ...  6.3696466e-02\n",
      "  5.8250301e-02  3.3246044e-02], sr=22050 as keyword args. From version 0.10 passing these as positional arguments will result in an error\n",
      "  MFCCs = librosa.feature.mfcc(signal, sample_rate, n_mfcc=num_mfcc, n_fft=n_fft,\n"
     ]
    },
    {
     "name": "stdout",
     "output_type": "stream",
     "text": [
      "Dataset\\Tangkong\\Recording_1379.wav: 7\n",
      "Dataset\\Tangkong\\Recording_1380.wav: 7\n",
      "Dataset\\Tangkong\\Recording_1381.wav: 7\n"
     ]
    },
    {
     "name": "stderr",
     "output_type": "stream",
     "text": [
      "C:\\Users\\asus\\AppData\\Local\\Temp\\ipykernel_24176\\2826740799.py:31: FutureWarning: Pass y=[-2.2485103e-05 -3.2766373e-05 -2.9466126e-05 ... -8.2620986e-02\n",
      " -8.3554253e-02 -8.5584268e-02], sr=22050 as keyword args. From version 0.10 passing these as positional arguments will result in an error\n",
      "  MFCCs = librosa.feature.mfcc(signal, sample_rate, n_mfcc=num_mfcc, n_fft=n_fft,\n",
      "C:\\Users\\asus\\AppData\\Local\\Temp\\ipykernel_24176\\2826740799.py:31: FutureWarning: Pass y=[-2.2625525e-05 -3.3091499e-05 -2.8350623e-05 ...  9.7215315e-04\n",
      "  1.4659439e-03  1.3752325e-03], sr=22050 as keyword args. From version 0.10 passing these as positional arguments will result in an error\n",
      "  MFCCs = librosa.feature.mfcc(signal, sample_rate, n_mfcc=num_mfcc, n_fft=n_fft,\n",
      "C:\\Users\\asus\\AppData\\Local\\Temp\\ipykernel_24176\\2826740799.py:31: FutureWarning: Pass y=[-2.1050697e-05 -3.4823570e-05 -2.5844913e-05 ... -3.2600407e-02\n",
      " -3.2739770e-02 -3.2358162e-02], sr=22050 as keyword args. From version 0.10 passing these as positional arguments will result in an error\n",
      "  MFCCs = librosa.feature.mfcc(signal, sample_rate, n_mfcc=num_mfcc, n_fft=n_fft,\n"
     ]
    },
    {
     "name": "stdout",
     "output_type": "stream",
     "text": [
      "Dataset\\Tangkong\\Recording_1384.wav: 7\n",
      "Dataset\\Tangkong\\Recording_1385.wav: 7\n",
      "Dataset\\Tangkong\\Recording_1386.wav: 7\n"
     ]
    },
    {
     "name": "stderr",
     "output_type": "stream",
     "text": [
      "C:\\Users\\asus\\AppData\\Local\\Temp\\ipykernel_24176\\2826740799.py:31: FutureWarning: Pass y=[ 1.5602531e-06 -2.1725640e-05 -5.4230073e-05 ... -1.0794939e-02\n",
      " -9.6433638e-03 -6.8116453e-03], sr=22050 as keyword args. From version 0.10 passing these as positional arguments will result in an error\n",
      "  MFCCs = librosa.feature.mfcc(signal, sample_rate, n_mfcc=num_mfcc, n_fft=n_fft,\n",
      "C:\\Users\\asus\\AppData\\Local\\Temp\\ipykernel_24176\\2826740799.py:31: FutureWarning: Pass y=[-2.2478382e-05 -3.2783464e-05 -2.9445726e-05 ... -1.7278101e-02\n",
      " -1.6935453e-02 -1.6245667e-02], sr=22050 as keyword args. From version 0.10 passing these as positional arguments will result in an error\n",
      "  MFCCs = librosa.feature.mfcc(signal, sample_rate, n_mfcc=num_mfcc, n_fft=n_fft,\n",
      "C:\\Users\\asus\\AppData\\Local\\Temp\\ipykernel_24176\\2826740799.py:31: FutureWarning: Pass y=[6.2122444e-07 9.2156595e-05 1.5943895e-04 ... 3.8574614e-02 4.6032596e-02\n",
      " 5.4298673e-02], sr=22050 as keyword args. From version 0.10 passing these as positional arguments will result in an error\n",
      "  MFCCs = librosa.feature.mfcc(signal, sample_rate, n_mfcc=num_mfcc, n_fft=n_fft,\n"
     ]
    },
    {
     "name": "stdout",
     "output_type": "stream",
     "text": [
      "Dataset\\Tangkong\\Recording_1387.wav: 7\n",
      "Dataset\\Tangkong\\Recording_1388.wav: 7\n",
      "Dataset\\Tangkong\\Recording_1390.wav: 7\n"
     ]
    },
    {
     "name": "stderr",
     "output_type": "stream",
     "text": [
      "C:\\Users\\asus\\AppData\\Local\\Temp\\ipykernel_24176\\2826740799.py:31: FutureWarning: Pass y=[-4.7001475e-05 -4.2327094e-05 -3.1307518e-05 ...  2.9925457e-03\n",
      "  3.2662640e-03  3.4132905e-03], sr=22050 as keyword args. From version 0.10 passing these as positional arguments will result in an error\n",
      "  MFCCs = librosa.feature.mfcc(signal, sample_rate, n_mfcc=num_mfcc, n_fft=n_fft,\n",
      "C:\\Users\\asus\\AppData\\Local\\Temp\\ipykernel_24176\\2826740799.py:31: FutureWarning: Pass y=[-1.3544672e-04 -1.7246717e-04 -5.9065020e-05 ...  3.6270145e-02\n",
      "  3.2653615e-02  3.0472873e-02], sr=22050 as keyword args. From version 0.10 passing these as positional arguments will result in an error\n",
      "  MFCCs = librosa.feature.mfcc(signal, sample_rate, n_mfcc=num_mfcc, n_fft=n_fft,\n",
      "C:\\Users\\asus\\AppData\\Local\\Temp\\ipykernel_24176\\2826740799.py:31: FutureWarning: Pass y=[-8.5985754e-05 -1.6211696e-04 -1.6014531e-04 ...  8.8557877e-05\n",
      " -8.7622546e-05 -1.8767705e-04], sr=22050 as keyword args. From version 0.10 passing these as positional arguments will result in an error\n",
      "  MFCCs = librosa.feature.mfcc(signal, sample_rate, n_mfcc=num_mfcc, n_fft=n_fft,\n",
      "C:\\Users\\asus\\AppData\\Local\\Temp\\ipykernel_24176\\2826740799.py:31: FutureWarning: Pass y=[ 1.6773446e-06 -2.4909409e-06  7.7164750e-06 ...  1.6760873e-02\n",
      "  1.7938657e-02  1.7695356e-02], sr=22050 as keyword args. From version 0.10 passing these as positional arguments will result in an error\n",
      "  MFCCs = librosa.feature.mfcc(signal, sample_rate, n_mfcc=num_mfcc, n_fft=n_fft,\n"
     ]
    },
    {
     "name": "stdout",
     "output_type": "stream",
     "text": [
      "Dataset\\Tangkong\\Recording_1391.wav: 7\n",
      "Dataset\\Tangkong\\Recording_1393.wav: 7\n",
      "Dataset\\Tangkong\\Recording_1394.wav: 7\n",
      "Dataset\\Tangkong\\Recording_1395.wav: 7\n"
     ]
    },
    {
     "name": "stderr",
     "output_type": "stream",
     "text": [
      "C:\\Users\\asus\\AppData\\Local\\Temp\\ipykernel_24176\\2826740799.py:31: FutureWarning: Pass y=[-5.8468199e-06 -3.4407116e-05 -2.7367103e-05 ... -9.8139863e-04\n",
      " -9.6426508e-04 -9.5257472e-04], sr=22050 as keyword args. From version 0.10 passing these as positional arguments will result in an error\n",
      "  MFCCs = librosa.feature.mfcc(signal, sample_rate, n_mfcc=num_mfcc, n_fft=n_fft,\n",
      "C:\\Users\\asus\\AppData\\Local\\Temp\\ipykernel_24176\\2826740799.py:31: FutureWarning: Pass y=[ 4.4974167e-05  4.5617548e-05  2.1697488e-05 ... -2.1399792e-02\n",
      " -1.2967942e-02 -4.0796944e-03], sr=22050 as keyword args. From version 0.10 passing these as positional arguments will result in an error\n",
      "  MFCCs = librosa.feature.mfcc(signal, sample_rate, n_mfcc=num_mfcc, n_fft=n_fft,\n"
     ]
    },
    {
     "name": "stdout",
     "output_type": "stream",
     "text": [
      "Dataset\\Tangkong\\Recording_1396.wav: 7\n",
      "Dataset\\Tangkong\\Recording_1397.wav: 7\n"
     ]
    },
    {
     "name": "stderr",
     "output_type": "stream",
     "text": [
      "C:\\Users\\asus\\AppData\\Local\\Temp\\ipykernel_24176\\2826740799.py:31: FutureWarning: Pass y=[-4.3267872e-05 -6.8668574e-05 -4.9649021e-05 ... -8.4220087e-03\n",
      " -8.2121901e-03 -7.9868948e-03], sr=22050 as keyword args. From version 0.10 passing these as positional arguments will result in an error\n",
      "  MFCCs = librosa.feature.mfcc(signal, sample_rate, n_mfcc=num_mfcc, n_fft=n_fft,\n",
      "C:\\Users\\asus\\AppData\\Local\\Temp\\ipykernel_24176\\2826740799.py:31: FutureWarning: Pass y=[-4.5978952e-05 -4.3732864e-05 -2.5280826e-05 ...  4.1219350e-03\n",
      "  3.6689679e-03  2.6159082e-03], sr=22050 as keyword args. From version 0.10 passing these as positional arguments will result in an error\n",
      "  MFCCs = librosa.feature.mfcc(signal, sample_rate, n_mfcc=num_mfcc, n_fft=n_fft,\n",
      "C:\\Users\\asus\\AppData\\Local\\Temp\\ipykernel_24176\\2826740799.py:31: FutureWarning: Pass y=[-2.2416561e-05 -3.3346794e-05 -1.2449765e-05 ...  9.9103013e-03\n",
      "  2.4928036e-03 -1.2528467e-02], sr=22050 as keyword args. From version 0.10 passing these as positional arguments will result in an error\n",
      "  MFCCs = librosa.feature.mfcc(signal, sample_rate, n_mfcc=num_mfcc, n_fft=n_fft,\n"
     ]
    },
    {
     "name": "stdout",
     "output_type": "stream",
     "text": [
      "Dataset\\Tangkong\\Recording_1399.wav: 7\n",
      "Dataset\\Tangkong\\Recording_1400.wav: 7\n",
      "Dataset\\Tangkong\\Recording_1401.wav: 7\n"
     ]
    },
    {
     "name": "stderr",
     "output_type": "stream",
     "text": [
      "C:\\Users\\asus\\AppData\\Local\\Temp\\ipykernel_24176\\2826740799.py:31: FutureWarning: Pass y=[-8.7200970e-05 -1.3548014e-04 -1.0713970e-04 ... -5.2926172e-02\n",
      " -7.2419710e-02 -8.6507224e-02], sr=22050 as keyword args. From version 0.10 passing these as positional arguments will result in an error\n",
      "  MFCCs = librosa.feature.mfcc(signal, sample_rate, n_mfcc=num_mfcc, n_fft=n_fft,\n",
      "C:\\Users\\asus\\AppData\\Local\\Temp\\ipykernel_24176\\2826740799.py:31: FutureWarning: Pass y=[-2.2798093e-05 -3.2231517e-05 -3.0501767e-05 ...  6.7460798e-03\n",
      "  4.3663837e-04 -9.1348280e-04], sr=22050 as keyword args. From version 0.10 passing these as positional arguments will result in an error\n",
      "  MFCCs = librosa.feature.mfcc(signal, sample_rate, n_mfcc=num_mfcc, n_fft=n_fft,\n",
      "C:\\Users\\asus\\AppData\\Local\\Temp\\ipykernel_24176\\2826740799.py:31: FutureWarning: Pass y=[1.5217281e-04 1.6641530e-04 1.9938345e-05 ... 1.8118849e-02 1.7944420e-02\n",
      " 1.6438225e-02], sr=22050 as keyword args. From version 0.10 passing these as positional arguments will result in an error\n",
      "  MFCCs = librosa.feature.mfcc(signal, sample_rate, n_mfcc=num_mfcc, n_fft=n_fft,\n"
     ]
    },
    {
     "name": "stdout",
     "output_type": "stream",
     "text": [
      "Dataset\\Tangkong\\Recording_1402.wav: 7\n",
      "Dataset\\Tangkong\\Recording_1403.wav: 7\n",
      "Dataset\\Tangkong\\Recording_1405.wav: 7\n"
     ]
    },
    {
     "name": "stderr",
     "output_type": "stream",
     "text": [
      "C:\\Users\\asus\\AppData\\Local\\Temp\\ipykernel_24176\\2826740799.py:31: FutureWarning: Pass y=[ 1.3377349e-06 -2.2267128e-05 -3.3068958e-05 ... -1.0249923e-03\n",
      "  2.9372014e-03  6.0750307e-03], sr=22050 as keyword args. From version 0.10 passing these as positional arguments will result in an error\n",
      "  MFCCs = librosa.feature.mfcc(signal, sample_rate, n_mfcc=num_mfcc, n_fft=n_fft,\n",
      "C:\\Users\\asus\\AppData\\Local\\Temp\\ipykernel_24176\\2826740799.py:31: FutureWarning: Pass y=[-1.4491345e-05  1.8710631e-05  6.1942505e-05 ...  1.0211688e-02\n",
      "  6.4506344e-03  4.3966183e-03], sr=22050 as keyword args. From version 0.10 passing these as positional arguments will result in an error\n",
      "  MFCCs = librosa.feature.mfcc(signal, sample_rate, n_mfcc=num_mfcc, n_fft=n_fft,\n",
      "C:\\Users\\asus\\AppData\\Local\\Temp\\ipykernel_24176\\2826740799.py:31: FutureWarning: Pass y=[-1.9018978e-05 -5.8403984e-05 -5.3280215e-05 ... -2.3561511e-03\n",
      " -1.8919924e-03 -8.4800756e-04], sr=22050 as keyword args. From version 0.10 passing these as positional arguments will result in an error\n",
      "  MFCCs = librosa.feature.mfcc(signal, sample_rate, n_mfcc=num_mfcc, n_fft=n_fft,\n",
      "C:\\Users\\asus\\AppData\\Local\\Temp\\ipykernel_24176\\2826740799.py:31: FutureWarning: Pass y=[-2.1812994e-05 -3.4620032e-05 -6.4797355e-06 ... -1.4099325e-03\n",
      " -1.5531398e-03 -1.5940166e-03], sr=22050 as keyword args. From version 0.10 passing these as positional arguments will result in an error\n",
      "  MFCCs = librosa.feature.mfcc(signal, sample_rate, n_mfcc=num_mfcc, n_fft=n_fft,\n"
     ]
    },
    {
     "name": "stdout",
     "output_type": "stream",
     "text": [
      "Dataset\\Tangkong\\Recording_1406.wav: 7\n",
      "Dataset\\Tangkong\\Recording_1407.wav: 7\n",
      "Dataset\\Tangkong\\Recording_1411.wav: 7\n",
      "Dataset\\Tangkong\\Recording_1412.wav: 7\n"
     ]
    },
    {
     "name": "stderr",
     "output_type": "stream",
     "text": [
      "C:\\Users\\asus\\AppData\\Local\\Temp\\ipykernel_24176\\2826740799.py:31: FutureWarning: Pass y=[-2.4480387e-05 -2.8855771e-05 -6.0011338e-05 ... -6.2856758e-03\n",
      " -5.6447876e-03 -5.1317317e-03], sr=22050 as keyword args. From version 0.10 passing these as positional arguments will result in an error\n",
      "  MFCCs = librosa.feature.mfcc(signal, sample_rate, n_mfcc=num_mfcc, n_fft=n_fft,\n",
      "C:\\Users\\asus\\AppData\\Local\\Temp\\ipykernel_24176\\2826740799.py:31: FutureWarning: Pass y=[-0.00011179 -0.00016489 -0.00014626 ...  0.06160784  0.04931954\n",
      "  0.04455759], sr=22050 as keyword args. From version 0.10 passing these as positional arguments will result in an error\n",
      "  MFCCs = librosa.feature.mfcc(signal, sample_rate, n_mfcc=num_mfcc, n_fft=n_fft,\n",
      "C:\\Users\\asus\\AppData\\Local\\Temp\\ipykernel_24176\\2826740799.py:31: FutureWarning: Pass y=[-3.7153180e-07 -2.0031943e-05 -3.6283411e-05 ...  1.0725028e-02\n",
      " -1.6461430e-02 -3.7700608e-02], sr=22050 as keyword args. From version 0.10 passing these as positional arguments will result in an error\n",
      "  MFCCs = librosa.feature.mfcc(signal, sample_rate, n_mfcc=num_mfcc, n_fft=n_fft,\n"
     ]
    },
    {
     "name": "stdout",
     "output_type": "stream",
     "text": [
      "Dataset\\Tangkong\\Recording_1413.wav: 7\n",
      "Dataset\\Tangkong\\Recording_1414.wav: 7\n",
      "Dataset\\Tangkong\\Recording_1415.wav: 7\n"
     ]
    },
    {
     "name": "stderr",
     "output_type": "stream",
     "text": [
      "C:\\Users\\asus\\AppData\\Local\\Temp\\ipykernel_24176\\2826740799.py:31: FutureWarning: Pass y=[ 9.2201054e-07 -1.8351458e-06  7.3771917e-06 ... -2.7450004e-03\n",
      " -3.3605935e-03 -3.8372220e-03], sr=22050 as keyword args. From version 0.10 passing these as positional arguments will result in an error\n",
      "  MFCCs = librosa.feature.mfcc(signal, sample_rate, n_mfcc=num_mfcc, n_fft=n_fft,\n",
      "C:\\Users\\asus\\AppData\\Local\\Temp\\ipykernel_24176\\2826740799.py:31: FutureWarning: Pass y=[ 2.2456423e-05  3.2729640e-05  2.9587609e-05 ...  5.4353382e-03\n",
      " -1.6796006e-02 -3.9232157e-02], sr=22050 as keyword args. From version 0.10 passing these as positional arguments will result in an error\n",
      "  MFCCs = librosa.feature.mfcc(signal, sample_rate, n_mfcc=num_mfcc, n_fft=n_fft,\n",
      "C:\\Users\\asus\\AppData\\Local\\Temp\\ipykernel_24176\\2826740799.py:31: FutureWarning: Pass y=[-2.2307033e-06  2.3170929e-05  3.1942382e-05 ... -8.1361514e-03\n",
      " -3.8628259e-03 -1.0355855e-03], sr=22050 as keyword args. From version 0.10 passing these as positional arguments will result in an error\n",
      "  MFCCs = librosa.feature.mfcc(signal, sample_rate, n_mfcc=num_mfcc, n_fft=n_fft,\n"
     ]
    },
    {
     "name": "stdout",
     "output_type": "stream",
     "text": [
      "Dataset\\Tangkong\\Recording_1416.wav: 7\n",
      "Dataset\\Tangkong\\Recording_1417.wav: 7\n",
      "Dataset\\Tangkong\\Recording_1418.wav: 7\n"
     ]
    },
    {
     "name": "stderr",
     "output_type": "stream",
     "text": [
      "C:\\Users\\asus\\AppData\\Local\\Temp\\ipykernel_24176\\2826740799.py:31: FutureWarning: Pass y=[-1.5809098e-07  4.1365510e-07 -7.4819019e-07 ...  7.5321436e-02\n",
      "  5.6071706e-02  3.1964161e-02], sr=22050 as keyword args. From version 0.10 passing these as positional arguments will result in an error\n",
      "  MFCCs = librosa.feature.mfcc(signal, sample_rate, n_mfcc=num_mfcc, n_fft=n_fft,\n",
      "C:\\Users\\asus\\AppData\\Local\\Temp\\ipykernel_24176\\2826740799.py:31: FutureWarning: Pass y=[ 1.08529127e-06 -2.11709084e-05 -3.61761959e-05 ... -9.53234732e-03\n",
      " -1.22168865e-02 -1.37222791e-02], sr=22050 as keyword args. From version 0.10 passing these as positional arguments will result in an error\n",
      "  MFCCs = librosa.feature.mfcc(signal, sample_rate, n_mfcc=num_mfcc, n_fft=n_fft,\n",
      "C:\\Users\\asus\\AppData\\Local\\Temp\\ipykernel_24176\\2826740799.py:31: FutureWarning: Pass y=[-4.6767895e-05 -3.9125000e-05  3.6591129e-05 ...  8.2564721e-04\n",
      "  6.3019211e-04  4.5564104e-04], sr=22050 as keyword args. From version 0.10 passing these as positional arguments will result in an error\n",
      "  MFCCs = librosa.feature.mfcc(signal, sample_rate, n_mfcc=num_mfcc, n_fft=n_fft,\n"
     ]
    },
    {
     "name": "stdout",
     "output_type": "stream",
     "text": [
      "Dataset\\Tangkong\\Recording_1419.wav: 7\n",
      "Dataset\\Tangkong\\Recording_1420.wav: 7\n",
      "Dataset\\Tangkong\\Recording_1421.wav: 7\n"
     ]
    },
    {
     "name": "stderr",
     "output_type": "stream",
     "text": [
      "C:\\Users\\asus\\AppData\\Local\\Temp\\ipykernel_24176\\2826740799.py:31: FutureWarning: Pass y=[-2.2830047e-05 -3.6047455e-05 -9.3071510e-05 ... -2.9728215e-02\n",
      " -3.1738184e-02 -4.0993467e-02], sr=22050 as keyword args. From version 0.10 passing these as positional arguments will result in an error\n",
      "  MFCCs = librosa.feature.mfcc(signal, sample_rate, n_mfcc=num_mfcc, n_fft=n_fft,\n",
      "C:\\Users\\asus\\AppData\\Local\\Temp\\ipykernel_24176\\2826740799.py:31: FutureWarning: Pass y=[-2.6345788e-05 -2.2588190e-06  3.2029708e-05 ...  1.2623559e-04\n",
      "  1.8322913e-04  2.1640817e-04], sr=22050 as keyword args. From version 0.10 passing these as positional arguments will result in an error\n",
      "  MFCCs = librosa.feature.mfcc(signal, sample_rate, n_mfcc=num_mfcc, n_fft=n_fft,\n",
      "C:\\Users\\asus\\AppData\\Local\\Temp\\ipykernel_24176\\2826740799.py:31: FutureWarning: Pass y=[-1.6534733e-06  2.3589284e-06 -7.3202568e-06 ... -4.4687367e-03\n",
      "  1.3022943e-03  4.7336188e-03], sr=22050 as keyword args. From version 0.10 passing these as positional arguments will result in an error\n",
      "  MFCCs = librosa.feature.mfcc(signal, sample_rate, n_mfcc=num_mfcc, n_fft=n_fft,\n"
     ]
    },
    {
     "name": "stdout",
     "output_type": "stream",
     "text": [
      "Dataset\\Tangkong\\Recording_1423.wav: 7\n",
      "Dataset\\Tangkong\\Recording_1424.wav: 7\n",
      "Dataset\\Tangkong\\Recording_1425.wav: 7\n"
     ]
    },
    {
     "name": "stderr",
     "output_type": "stream",
     "text": [
      "C:\\Users\\asus\\AppData\\Local\\Temp\\ipykernel_24176\\2826740799.py:31: FutureWarning: Pass y=[ 2.8721659e-05 -6.8664497e-07 -2.7938117e-05 ...  2.9627798e-02\n",
      "  2.6266549e-02  2.2490989e-02], sr=22050 as keyword args. From version 0.10 passing these as positional arguments will result in an error\n",
      "  MFCCs = librosa.feature.mfcc(signal, sample_rate, n_mfcc=num_mfcc, n_fft=n_fft,\n",
      "C:\\Users\\asus\\AppData\\Local\\Temp\\ipykernel_24176\\2826740799.py:31: FutureWarning: Pass y=[ 2.0470317e-05  3.5587636e-05  2.5250465e-05 ... -4.3516541e-03\n",
      " -4.2954814e-03 -4.2147823e-03], sr=22050 as keyword args. From version 0.10 passing these as positional arguments will result in an error\n",
      "  MFCCs = librosa.feature.mfcc(signal, sample_rate, n_mfcc=num_mfcc, n_fft=n_fft,\n"
     ]
    },
    {
     "name": "stdout",
     "output_type": "stream",
     "text": [
      "Dataset\\Tangkong\\Recording_1426.wav: 7\n",
      "Dataset\\Tangkong\\Recording_1427.wav: 7\n"
     ]
    },
    {
     "name": "stderr",
     "output_type": "stream",
     "text": [
      "C:\\Users\\asus\\AppData\\Local\\Temp\\ipykernel_24176\\2826740799.py:31: FutureWarning: Pass y=[ 1.97371755e-05  3.72097820e-05  3.03568368e-06 ... -3.21317762e-02\n",
      "  1.43869715e-02  6.01972230e-02], sr=22050 as keyword args. From version 0.10 passing these as positional arguments will result in an error\n",
      "  MFCCs = librosa.feature.mfcc(signal, sample_rate, n_mfcc=num_mfcc, n_fft=n_fft,\n",
      "C:\\Users\\asus\\AppData\\Local\\Temp\\ipykernel_24176\\2826740799.py:31: FutureWarning: Pass y=[0.         0.         0.         ... 0.1761283  0.17259775 0.16721523], sr=22050 as keyword args. From version 0.10 passing these as positional arguments will result in an error\n",
      "  MFCCs = librosa.feature.mfcc(signal, sample_rate, n_mfcc=num_mfcc, n_fft=n_fft,\n",
      "C:\\Users\\asus\\AppData\\Local\\Temp\\ipykernel_24176\\2826740799.py:31: FutureWarning: Pass y=[ 0.          0.          0.         ... -0.05506651 -0.05609146\n",
      " -0.05068349], sr=22050 as keyword args. From version 0.10 passing these as positional arguments will result in an error\n",
      "  MFCCs = librosa.feature.mfcc(signal, sample_rate, n_mfcc=num_mfcc, n_fft=n_fft,\n"
     ]
    },
    {
     "name": "stdout",
     "output_type": "stream",
     "text": [
      "Dataset\\Tangkong\\Recording_1428.wav: 7\n",
      "\n",
      "Processing: 'Dataset\\Ulu'\n",
      "Dataset\\Ulu\\Recording_377.wav: 8\n",
      "Dataset\\Ulu\\Recording_378.wav: 8\n"
     ]
    },
    {
     "name": "stderr",
     "output_type": "stream",
     "text": [
      "C:\\Users\\asus\\AppData\\Local\\Temp\\ipykernel_24176\\2826740799.py:31: FutureWarning: Pass y=[0.         0.         0.         ... 0.40907106 0.3907572  0.36941808], sr=22050 as keyword args. From version 0.10 passing these as positional arguments will result in an error\n",
      "  MFCCs = librosa.feature.mfcc(signal, sample_rate, n_mfcc=num_mfcc, n_fft=n_fft,\n",
      "C:\\Users\\asus\\AppData\\Local\\Temp\\ipykernel_24176\\2826740799.py:31: FutureWarning: Pass y=[0.         0.         0.         ... 0.07569256 0.04629858 0.01113858], sr=22050 as keyword args. From version 0.10 passing these as positional arguments will result in an error\n",
      "  MFCCs = librosa.feature.mfcc(signal, sample_rate, n_mfcc=num_mfcc, n_fft=n_fft,\n"
     ]
    },
    {
     "name": "stdout",
     "output_type": "stream",
     "text": [
      "Dataset\\Ulu\\Recording_379.wav: 8\n",
      "Dataset\\Ulu\\Recording_380.wav: 8\n"
     ]
    },
    {
     "name": "stderr",
     "output_type": "stream",
     "text": [
      "C:\\Users\\asus\\AppData\\Local\\Temp\\ipykernel_24176\\2826740799.py:31: FutureWarning: Pass y=[ 0.          0.          0.         ... -0.02408073 -0.02376774\n",
      " -0.02274741], sr=22050 as keyword args. From version 0.10 passing these as positional arguments will result in an error\n",
      "  MFCCs = librosa.feature.mfcc(signal, sample_rate, n_mfcc=num_mfcc, n_fft=n_fft,\n",
      "C:\\Users\\asus\\AppData\\Local\\Temp\\ipykernel_24176\\2826740799.py:31: FutureWarning: Pass y=[ 0.          0.          0.         ... -0.27859232 -0.2573314\n",
      " -0.22763114], sr=22050 as keyword args. From version 0.10 passing these as positional arguments will result in an error\n",
      "  MFCCs = librosa.feature.mfcc(signal, sample_rate, n_mfcc=num_mfcc, n_fft=n_fft,\n",
      "C:\\Users\\asus\\AppData\\Local\\Temp\\ipykernel_24176\\2826740799.py:31: FutureWarning: Pass y=[0.         0.         0.         ... 0.10037449 0.0907529  0.08126093], sr=22050 as keyword args. From version 0.10 passing these as positional arguments will result in an error\n",
      "  MFCCs = librosa.feature.mfcc(signal, sample_rate, n_mfcc=num_mfcc, n_fft=n_fft,\n"
     ]
    },
    {
     "name": "stdout",
     "output_type": "stream",
     "text": [
      "Dataset\\Ulu\\Recording_381.wav: 8\n",
      "Dataset\\Ulu\\Recording_382.wav: 8\n",
      "Dataset\\Ulu\\Recording_383.wav: 8\n"
     ]
    },
    {
     "name": "stderr",
     "output_type": "stream",
     "text": [
      "C:\\Users\\asus\\AppData\\Local\\Temp\\ipykernel_24176\\2826740799.py:31: FutureWarning: Pass y=[ 0.          0.          0.         ... -0.07683925 -0.08175651\n",
      " -0.08678947], sr=22050 as keyword args. From version 0.10 passing these as positional arguments will result in an error\n",
      "  MFCCs = librosa.feature.mfcc(signal, sample_rate, n_mfcc=num_mfcc, n_fft=n_fft,\n",
      "C:\\Users\\asus\\AppData\\Local\\Temp\\ipykernel_24176\\2826740799.py:31: FutureWarning: Pass y=[ 0.          0.          0.         ... -0.09668002 -0.06971861\n",
      " -0.04304581], sr=22050 as keyword args. From version 0.10 passing these as positional arguments will result in an error\n",
      "  MFCCs = librosa.feature.mfcc(signal, sample_rate, n_mfcc=num_mfcc, n_fft=n_fft,\n"
     ]
    },
    {
     "name": "stdout",
     "output_type": "stream",
     "text": [
      "Dataset\\Ulu\\Recording_384.wav: 8\n",
      "Dataset\\Ulu\\Recording_385.wav: 8\n"
     ]
    },
    {
     "name": "stderr",
     "output_type": "stream",
     "text": [
      "C:\\Users\\asus\\AppData\\Local\\Temp\\ipykernel_24176\\2826740799.py:31: FutureWarning: Pass y=[ 0.          0.          0.         ... -0.16476195 -0.17337196\n",
      " -0.18224102], sr=22050 as keyword args. From version 0.10 passing these as positional arguments will result in an error\n",
      "  MFCCs = librosa.feature.mfcc(signal, sample_rate, n_mfcc=num_mfcc, n_fft=n_fft,\n",
      "C:\\Users\\asus\\AppData\\Local\\Temp\\ipykernel_24176\\2826740799.py:31: FutureWarning: Pass y=[ 0.          0.          0.         ... -0.07528549 -0.07507659\n",
      " -0.07581421], sr=22050 as keyword args. From version 0.10 passing these as positional arguments will result in an error\n",
      "  MFCCs = librosa.feature.mfcc(signal, sample_rate, n_mfcc=num_mfcc, n_fft=n_fft,\n",
      "C:\\Users\\asus\\AppData\\Local\\Temp\\ipykernel_24176\\2826740799.py:31: FutureWarning: Pass y=[0.         0.         0.         ... 0.09286515 0.08888994 0.08376762], sr=22050 as keyword args. From version 0.10 passing these as positional arguments will result in an error\n",
      "  MFCCs = librosa.feature.mfcc(signal, sample_rate, n_mfcc=num_mfcc, n_fft=n_fft,\n"
     ]
    },
    {
     "name": "stdout",
     "output_type": "stream",
     "text": [
      "Dataset\\Ulu\\Recording_386.wav: 8\n",
      "Dataset\\Ulu\\Recording_387.wav: 8\n",
      "Dataset\\Ulu\\Recording_388.wav: 8\n"
     ]
    },
    {
     "name": "stderr",
     "output_type": "stream",
     "text": [
      "C:\\Users\\asus\\AppData\\Local\\Temp\\ipykernel_24176\\2826740799.py:31: FutureWarning: Pass y=[ 0.          0.          0.         ...  0.00922547 -0.00562976\n",
      " -0.02155121], sr=22050 as keyword args. From version 0.10 passing these as positional arguments will result in an error\n",
      "  MFCCs = librosa.feature.mfcc(signal, sample_rate, n_mfcc=num_mfcc, n_fft=n_fft,\n",
      "C:\\Users\\asus\\AppData\\Local\\Temp\\ipykernel_24176\\2826740799.py:31: FutureWarning: Pass y=[0.         0.         0.         ... 0.02586468 0.01427828 0.00460061], sr=22050 as keyword args. From version 0.10 passing these as positional arguments will result in an error\n",
      "  MFCCs = librosa.feature.mfcc(signal, sample_rate, n_mfcc=num_mfcc, n_fft=n_fft,\n",
      "C:\\Users\\asus\\AppData\\Local\\Temp\\ipykernel_24176\\2826740799.py:31: FutureWarning: Pass y=[ 0.          0.          0.         ... -0.24698308 -0.26554364\n",
      " -0.28150314], sr=22050 as keyword args. From version 0.10 passing these as positional arguments will result in an error\n",
      "  MFCCs = librosa.feature.mfcc(signal, sample_rate, n_mfcc=num_mfcc, n_fft=n_fft,\n"
     ]
    },
    {
     "name": "stdout",
     "output_type": "stream",
     "text": [
      "Dataset\\Ulu\\Recording_390.wav: 8\n",
      "Dataset\\Ulu\\Recording_391.wav: 8\n",
      "Dataset\\Ulu\\Recording_392.wav: 8\n"
     ]
    },
    {
     "name": "stderr",
     "output_type": "stream",
     "text": [
      "C:\\Users\\asus\\AppData\\Local\\Temp\\ipykernel_24176\\2826740799.py:31: FutureWarning: Pass y=[0.         0.         0.         ... 0.3098062  0.31817034 0.3274913 ], sr=22050 as keyword args. From version 0.10 passing these as positional arguments will result in an error\n",
      "  MFCCs = librosa.feature.mfcc(signal, sample_rate, n_mfcc=num_mfcc, n_fft=n_fft,\n",
      "C:\\Users\\asus\\AppData\\Local\\Temp\\ipykernel_24176\\2826740799.py:31: FutureWarning: Pass y=[ 0.          0.          0.         ... -0.10053623 -0.10107297\n",
      " -0.10870599], sr=22050 as keyword args. From version 0.10 passing these as positional arguments will result in an error\n",
      "  MFCCs = librosa.feature.mfcc(signal, sample_rate, n_mfcc=num_mfcc, n_fft=n_fft,\n",
      "C:\\Users\\asus\\AppData\\Local\\Temp\\ipykernel_24176\\2826740799.py:31: FutureWarning: Pass y=[0.         0.         0.         ... 0.17901576 0.18716186 0.19400999], sr=22050 as keyword args. From version 0.10 passing these as positional arguments will result in an error\n",
      "  MFCCs = librosa.feature.mfcc(signal, sample_rate, n_mfcc=num_mfcc, n_fft=n_fft,\n"
     ]
    },
    {
     "name": "stdout",
     "output_type": "stream",
     "text": [
      "Dataset\\Ulu\\Recording_393.wav: 8\n",
      "Dataset\\Ulu\\Recording_394.wav: 8\n",
      "Dataset\\Ulu\\Recording_395.wav: 8\n"
     ]
    },
    {
     "name": "stderr",
     "output_type": "stream",
     "text": [
      "C:\\Users\\asus\\AppData\\Local\\Temp\\ipykernel_24176\\2826740799.py:31: FutureWarning: Pass y=[ 0.          0.          0.         ... -0.04358584 -0.04252836\n",
      " -0.0439413 ], sr=22050 as keyword args. From version 0.10 passing these as positional arguments will result in an error\n",
      "  MFCCs = librosa.feature.mfcc(signal, sample_rate, n_mfcc=num_mfcc, n_fft=n_fft,\n",
      "C:\\Users\\asus\\AppData\\Local\\Temp\\ipykernel_24176\\2826740799.py:31: FutureWarning: Pass y=[0.         0.         0.         ... 0.00239284 0.00075605 0.00073093], sr=22050 as keyword args. From version 0.10 passing these as positional arguments will result in an error\n",
      "  MFCCs = librosa.feature.mfcc(signal, sample_rate, n_mfcc=num_mfcc, n_fft=n_fft,\n"
     ]
    },
    {
     "name": "stdout",
     "output_type": "stream",
     "text": [
      "Dataset\\Ulu\\Recording_396.wav: 8\n",
      "Dataset\\Ulu\\Recording_399.wav: 8\n"
     ]
    },
    {
     "name": "stderr",
     "output_type": "stream",
     "text": [
      "C:\\Users\\asus\\AppData\\Local\\Temp\\ipykernel_24176\\2826740799.py:31: FutureWarning: Pass y=[ 0.          0.          0.         ... -0.12435175 -0.13646801\n",
      " -0.14508209], sr=22050 as keyword args. From version 0.10 passing these as positional arguments will result in an error\n",
      "  MFCCs = librosa.feature.mfcc(signal, sample_rate, n_mfcc=num_mfcc, n_fft=n_fft,\n",
      "C:\\Users\\asus\\AppData\\Local\\Temp\\ipykernel_24176\\2826740799.py:31: FutureWarning: Pass y=[0.         0.         0.         ... 0.05810694 0.0549003  0.04858214], sr=22050 as keyword args. From version 0.10 passing these as positional arguments will result in an error\n",
      "  MFCCs = librosa.feature.mfcc(signal, sample_rate, n_mfcc=num_mfcc, n_fft=n_fft,\n",
      "C:\\Users\\asus\\AppData\\Local\\Temp\\ipykernel_24176\\2826740799.py:31: FutureWarning: Pass y=[ 0.          0.          0.         ... -0.18550842 -0.18566084\n",
      " -0.18199956], sr=22050 as keyword args. From version 0.10 passing these as positional arguments will result in an error\n",
      "  MFCCs = librosa.feature.mfcc(signal, sample_rate, n_mfcc=num_mfcc, n_fft=n_fft,\n"
     ]
    },
    {
     "name": "stdout",
     "output_type": "stream",
     "text": [
      "Dataset\\Ulu\\Recording_401.wav: 8\n",
      "Dataset\\Ulu\\Recording_402.wav: 8\n",
      "Dataset\\Ulu\\Recording_403.wav: 8\n"
     ]
    },
    {
     "name": "stderr",
     "output_type": "stream",
     "text": [
      "C:\\Users\\asus\\AppData\\Local\\Temp\\ipykernel_24176\\2826740799.py:31: FutureWarning: Pass y=[0.         0.         0.         ... 0.07497736 0.04577983 0.0207363 ], sr=22050 as keyword args. From version 0.10 passing these as positional arguments will result in an error\n",
      "  MFCCs = librosa.feature.mfcc(signal, sample_rate, n_mfcc=num_mfcc, n_fft=n_fft,\n",
      "C:\\Users\\asus\\AppData\\Local\\Temp\\ipykernel_24176\\2826740799.py:31: FutureWarning: Pass y=[ 0.          0.          0.         ... -0.14602037 -0.13449913\n",
      " -0.12020925], sr=22050 as keyword args. From version 0.10 passing these as positional arguments will result in an error\n",
      "  MFCCs = librosa.feature.mfcc(signal, sample_rate, n_mfcc=num_mfcc, n_fft=n_fft,\n",
      "C:\\Users\\asus\\AppData\\Local\\Temp\\ipykernel_24176\\2826740799.py:31: FutureWarning: Pass y=[ 0.          0.          0.         ... -0.04760705 -0.07370475\n",
      " -0.09714207], sr=22050 as keyword args. From version 0.10 passing these as positional arguments will result in an error\n",
      "  MFCCs = librosa.feature.mfcc(signal, sample_rate, n_mfcc=num_mfcc, n_fft=n_fft,\n"
     ]
    },
    {
     "name": "stdout",
     "output_type": "stream",
     "text": [
      "Dataset\\Ulu\\Recording_404.wav: 8\n",
      "Dataset\\Ulu\\Recording_405.wav: 8\n",
      "Dataset\\Ulu\\Recording_406.wav: 8\n"
     ]
    },
    {
     "name": "stderr",
     "output_type": "stream",
     "text": [
      "C:\\Users\\asus\\AppData\\Local\\Temp\\ipykernel_24176\\2826740799.py:31: FutureWarning: Pass y=[ 0.          0.          0.         ... -0.08645716 -0.09484258\n",
      " -0.10358012], sr=22050 as keyword args. From version 0.10 passing these as positional arguments will result in an error\n",
      "  MFCCs = librosa.feature.mfcc(signal, sample_rate, n_mfcc=num_mfcc, n_fft=n_fft,\n",
      "C:\\Users\\asus\\AppData\\Local\\Temp\\ipykernel_24176\\2826740799.py:31: FutureWarning: Pass y=[ 0.          0.          0.         ... -0.08172303 -0.0644117\n",
      " -0.0472877 ], sr=22050 as keyword args. From version 0.10 passing these as positional arguments will result in an error\n",
      "  MFCCs = librosa.feature.mfcc(signal, sample_rate, n_mfcc=num_mfcc, n_fft=n_fft,\n",
      "C:\\Users\\asus\\AppData\\Local\\Temp\\ipykernel_24176\\2826740799.py:31: FutureWarning: Pass y=[0.         0.         0.         ... 0.10887393 0.11673118 0.12402233], sr=22050 as keyword args. From version 0.10 passing these as positional arguments will result in an error\n",
      "  MFCCs = librosa.feature.mfcc(signal, sample_rate, n_mfcc=num_mfcc, n_fft=n_fft,\n"
     ]
    },
    {
     "name": "stdout",
     "output_type": "stream",
     "text": [
      "Dataset\\Ulu\\Recording_407.wav: 8\n",
      "Dataset\\Ulu\\Recording_408.wav: 8\n",
      "Dataset\\Ulu\\Recording_410.wav: 8\n"
     ]
    },
    {
     "name": "stderr",
     "output_type": "stream",
     "text": [
      "C:\\Users\\asus\\AppData\\Local\\Temp\\ipykernel_24176\\2826740799.py:31: FutureWarning: Pass y=[ 0.          0.          0.         ... -0.18097024 -0.17670031\n",
      " -0.17301004], sr=22050 as keyword args. From version 0.10 passing these as positional arguments will result in an error\n",
      "  MFCCs = librosa.feature.mfcc(signal, sample_rate, n_mfcc=num_mfcc, n_fft=n_fft,\n",
      "C:\\Users\\asus\\AppData\\Local\\Temp\\ipykernel_24176\\2826740799.py:31: FutureWarning: Pass y=[0.         0.         0.         ... 0.19033442 0.20500739 0.21666595], sr=22050 as keyword args. From version 0.10 passing these as positional arguments will result in an error\n",
      "  MFCCs = librosa.feature.mfcc(signal, sample_rate, n_mfcc=num_mfcc, n_fft=n_fft,\n",
      "C:\\Users\\asus\\AppData\\Local\\Temp\\ipykernel_24176\\2826740799.py:31: FutureWarning: Pass y=[0.         0.         0.         ... 0.01676668 0.03302845 0.05164014], sr=22050 as keyword args. From version 0.10 passing these as positional arguments will result in an error\n",
      "  MFCCs = librosa.feature.mfcc(signal, sample_rate, n_mfcc=num_mfcc, n_fft=n_fft,\n"
     ]
    },
    {
     "name": "stdout",
     "output_type": "stream",
     "text": [
      "Dataset\\Ulu\\Recording_411.wav: 8\n",
      "Dataset\\Ulu\\Recording_412.wav: 8\n",
      "Dataset\\Ulu\\Recording_413.wav: 8\n"
     ]
    },
    {
     "name": "stderr",
     "output_type": "stream",
     "text": [
      "C:\\Users\\asus\\AppData\\Local\\Temp\\ipykernel_24176\\2826740799.py:31: FutureWarning: Pass y=[ 0.          0.          0.         ... -0.12926583 -0.12594946\n",
      " -0.12274402], sr=22050 as keyword args. From version 0.10 passing these as positional arguments will result in an error\n",
      "  MFCCs = librosa.feature.mfcc(signal, sample_rate, n_mfcc=num_mfcc, n_fft=n_fft,\n",
      "C:\\Users\\asus\\AppData\\Local\\Temp\\ipykernel_24176\\2826740799.py:31: FutureWarning: Pass y=[ 0.          0.          0.         ... -0.05285605 -0.07625389\n",
      " -0.09464362], sr=22050 as keyword args. From version 0.10 passing these as positional arguments will result in an error\n",
      "  MFCCs = librosa.feature.mfcc(signal, sample_rate, n_mfcc=num_mfcc, n_fft=n_fft,\n",
      "C:\\Users\\asus\\AppData\\Local\\Temp\\ipykernel_24176\\2826740799.py:31: FutureWarning: Pass y=[ 0.          0.          0.         ... -0.03498368 -0.03937434\n",
      " -0.04369786], sr=22050 as keyword args. From version 0.10 passing these as positional arguments will result in an error\n",
      "  MFCCs = librosa.feature.mfcc(signal, sample_rate, n_mfcc=num_mfcc, n_fft=n_fft,\n"
     ]
    },
    {
     "name": "stdout",
     "output_type": "stream",
     "text": [
      "Dataset\\Ulu\\Recording_414.wav: 8\n",
      "Dataset\\Ulu\\Recording_415.wav: 8\n",
      "Dataset\\Ulu\\Recording_416.wav: 8\n"
     ]
    },
    {
     "name": "stderr",
     "output_type": "stream",
     "text": [
      "C:\\Users\\asus\\AppData\\Local\\Temp\\ipykernel_24176\\2826740799.py:31: FutureWarning: Pass y=[0.         0.         0.         ... 0.12125257 0.09821696 0.08817383], sr=22050 as keyword args. From version 0.10 passing these as positional arguments will result in an error\n",
      "  MFCCs = librosa.feature.mfcc(signal, sample_rate, n_mfcc=num_mfcc, n_fft=n_fft,\n",
      "C:\\Users\\asus\\AppData\\Local\\Temp\\ipykernel_24176\\2826740799.py:31: FutureWarning: Pass y=[ 0.          0.          0.         ... -0.01673198 -0.0434283\n",
      " -0.07558236], sr=22050 as keyword args. From version 0.10 passing these as positional arguments will result in an error\n",
      "  MFCCs = librosa.feature.mfcc(signal, sample_rate, n_mfcc=num_mfcc, n_fft=n_fft,\n",
      "C:\\Users\\asus\\AppData\\Local\\Temp\\ipykernel_24176\\2826740799.py:31: FutureWarning: Pass y=[0.         0.         0.         ... 0.17183988 0.15574796 0.13331543], sr=22050 as keyword args. From version 0.10 passing these as positional arguments will result in an error\n",
      "  MFCCs = librosa.feature.mfcc(signal, sample_rate, n_mfcc=num_mfcc, n_fft=n_fft,\n"
     ]
    },
    {
     "name": "stdout",
     "output_type": "stream",
     "text": [
      "Dataset\\Ulu\\Recording_417.wav: 8\n",
      "Dataset\\Ulu\\Recording_418.wav: 8\n",
      "Dataset\\Ulu\\Recording_419.wav: 8\n"
     ]
    },
    {
     "name": "stderr",
     "output_type": "stream",
     "text": [
      "C:\\Users\\asus\\AppData\\Local\\Temp\\ipykernel_24176\\2826740799.py:31: FutureWarning: Pass y=[ 0.          0.          0.         ... -0.25050053 -0.24942587\n",
      " -0.25153998], sr=22050 as keyword args. From version 0.10 passing these as positional arguments will result in an error\n",
      "  MFCCs = librosa.feature.mfcc(signal, sample_rate, n_mfcc=num_mfcc, n_fft=n_fft,\n",
      "C:\\Users\\asus\\AppData\\Local\\Temp\\ipykernel_24176\\2826740799.py:31: FutureWarning: Pass y=[0.         0.         0.         ... 0.18066572 0.21640585 0.24573345], sr=22050 as keyword args. From version 0.10 passing these as positional arguments will result in an error\n",
      "  MFCCs = librosa.feature.mfcc(signal, sample_rate, n_mfcc=num_mfcc, n_fft=n_fft,\n",
      "C:\\Users\\asus\\AppData\\Local\\Temp\\ipykernel_24176\\2826740799.py:31: FutureWarning: Pass y=[ 0.          0.          0.         ... -0.16951357 -0.15997125\n",
      " -0.15550566], sr=22050 as keyword args. From version 0.10 passing these as positional arguments will result in an error\n",
      "  MFCCs = librosa.feature.mfcc(signal, sample_rate, n_mfcc=num_mfcc, n_fft=n_fft,\n"
     ]
    },
    {
     "name": "stdout",
     "output_type": "stream",
     "text": [
      "Dataset\\Ulu\\Recording_420.wav: 8\n",
      "Dataset\\Ulu\\Recording_421.wav: 8\n",
      "Dataset\\Ulu\\Recording_422.wav: 8\n"
     ]
    },
    {
     "name": "stderr",
     "output_type": "stream",
     "text": [
      "C:\\Users\\asus\\AppData\\Local\\Temp\\ipykernel_24176\\2826740799.py:31: FutureWarning: Pass y=[0.         0.         0.         ... 0.16217834 0.15865062 0.15459439], sr=22050 as keyword args. From version 0.10 passing these as positional arguments will result in an error\n",
      "  MFCCs = librosa.feature.mfcc(signal, sample_rate, n_mfcc=num_mfcc, n_fft=n_fft,\n",
      "C:\\Users\\asus\\AppData\\Local\\Temp\\ipykernel_24176\\2826740799.py:31: FutureWarning: Pass y=[0.         0.         0.         ... 0.17237136 0.17504914 0.17206581], sr=22050 as keyword args. From version 0.10 passing these as positional arguments will result in an error\n",
      "  MFCCs = librosa.feature.mfcc(signal, sample_rate, n_mfcc=num_mfcc, n_fft=n_fft,\n"
     ]
    },
    {
     "name": "stdout",
     "output_type": "stream",
     "text": [
      "Dataset\\Ulu\\Recording_423.wav: 8\n",
      "Dataset\\Ulu\\Recording_425.wav: 8\n"
     ]
    },
    {
     "name": "stderr",
     "output_type": "stream",
     "text": [
      "C:\\Users\\asus\\AppData\\Local\\Temp\\ipykernel_24176\\2826740799.py:31: FutureWarning: Pass y=[ 0.          0.          0.         ... -0.13542531 -0.1129759\n",
      " -0.08482929], sr=22050 as keyword args. From version 0.10 passing these as positional arguments will result in an error\n",
      "  MFCCs = librosa.feature.mfcc(signal, sample_rate, n_mfcc=num_mfcc, n_fft=n_fft,\n",
      "C:\\Users\\asus\\AppData\\Local\\Temp\\ipykernel_24176\\2826740799.py:31: FutureWarning: Pass y=[0.         0.         0.         ... 0.08401562 0.10988161 0.12961218], sr=22050 as keyword args. From version 0.10 passing these as positional arguments will result in an error\n",
      "  MFCCs = librosa.feature.mfcc(signal, sample_rate, n_mfcc=num_mfcc, n_fft=n_fft,\n"
     ]
    },
    {
     "name": "stdout",
     "output_type": "stream",
     "text": [
      "Dataset\\Ulu\\Recording_426.wav: 8\n",
      "Dataset\\Ulu\\Recording_427.wav: 8\n"
     ]
    },
    {
     "name": "stderr",
     "output_type": "stream",
     "text": [
      "C:\\Users\\asus\\AppData\\Local\\Temp\\ipykernel_24176\\2826740799.py:31: FutureWarning: Pass y=[0.         0.         0.         ... 0.10219786 0.07228298 0.04523851], sr=22050 as keyword args. From version 0.10 passing these as positional arguments will result in an error\n",
      "  MFCCs = librosa.feature.mfcc(signal, sample_rate, n_mfcc=num_mfcc, n_fft=n_fft,\n",
      "C:\\Users\\asus\\AppData\\Local\\Temp\\ipykernel_24176\\2826740799.py:31: FutureWarning: Pass y=[ 0.          0.          0.         ... -0.2399646  -0.26020917\n",
      " -0.2758604 ], sr=22050 as keyword args. From version 0.10 passing these as positional arguments will result in an error\n",
      "  MFCCs = librosa.feature.mfcc(signal, sample_rate, n_mfcc=num_mfcc, n_fft=n_fft,\n",
      "C:\\Users\\asus\\AppData\\Local\\Temp\\ipykernel_24176\\2826740799.py:31: FutureWarning: Pass y=[ 0.          0.          0.         ... -0.3447994  -0.34547496\n",
      " -0.34413767], sr=22050 as keyword args. From version 0.10 passing these as positional arguments will result in an error\n",
      "  MFCCs = librosa.feature.mfcc(signal, sample_rate, n_mfcc=num_mfcc, n_fft=n_fft,\n"
     ]
    },
    {
     "name": "stdout",
     "output_type": "stream",
     "text": [
      "Dataset\\Ulu\\Recording_428.wav: 8\n",
      "Dataset\\Ulu\\Recording_429.wav: 8\n",
      "Dataset\\Ulu\\Recording_430.wav: 8\n"
     ]
    },
    {
     "name": "stderr",
     "output_type": "stream",
     "text": [
      "C:\\Users\\asus\\AppData\\Local\\Temp\\ipykernel_24176\\2826740799.py:31: FutureWarning: Pass y=[0.         0.         0.         ... 0.05259254 0.08092852 0.0972058 ], sr=22050 as keyword args. From version 0.10 passing these as positional arguments will result in an error\n",
      "  MFCCs = librosa.feature.mfcc(signal, sample_rate, n_mfcc=num_mfcc, n_fft=n_fft,\n",
      "C:\\Users\\asus\\AppData\\Local\\Temp\\ipykernel_24176\\2826740799.py:31: FutureWarning: Pass y=[0.         0.         0.         ... 0.05338492 0.02412679 0.00138131], sr=22050 as keyword args. From version 0.10 passing these as positional arguments will result in an error\n",
      "  MFCCs = librosa.feature.mfcc(signal, sample_rate, n_mfcc=num_mfcc, n_fft=n_fft,\n",
      "C:\\Users\\asus\\AppData\\Local\\Temp\\ipykernel_24176\\2826740799.py:31: FutureWarning: Pass y=[0.         0.         0.         ... 0.2338136  0.1993848  0.16274716], sr=22050 as keyword args. From version 0.10 passing these as positional arguments will result in an error\n",
      "  MFCCs = librosa.feature.mfcc(signal, sample_rate, n_mfcc=num_mfcc, n_fft=n_fft,\n"
     ]
    },
    {
     "name": "stdout",
     "output_type": "stream",
     "text": [
      "Dataset\\Ulu\\Recording_431.wav: 8\n",
      "Dataset\\Ulu\\Recording_432.wav: 8\n",
      "Dataset\\Ulu\\Recording_433.wav: 8\n"
     ]
    },
    {
     "name": "stderr",
     "output_type": "stream",
     "text": [
      "C:\\Users\\asus\\AppData\\Local\\Temp\\ipykernel_24176\\2826740799.py:31: FutureWarning: Pass y=[0.         0.         0.         ... 0.21802986 0.21586606 0.21914016], sr=22050 as keyword args. From version 0.10 passing these as positional arguments will result in an error\n",
      "  MFCCs = librosa.feature.mfcc(signal, sample_rate, n_mfcc=num_mfcc, n_fft=n_fft,\n"
     ]
    },
    {
     "name": "stdout",
     "output_type": "stream",
     "text": [
      "Dataset\\Ulu\\Recording_434.wav: 8\n"
     ]
    }
   ],
   "source": [
    "preprocess_dataset(DATASET_PATH, JSON_PATH)"
   ]
  }
 ],
 "metadata": {
  "kernelspec": {
   "display_name": "tf",
   "language": "python",
   "name": "python3"
  },
  "language_info": {
   "codemirror_mode": {
    "name": "ipython",
    "version": 3
   },
   "file_extension": ".py",
   "mimetype": "text/x-python",
   "name": "python",
   "nbconvert_exporter": "python",
   "pygments_lexer": "ipython3",
   "version": "3.9.0"
  },
  "orig_nbformat": 4
 },
 "nbformat": 4,
 "nbformat_minor": 2
}
